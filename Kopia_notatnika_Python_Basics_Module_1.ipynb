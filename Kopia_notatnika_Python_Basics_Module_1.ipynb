{
  "cells": [
    {
      "cell_type": "markdown",
      "metadata": {
        "id": "view-in-github",
        "colab_type": "text"
      },
      "source": [
        "<a href=\"https://colab.research.google.com/github/AgataJK/Python_Excel_Automation/blob/main/Kopia_notatnika_Python_Basics_Module_1.ipynb\" target=\"_parent\"><img src=\"https://colab.research.google.com/assets/colab-badge.svg\" alt=\"Open In Colab\"/></a>"
      ]
    },
    {
      "cell_type": "markdown",
      "metadata": {
        "id": "ItZ8Qh9B16ek"
      },
      "source": [
        "This is a brief overview of basics concepts of Python programming"
      ]
    },
    {
      "cell_type": "markdown",
      "metadata": {
        "id": "y8Vyx71SCZGY"
      },
      "source": [
        "**Topics:**\n",
        "\n",
        "1. Syntax, comments, operations\n",
        "2. Workflow & Indentation\n",
        "3. True, False\n",
        "4. Conditions: IF, ELSE, ELIF\n",
        "5. Variable Types \n",
        "6. Lists\n",
        "7. Strings\n",
        "8. Tuples\n",
        "9. Dictionaries\n",
        "10. DataFrames\n",
        "11. Loops\n",
        "12. Functions\n",
        "\n",
        "\n",
        "\n"
      ]
    },
    {
      "cell_type": "markdown",
      "source": [
        "Helpfull links:\n",
        "\n",
        "\n",
        "\n",
        "*   https://www.datacamp.com/\n",
        "*   https://stackoverflow.com/\n",
        "*   https://www.w3schools.com/python/default.asp\n",
        "*   https://pynative.com/python/\n",
        "*   https://www.programiz.com/python-programming\n",
        "\n",
        "\n"
      ],
      "metadata": {
        "id": "gz83JTQVHJVk"
      }
    },
    {
      "cell_type": "markdown",
      "metadata": {
        "id": "UyZje8VICleI"
      },
      "source": [
        "# 1.&nbsp;Syntax"
      ]
    },
    {
      "cell_type": "code",
      "execution_count": null,
      "metadata": {
        "id": "-j4USlfaCzNh"
      },
      "outputs": [],
      "source": [
        "# Comment\n",
        "\n",
        "# This is a comment !"
      ]
    },
    {
      "cell_type": "markdown",
      "source": [
        "Function"
      ],
      "metadata": {
        "id": "liSOdcBXIqEc"
      }
    },
    {
      "cell_type": "code",
      "source": [
        "# this function called print()\n",
        "\n",
        "print()"
      ],
      "metadata": {
        "id": "LRcfx6_vIveg",
        "outputId": "973ea2ec-89dd-4a2b-cc02-de6451b824fe",
        "colab": {
          "base_uri": "https://localhost:8080/"
        }
      },
      "execution_count": null,
      "outputs": [
        {
          "output_type": "stream",
          "name": "stdout",
          "text": [
            "\n"
          ]
        }
      ]
    },
    {
      "cell_type": "markdown",
      "source": [
        "The *print()* function prints the specified message to the screen, or other standard output device.\n",
        "\n",
        "The message can be a string, or any other object, the object will be converted into a string before written to the screen."
      ],
      "metadata": {
        "id": "SbxPjINSrWoH"
      }
    },
    {
      "cell_type": "code",
      "execution_count": null,
      "metadata": {
        "id": "1EED_IDgCn85",
        "outputId": "f2102052-c53f-4f9b-f627-3e16bc0cf436",
        "colab": {
          "base_uri": "https://localhost:8080/"
        }
      },
      "outputs": [
        {
          "output_type": "stream",
          "name": "stdout",
          "text": [
            "Hello world\n"
          ]
        }
      ],
      "source": [
        "# to display the string 'Hello world' use the function print()\n",
        "\n",
        "# as Hello world is a string you have to add single or double quotations marks\n",
        "\n",
        "print('Hello world')"
      ]
    },
    {
      "cell_type": "code",
      "execution_count": null,
      "metadata": {
        "id": "9U7laFcWDHKQ",
        "outputId": "392e81c3-98ef-4c1a-8f95-88f9d4d9f6bd",
        "colab": {
          "base_uri": "https://localhost:8080/"
        }
      },
      "outputs": [
        {
          "output_type": "stream",
          "name": "stdout",
          "text": [
            "2\n"
          ]
        }
      ],
      "source": [
        "# numbers\n",
        "\n",
        "print(2)"
      ]
    },
    {
      "cell_type": "code",
      "execution_count": null,
      "metadata": {
        "id": "2tl2osBcCwqx",
        "outputId": "844955a2-e548-476a-e52e-32ed5f84e861",
        "colab": {
          "base_uri": "https://localhost:8080/"
        }
      },
      "outputs": [
        {
          "output_type": "stream",
          "name": "stdout",
          "text": [
            "5\n"
          ]
        }
      ],
      "source": [
        "# operations / calculation\n",
        "\n",
        "print(2+3)"
      ]
    },
    {
      "cell_type": "code",
      "source": [
        "2+3"
      ],
      "metadata": {
        "id": "UIb69VacKr5g",
        "outputId": "a07f233d-77f5-40b4-e984-1e9dcbdb8186",
        "colab": {
          "base_uri": "https://localhost:8080/"
        }
      },
      "execution_count": null,
      "outputs": [
        {
          "output_type": "execute_result",
          "data": {
            "text/plain": [
              "5"
            ]
          },
          "metadata": {},
          "execution_count": 46
        }
      ]
    },
    {
      "cell_type": "code",
      "source": [
        "2+4\n",
        "print(2+3)\n",
        "print(1*8)"
      ],
      "metadata": {
        "id": "-FJFYI2LLe8V",
        "outputId": "72ce6d1a-ed4b-49fe-f373-c6dd6888cdde",
        "colab": {
          "base_uri": "https://localhost:8080/"
        }
      },
      "execution_count": null,
      "outputs": [
        {
          "output_type": "stream",
          "name": "stdout",
          "text": [
            "5\n",
            "8\n"
          ]
        }
      ]
    },
    {
      "cell_type": "code",
      "execution_count": null,
      "metadata": {
        "id": "d9dgKKRhDJGV",
        "outputId": "70ae740b-6a1e-4e6d-ea44-a0e16f696598",
        "colab": {
          "base_uri": "https://localhost:8080/"
        }
      },
      "outputs": [
        {
          "output_type": "stream",
          "name": "stdout",
          "text": [
            "This is a string\n",
            "This is a string\n"
          ]
        }
      ],
      "source": [
        "# string/text ==> quotation marks: single or double\n",
        "\n",
        "print('This is a string')\n",
        "print(\"This is a string\")"
      ]
    },
    {
      "cell_type": "code",
      "execution_count": null,
      "metadata": {
        "id": "Wyr2-8pnDQmw",
        "outputId": "317410d3-c446-44c2-f43d-9b4abd24c7a0",
        "colab": {
          "base_uri": "https://localhost:8080/"
        }
      },
      "outputs": [
        {
          "output_type": "stream",
          "name": "stdout",
          "text": [
            "2\n",
            "3\n",
            "2 3\n"
          ]
        }
      ],
      "source": [
        "# variables\n",
        "\n",
        "# to assign a value use the symbol =\n",
        "# assign a numerical variables\n",
        "\n",
        "x = 2\n",
        "y = 3\n",
        "\n",
        "print(x)\n",
        "print(y)\n",
        "print(x, y)"
      ]
    },
    {
      "cell_type": "code",
      "execution_count": null,
      "metadata": {
        "id": "pM5wsL-3DcDs",
        "outputId": "14c3ac83-e02c-4904-a89e-eec9e71203b4",
        "colab": {
          "base_uri": "https://localhost:8080/"
        }
      },
      "outputs": [
        {
          "output_type": "execute_result",
          "data": {
            "text/plain": [
              "5"
            ]
          },
          "metadata": {},
          "execution_count": 50
        }
      ],
      "source": [
        "# make operations with assigned variables\n",
        "\n",
        "x+y"
      ]
    },
    {
      "cell_type": "code",
      "source": [
        "# assign a 'text' value to a variable\n",
        "# make operations with strings\n",
        "\n",
        "string1='love'\n",
        "string2='data'\n",
        "\n",
        "print(string1)\n",
        "print(string2)\n",
        "\n",
        "# concatenate them\n",
        "print(string1 + string2)"
      ],
      "metadata": {
        "id": "-qkRXhjWz393",
        "outputId": "22c66719-4e3e-490d-fdad-cbf487727518",
        "colab": {
          "base_uri": "https://localhost:8080/"
        }
      },
      "execution_count": null,
      "outputs": [
        {
          "output_type": "stream",
          "name": "stdout",
          "text": [
            "love\n",
            "data\n",
            "lovedata\n"
          ]
        }
      ]
    },
    {
      "cell_type": "code",
      "source": [
        "# add a space\n",
        "print(string1 + ' ' + string2)"
      ],
      "metadata": {
        "id": "VAxYSLO6MHsJ",
        "outputId": "d795142d-2f36-4d57-8516-1898307818fe",
        "colab": {
          "base_uri": "https://localhost:8080/"
        }
      },
      "execution_count": null,
      "outputs": [
        {
          "output_type": "stream",
          "name": "stdout",
          "text": [
            "love data\n"
          ]
        }
      ]
    },
    {
      "cell_type": "markdown",
      "source": [
        "# 2.&nbsp;Workflow & Indentation"
      ],
      "metadata": {
        "id": "yDHbUKWR6rEq"
      }
    },
    {
      "cell_type": "markdown",
      "source": [
        "Workflow is the series of activities that are necessary to complete a task"
      ],
      "metadata": {
        "id": "KvnMKa6Q6Vog"
      }
    },
    {
      "cell_type": "markdown",
      "source": [
        "Indentation refers to the spaces at the beginning of a code line.\n",
        "\n",
        "Where in other programming languages the indentation in code is for readability only, the indentation in Python is very important.\n",
        "\n",
        "Python uses indentation to indicate a block of code. The standard Python indentation is 4 spaces, although tabs and any other space size will work, as long as it is consistent. \n",
        "\n",
        "\n"
      ],
      "metadata": {
        "id": "RFVAV3c_6pSF"
      }
    },
    {
      "cell_type": "code",
      "source": [
        "# Python will give you an error if you skip the indentation:\n",
        "\n",
        "a=5\n",
        "b=2\n",
        "\n",
        "'''\n",
        "if a > b:\n",
        "print(\"a is greater than b !\")'''"
      ],
      "metadata": {
        "id": "wwiv1Tb47B86",
        "outputId": "cc8d133c-1d12-457d-9022-40003f7f7f41",
        "colab": {
          "base_uri": "https://localhost:8080/",
          "height": 35
        }
      },
      "execution_count": null,
      "outputs": [
        {
          "output_type": "execute_result",
          "data": {
            "text/plain": [
              "'\\nif a > b:\\nprint(\"a is greater than b !\")'"
            ],
            "application/vnd.google.colaboratory.intrinsic+json": {
              "type": "string"
            }
          },
          "metadata": {},
          "execution_count": 53
        }
      ]
    },
    {
      "cell_type": "code",
      "source": [
        "# the correct way to use indentation\n",
        "# ends with a colon (:)\n",
        "\n",
        "a=5\n",
        "\n",
        "b=2\n",
        "\n",
        "if a > b:\n",
        "  print(\"a is greater than b ! \")"
      ],
      "metadata": {
        "id": "32nwt5pG6om_",
        "outputId": "4d384057-9ecc-4a66-d96e-d6aa1171f983",
        "colab": {
          "base_uri": "https://localhost:8080/"
        }
      },
      "execution_count": null,
      "outputs": [
        {
          "output_type": "stream",
          "name": "stdout",
          "text": [
            "a is greater than b ! \n"
          ]
        }
      ]
    },
    {
      "cell_type": "markdown",
      "source": [
        "# 3.&nbsp;True, False"
      ],
      "metadata": {
        "id": "Ghvv-PtA8E3_"
      }
    },
    {
      "cell_type": "code",
      "source": [
        "# Boolean True, False\n",
        "\n",
        "# If a statement is correct then it will return True\n",
        "# IF the statement is NOT correct , it will return False\n",
        "# use == symbol\n",
        "\n",
        "a=1\n",
        "b=2\n",
        "c=1\n",
        "\n",
        "print(a==b)"
      ],
      "metadata": {
        "id": "yyqL-2dO7x38",
        "outputId": "dd2cc484-6d0a-4955-8575-edfa2fa402f2",
        "colab": {
          "base_uri": "https://localhost:8080/"
        }
      },
      "execution_count": null,
      "outputs": [
        {
          "output_type": "stream",
          "name": "stdout",
          "text": [
            "False\n"
          ]
        }
      ]
    },
    {
      "cell_type": "code",
      "source": [
        "var_1 = 2\n",
        "print(var_1)"
      ],
      "metadata": {
        "id": "x1foPZNrlPXx",
        "outputId": "3aea8f34-71fd-454c-eefe-c3ed91dc7e45",
        "colab": {
          "base_uri": "https://localhost:8080/"
        }
      },
      "execution_count": null,
      "outputs": [
        {
          "output_type": "stream",
          "name": "stdout",
          "text": [
            "2\n"
          ]
        }
      ]
    },
    {
      "cell_type": "code",
      "source": [
        "print(a==c)"
      ],
      "metadata": {
        "id": "qcV_vGkY8pZk",
        "outputId": "512c68ef-edc8-4dcb-e6ef-eb02bcd39cb1",
        "colab": {
          "base_uri": "https://localhost:8080/"
        }
      },
      "execution_count": null,
      "outputs": [
        {
          "output_type": "stream",
          "name": "stdout",
          "text": [
            "True\n"
          ]
        }
      ]
    },
    {
      "cell_type": "markdown",
      "source": [
        "# 4.&nbsp; Condition: IF, ELSE, ELIF"
      ],
      "metadata": {
        "id": "jhEHMTfE7o9K"
      }
    },
    {
      "cell_type": "code",
      "execution_count": null,
      "metadata": {
        "id": "a6UxeOH3DdZb",
        "outputId": "dc28a490-8026-45b7-8338-e5a461057f05",
        "colab": {
          "base_uri": "https://localhost:8080/"
        }
      },
      "outputs": [
        {
          "output_type": "stream",
          "name": "stdout",
          "text": [
            "x is grater then 0\n"
          ]
        }
      ],
      "source": [
        "# IF the statement is true then..do something\n",
        "\n",
        "x = 1\n",
        "\n",
        "if x > 0:\n",
        "  print('x is grater then 0')"
      ]
    },
    {
      "cell_type": "code",
      "execution_count": null,
      "metadata": {
        "id": "NBBxbc7FD6OU"
      },
      "outputs": [],
      "source": [
        "x = -2\n",
        "\n",
        "if x > 0:\n",
        "  print('x is greater then 0')"
      ]
    },
    {
      "cell_type": "code",
      "execution_count": null,
      "metadata": {
        "id": "anr0MY6ND8SS",
        "outputId": "c7f0fb6a-a0b4-4e2e-de99-970909f6a1d3",
        "colab": {
          "base_uri": "https://localhost:8080/"
        }
      },
      "outputs": [
        {
          "output_type": "stream",
          "name": "stdout",
          "text": [
            "x is less then 0\n"
          ]
        }
      ],
      "source": [
        "# IF the statement is true then..do something, ELSE otherwise do something else\n",
        "\n",
        "x= -5\n",
        "\n",
        "if x>0:\n",
        "  print('x is grater then 0')\n",
        "else:\n",
        "  print('x is less then 0')\n"
      ]
    },
    {
      "cell_type": "code",
      "execution_count": null,
      "metadata": {
        "id": "W5dMiQ1uEHul",
        "outputId": "52afd37b-6761-46cd-f609-8b50ded01ea0",
        "colab": {
          "base_uri": "https://localhost:8080/"
        }
      },
      "outputs": [
        {
          "output_type": "stream",
          "name": "stdout",
          "text": [
            "x is less then 0\n"
          ]
        }
      ],
      "source": [
        "x=0\n",
        "\n",
        "if x>0:\n",
        "  print('x is grater then 0')\n",
        "else:\n",
        "  print('x is less then 0')\n"
      ]
    },
    {
      "cell_type": "code",
      "execution_count": null,
      "metadata": {
        "id": "BfmAv-flEjNn",
        "outputId": "1bb349ac-7e34-4064-ed8c-ce5870d52af3",
        "colab": {
          "base_uri": "https://localhost:8080/"
        }
      },
      "outputs": [
        {
          "output_type": "stream",
          "name": "stdout",
          "text": [
            "x is zqual to 0\n"
          ]
        }
      ],
      "source": [
        "x = 0\n",
        "\n",
        "if x>0:\n",
        "  print('x is grater then 0')\n",
        "elif x==0:\n",
        "  print('x is zqual to 0')\n",
        "else:\n",
        "  print('x is less then 0')\n"
      ]
    },
    {
      "cell_type": "markdown",
      "source": [
        "## IF, ELIF, ELSE Practice ***\n",
        "\n",
        "Write a code to return the evaluation of a variable called \"grade\". \n",
        "The grade has to be a numerical variable from 1 to 10.\n",
        ">If the grade is below 5 return \"You failed\".\n",
        "\n",
        ">If the grade is between 5 and 8 included return \"You passed\"\n",
        "\n",
        ">If the grade is over 8 then return \"You excelled\"\n",
        "\n",
        "Hint:\n",
        "\n",
        "\n",
        "1.   create a variable called grade, and give it a randome value from 1 to 10\n",
        "2.   Then imagine possible scenarios of what value that variable can get, to correctly use IF, ELIF, ELSE\n",
        "\n",
        "grade = ???\n",
        "\n",
        "if grade ??? 5:\n",
        "\n",
        "____print(????)\n",
        "\n",
        "elif grade ??? 5 and ????:\n",
        "\n",
        "____print(????)\n",
        "\n",
        "else:\n",
        "____???? \n",
        "\n",
        "\n",
        "\n"
      ],
      "metadata": {
        "id": "Krs-SXVzB5Kp"
      }
    },
    {
      "cell_type": "markdown",
      "source": [
        "In order to better understand how to work with IF, ELIF, ELSE, please try to write by yourself the code for the following tasks.\n",
        "\n",
        "If you don't figure out how to do it, or you just want to check if you got the right solution, just click the arrow next to \"Display Solution\" and click on \"Run button\" to execute the code"
      ],
      "metadata": {
        "id": "PisGGzmnGI7K"
      }
    },
    {
      "cell_type": "code",
      "source": [],
      "metadata": {
        "id": "hY75hckiiNhH"
      },
      "execution_count": null,
      "outputs": []
    },
    {
      "cell_type": "code",
      "source": [
        "#  return the evaluation of a variable called \"grade\". The grade has to be a numerical variable from 1 to 10.\n",
        "\n",
        "# create a variable 'grade' and assign a random value from 1 to 10\n",
        "\n",
        "# use IF, ELIF, ELSE statements\n",
        "\n",
        "### If the grade is below 5 return \"You failed\".\n",
        "\n",
        "### If the grade is between 5 and 8 included return \"You passed\"\n",
        "\n",
        "##  If the grade is over 8 then return \"You excelled\"\n",
        "\n",
        "\n",
        "\n",
        "# your code here ..."
      ],
      "metadata": {
        "id": "SPc_ZtjjGdAU"
      },
      "execution_count": null,
      "outputs": []
    },
    {
      "cell_type": "code",
      "source": [
        "#@title Display the solution \n",
        "\n",
        "#  return the evaluation of a variable called \"grade\". The grade has to be a numerical variable from 1 to 10.\n",
        "\n",
        "# create a variable 'grade' and assign a random value from 1 to 10\n",
        "\n",
        "grade = 8\n",
        "\n",
        "if grade < 5:\n",
        "  print('You failed')\n",
        "elif grade >= 5 and grade <=8:\n",
        "  print('You passed')\n",
        "else:\n",
        "  print('You excelled')"
      ],
      "metadata": {
        "id": "UGZVe8bA5NLE",
        "cellView": "form",
        "outputId": "24bf08a8-0d4f-4a7f-a11f-d055b863f7fd",
        "colab": {
          "base_uri": "https://localhost:8080/"
        }
      },
      "execution_count": null,
      "outputs": [
        {
          "output_type": "stream",
          "name": "stdout",
          "text": [
            "You passed\n"
          ]
        }
      ]
    },
    {
      "cell_type": "markdown",
      "metadata": {
        "id": "BIG_swA1FbTA"
      },
      "source": [
        "# 5.&nbsp;Variable types"
      ]
    },
    {
      "cell_type": "markdown",
      "source": [
        "## Integer"
      ],
      "metadata": {
        "id": "tFIFcXo4G6lY"
      }
    },
    {
      "cell_type": "code",
      "execution_count": null,
      "metadata": {
        "id": "0ICbAeHDFgON",
        "outputId": "986b2612-1bef-495d-f53f-cf258900a01c",
        "colab": {
          "base_uri": "https://localhost:8080/"
        }
      },
      "outputs": [
        {
          "output_type": "stream",
          "name": "stdout",
          "text": [
            "<class 'int'>\n"
          ]
        }
      ],
      "source": [
        "# integer\n",
        "age = 7\n",
        "print(type(age))"
      ]
    },
    {
      "cell_type": "markdown",
      "source": [
        "##Float"
      ],
      "metadata": {
        "id": "__n8FPACG86I"
      }
    },
    {
      "cell_type": "code",
      "source": [
        "var_1 = '7.5'\n",
        "var_1"
      ],
      "metadata": {
        "id": "bXy5pi4L10ZP",
        "outputId": "f31c8ecb-522c-4579-9ea3-ece9af2d1c01",
        "colab": {
          "base_uri": "https://localhost:8080/",
          "height": 35
        }
      },
      "execution_count": null,
      "outputs": [
        {
          "output_type": "execute_result",
          "data": {
            "text/plain": [
              "'7.5'"
            ],
            "application/vnd.google.colaboratory.intrinsic+json": {
              "type": "string"
            }
          },
          "metadata": {},
          "execution_count": 66
        }
      ]
    },
    {
      "cell_type": "code",
      "execution_count": null,
      "metadata": {
        "id": "LqbLd6yQGGg8",
        "outputId": "49bcd388-dabb-437b-f92b-6b5dec7708ef",
        "colab": {
          "base_uri": "https://localhost:8080/"
        }
      },
      "outputs": [
        {
          "output_type": "stream",
          "name": "stdout",
          "text": [
            "<class 'float'>\n",
            "7.5\n"
          ]
        }
      ],
      "source": [
        "# float\n",
        "age = 7.5\n",
        "print(type(age))\n",
        "print(age)"
      ]
    },
    {
      "cell_type": "markdown",
      "source": [
        "## String"
      ],
      "metadata": {
        "id": "r0Ky2ZlTG_9u"
      }
    },
    {
      "cell_type": "code",
      "execution_count": null,
      "metadata": {
        "id": "LiP3qLRcF5MP",
        "outputId": "23f47c5f-213a-410a-9949-75f0448728b3",
        "colab": {
          "base_uri": "https://localhost:8080/"
        }
      },
      "outputs": [
        {
          "output_type": "stream",
          "name": "stdout",
          "text": [
            "Jessica\n",
            "<class 'str'>\n"
          ]
        }
      ],
      "source": [
        "# str\n",
        "name = \"Jessica\"\n",
        "print(name)\n",
        "print(type(name))"
      ]
    },
    {
      "cell_type": "code",
      "execution_count": null,
      "metadata": {
        "id": "BdS6G_aJ4mMe",
        "outputId": "2b9df6d2-3491-4eb2-c9fb-c4822893a8dc",
        "colab": {
          "base_uri": "https://localhost:8080/"
        }
      },
      "outputs": [
        {
          "output_type": "stream",
          "name": "stdout",
          "text": [
            "the type of pi_string variable:  <class 'str'>\n",
            "the value of pi_string variable:  3.1415926\n",
            "\n"
          ]
        }
      ],
      "source": [
        "# Definition of pi_string\n",
        "pi_string = \"3.1415926\"\n",
        "print('the type of pi_string variable: ', type(pi_string))\n",
        "print('the value of pi_string variable: ', pi_string)\n",
        "print('')\n",
        "\n"
      ]
    },
    {
      "cell_type": "code",
      "source": [
        "# convert string to float\n",
        "pi_float= float(pi_string)\n",
        "print('the type of pi_float variable: ', type(pi_float))\n",
        "print('the value of pi_float variable: ', pi_float)\n",
        "print('')\n",
        "\n"
      ],
      "metadata": {
        "id": "W40ZiUzqUX68",
        "outputId": "47c707a7-7805-4d34-ebec-d87742f9c7b2",
        "colab": {
          "base_uri": "https://localhost:8080/"
        }
      },
      "execution_count": null,
      "outputs": [
        {
          "output_type": "stream",
          "name": "stdout",
          "text": [
            "the type of pi_float variable:  <class 'float'>\n",
            "the value of pi_float variable:  3.1415926\n",
            "\n"
          ]
        }
      ]
    },
    {
      "cell_type": "code",
      "source": [
        "# convert float to integer\n",
        "pi_int= int(pi_float)\n",
        "print('the type of pi_int variable: ', type(pi_int))\n",
        "print('the value of pi_int variable: ', pi_int)\n",
        "print('')"
      ],
      "metadata": {
        "id": "klj49EnvUZad",
        "outputId": "d473bc3e-5fb2-44fb-a7d0-6f6d3dbaac5b",
        "colab": {
          "base_uri": "https://localhost:8080/"
        }
      },
      "execution_count": null,
      "outputs": [
        {
          "output_type": "stream",
          "name": "stdout",
          "text": [
            "the type of pi_int variable:  <class 'int'>\n",
            "the value of pi_int variable:  3\n",
            "\n"
          ]
        }
      ]
    },
    {
      "cell_type": "code",
      "source": [
        "var_float = round(3.6, 0)\n",
        "int(var_float)"
      ],
      "metadata": {
        "id": "uwI6KkCnqsug",
        "outputId": "0c8af408-f16c-43d2-e3a9-54bfef11a07d",
        "colab": {
          "base_uri": "https://localhost:8080/"
        }
      },
      "execution_count": null,
      "outputs": [
        {
          "output_type": "execute_result",
          "data": {
            "text/plain": [
              "4"
            ]
          },
          "metadata": {},
          "execution_count": 72
        }
      ]
    },
    {
      "cell_type": "markdown",
      "source": [
        "More about convertion of string and int\n",
        "https://realpython.com/convert-python-string-to-int/"
      ],
      "metadata": {
        "id": "nmKufxbPI9Na"
      }
    },
    {
      "cell_type": "markdown",
      "source": [
        "##Tuple"
      ],
      "metadata": {
        "id": "yF9kwxHAHDKg"
      }
    },
    {
      "cell_type": "code",
      "execution_count": null,
      "metadata": {
        "id": "T4jrai7pF-Og",
        "outputId": "9be8c797-3783-4ac0-e9be-ca60c5b62868",
        "colab": {
          "base_uri": "https://localhost:8080/"
        }
      },
      "outputs": [
        {
          "output_type": "stream",
          "name": "stdout",
          "text": [
            "('Jessica', 7.5)\n",
            "<class 'tuple'>\n"
          ]
        }
      ],
      "source": [
        "# tuple\n",
        "name_age = (name, age)\n",
        "print(name_age)\n",
        "print(type(name_age))"
      ]
    },
    {
      "cell_type": "markdown",
      "source": [
        "## Date"
      ],
      "metadata": {
        "id": "gsOtlqqEHFFf"
      }
    },
    {
      "cell_type": "code",
      "execution_count": null,
      "metadata": {
        "id": "yPDOQZXwGZHM",
        "outputId": "1b8b789f-1ca7-4dce-f53e-fc643a16597d",
        "colab": {
          "base_uri": "https://localhost:8080/"
        }
      },
      "outputs": [
        {
          "output_type": "stream",
          "name": "stdout",
          "text": [
            "2022-12-31\n",
            "<class 'str'>\n"
          ]
        }
      ],
      "source": [
        "# date\n",
        "date = '2022-12-31' # separated by hyphens\n",
        "print(date)\n",
        "print(type(date))"
      ]
    },
    {
      "cell_type": "code",
      "source": [
        "# To manipulate dates in Python ...\n",
        "# we need to import datetime package from datetime module ( very important !!! )\n",
        "\n",
        "from datetime import datetime"
      ],
      "metadata": {
        "id": "QhYhHsrosnqe"
      },
      "execution_count": null,
      "outputs": []
    },
    {
      "cell_type": "code",
      "source": [
        "# to convert the string into a date object...\n",
        "\n",
        "# with .strptime method  we tell Python how to read the string, by specifying which part is the year (%Y), month (%m), day (%d), \n",
        "# all separated by hyphen '%Y-%m-%d'\n",
        "\n",
        "date = datetime.strptime(date, '%Y-%m-%d')\n",
        "\n",
        "print(date)\n",
        "print(type(date))\n"
      ],
      "metadata": {
        "id": "L_ki3poOq-9b",
        "outputId": "b1d15ccf-b39d-467a-b1f6-2041f935aad3",
        "colab": {
          "base_uri": "https://localhost:8080/"
        }
      },
      "execution_count": null,
      "outputs": [
        {
          "output_type": "stream",
          "name": "stdout",
          "text": [
            "2022-12-31 00:00:00\n",
            "<class 'datetime.datetime'>\n"
          ]
        }
      ]
    },
    {
      "cell_type": "code",
      "source": [
        "# if we want to omitt time (hous, minutes, seconds)\n",
        "\n",
        "# to convert the string into a date object...\n",
        "\n",
        "# with .strptime method  we tell Python how to read the string, by specifying which part is the year (%Y), month (%m), day (%d), \n",
        "# all separated by hyphen '%Y-%m-%d'\n",
        "\n",
        "# we need to add .date() in the end, to tell python to convert it to date\n",
        "\n",
        "date = '2022-12-31' # separated by hyphens\n",
        "\n",
        "date = datetime.strptime(date, '%Y-%m-%d').date()\n",
        "\n",
        "print(date)\n",
        "print(type(date))\n",
        "\n"
      ],
      "metadata": {
        "id": "aV28-ZDD5IXZ",
        "outputId": "60ccc70b-0b41-4314-c405-946c714f72a7",
        "colab": {
          "base_uri": "https://localhost:8080/"
        }
      },
      "execution_count": null,
      "outputs": [
        {
          "output_type": "stream",
          "name": "stdout",
          "text": [
            "2022-12-31\n",
            "<class 'datetime.date'>\n"
          ]
        }
      ]
    },
    {
      "cell_type": "code",
      "execution_count": null,
      "metadata": {
        "id": "Gq7qbSFhGrn-",
        "outputId": "9577d01a-44a1-40eb-f8b6-aa9fd9912c0e",
        "colab": {
          "base_uri": "https://localhost:8080/"
        }
      },
      "outputs": [
        {
          "output_type": "stream",
          "name": "stdout",
          "text": [
            "<class 'datetime.datetime'>\n",
            "2018-09-19 13:55:26\n"
          ]
        }
      ],
      "source": [
        "# to convert a string that have date + time (hours, minutes, seconds...)\n",
        "# we need to tell python that the 1st bit of the string is the month, separated by a slash, \n",
        "# then day, \n",
        "# then year (with format %y, meaning 18 instead of 2018)\n",
        "# the hours, (%H) separated by :\n",
        "# then minutes, (%M) separated by :\n",
        "# the seconds, (%S)\n",
        "\n",
        "datetime_time = '09/19/18 13:55:26'\n",
        "\n",
        "datetime_time = datetime.strptime(datetime_time, '%m/%d/%y %H:%M:%S')\n",
        "\n",
        "print(type(datetime_time))\n",
        "print(datetime_time)  # printed in default format"
      ]
    },
    {
      "cell_type": "code",
      "source": [
        "# Print the date in the format 'YYYY-MM'\n",
        "\n",
        "# our datetime_time variable is already perceived as a date by Python...\n",
        "\n",
        "\n",
        "print(datetime_time.strftime('%Y/%m'))"
      ],
      "metadata": {
        "id": "6FCkTBmppZQh",
        "outputId": "e09674c8-fa9c-4c08-a54a-b8c465205e56",
        "colab": {
          "base_uri": "https://localhost:8080/"
        }
      },
      "execution_count": null,
      "outputs": [
        {
          "output_type": "stream",
          "name": "stdout",
          "text": [
            "2018/09\n"
          ]
        }
      ]
    },
    {
      "cell_type": "code",
      "source": [
        "# if we want the month first and then the year\n",
        "print(datetime_time.strftime('%m-%Y'))"
      ],
      "metadata": {
        "id": "Kle7LCEI_9rb",
        "outputId": "8210a7e2-1bba-4a79-cf95-fc4c64cf5126",
        "colab": {
          "base_uri": "https://localhost:8080/"
        }
      },
      "execution_count": null,
      "outputs": [
        {
          "output_type": "stream",
          "name": "stdout",
          "text": [
            "09-2018\n"
          ]
        }
      ]
    },
    {
      "cell_type": "markdown",
      "source": [
        "The date conversions can be helpfull, as when working with excels, often, Python reads the dates as a string.\n",
        "\n",
        "So, you'll need to convert the strings that are supposed to be read as a date ...."
      ],
      "metadata": {
        "id": "Me8gk10A6CX8"
      }
    },
    {
      "cell_type": "code",
      "source": [
        "# ... But, Python allows you create a date from the start\n",
        "\n",
        "# to do so, you need to import package date from datetime module\n",
        "\n",
        "from datetime import date\n",
        "\n",
        "anniversary_date = date(1992, 8, 24) # year, month, day\n",
        "print(anniversary_date)\n",
        "print(type(anniversary_date))"
      ],
      "metadata": {
        "id": "Ofxog2KK5_eo",
        "outputId": "a290a249-f104-4823-8def-e907a58ab2b7",
        "colab": {
          "base_uri": "https://localhost:8080/"
        }
      },
      "execution_count": null,
      "outputs": [
        {
          "output_type": "stream",
          "name": "stdout",
          "text": [
            "1992-08-24\n",
            "<class 'datetime.date'>\n"
          ]
        }
      ]
    },
    {
      "cell_type": "markdown",
      "source": [
        "More about date conversion\n",
        "https://www.digitalocean.com/community/tutorials/python-string-to-datetime-strptime\n",
        "\n",
        "More about dates https://www.w3schools.com/python/python_datetime.asp\n",
        "\n",
        "More about date and time manipulation https://www.programiz.com/python-programming/datetime\n",
        "\n",
        "How to format dates https://www.geeksforgeeks.org/how-to-format-date-using-strftime-in-python/\n",
        "\n",
        "Practice dates https://campus.datacamp.com/courses/working-with-dates-and-times-in-python/dates-and-calendars?ex=1"
      ],
      "metadata": {
        "id": "Nw6iK08OJQnX"
      }
    },
    {
      "cell_type": "markdown",
      "metadata": {
        "id": "NjB4qFKcJrjh"
      },
      "source": [
        "# 6.&nbsp;Lists"
      ]
    },
    {
      "cell_type": "markdown",
      "source": [
        "Lists are used to store multiple items in a single variable."
      ],
      "metadata": {
        "id": "3iihaoGCxjUM"
      }
    },
    {
      "cell_type": "markdown",
      "source": [
        "More about lists https://www.w3schools.com/python/python_lists.asp"
      ],
      "metadata": {
        "id": "62gzT1Qkz7CO"
      }
    },
    {
      "cell_type": "markdown",
      "source": [
        "## List creation"
      ],
      "metadata": {
        "id": "YonfVue1LYmX"
      }
    },
    {
      "cell_type": "code",
      "source": [
        "# Using list constructor\n",
        "my_list1 = list((1, 2, 3))\n",
        "print(my_list1)"
      ],
      "metadata": {
        "id": "GTl4nyT3K9e_",
        "outputId": "92cb25eb-8c31-44c4-f1d7-de661f0c545f",
        "colab": {
          "base_uri": "https://localhost:8080/"
        }
      },
      "execution_count": null,
      "outputs": [
        {
          "output_type": "stream",
          "name": "stdout",
          "text": [
            "[1, 2, 3]\n"
          ]
        }
      ]
    },
    {
      "cell_type": "code",
      "execution_count": null,
      "metadata": {
        "id": "R53W5QqYJtFz",
        "outputId": "23f1b6af-fee8-4862-c69d-d78addd344ce",
        "colab": {
          "base_uri": "https://localhost:8080/"
        }
      },
      "outputs": [
        {
          "output_type": "stream",
          "name": "stdout",
          "text": [
            "the type of our_list <class 'list'>\n",
            "['a', 'b', 'c', 1, 1.5]\n"
          ]
        }
      ],
      "source": [
        "# create a list\n",
        "our_list = [\"a\",\"b\",\"c\", 1, 1.5]\n",
        "print('the type of our_list', type(our_list))\n",
        "print(our_list)"
      ]
    },
    {
      "cell_type": "markdown",
      "source": [
        "## Append an element"
      ],
      "metadata": {
        "id": "BvQyUPBdLcDg"
      }
    },
    {
      "cell_type": "code",
      "execution_count": null,
      "metadata": {
        "id": "qbDBvcLKJv89",
        "outputId": "0fdef592-daaa-4cd6-fc44-de59f42c9cf4",
        "colab": {
          "base_uri": "https://localhost:8080/"
        }
      },
      "outputs": [
        {
          "output_type": "stream",
          "name": "stdout",
          "text": [
            "['a', 'b', 'c', 1, 1.5, 'd']\n"
          ]
        }
      ],
      "source": [
        "# append an element to the list\n",
        "\n",
        "our_list.append(\"d\") # it will append 'd' at the end of the list\n",
        "print(our_list)"
      ]
    },
    {
      "cell_type": "markdown",
      "source": [
        "## Index and Slicing"
      ],
      "metadata": {
        "id": "VNNw5dTVLsQv"
      }
    },
    {
      "cell_type": "markdown",
      "source": [
        "The items in a list can be accessed through indexing and slicing. This section will guide you by accessing the list using the following two ways\n",
        "\n",
        "\n",
        "\n",
        "*   **Using indexing**, we can access any item from a list using its index number\n",
        "*   **Using slicing** , we can access a range of items from a list"
      ],
      "metadata": {
        "id": "E8UrdgcGMFEu"
      }
    },
    {
      "cell_type": "markdown",
      "source": [
        "Index"
      ],
      "metadata": {
        "id": "YaAEJS58NNUK"
      }
    },
    {
      "cell_type": "code",
      "execution_count": null,
      "metadata": {
        "id": "mxihBDedKIN1",
        "outputId": "adb195ed-d6ee-4ffb-c5e5-b5f92fa82f8c",
        "colab": {
          "base_uri": "https://localhost:8080/",
          "height": 35
        }
      },
      "outputs": [
        {
          "output_type": "execute_result",
          "data": {
            "text/plain": [
              "'a'"
            ],
            "application/vnd.google.colaboratory.intrinsic+json": {
              "type": "string"
            }
          },
          "metadata": {},
          "execution_count": 85
        }
      ],
      "source": [
        "# access element in the list\n",
        "\n",
        "# list indexing starts a 0\n",
        "\n",
        "# access first element in the list\n",
        "our_list[0]"
      ]
    },
    {
      "cell_type": "code",
      "execution_count": null,
      "metadata": {
        "id": "s2KS0Vy9KhJd",
        "outputId": "f24011b9-6752-4589-cdeb-618b00dc033b",
        "colab": {
          "base_uri": "https://localhost:8080/",
          "height": 35
        }
      },
      "outputs": [
        {
          "output_type": "execute_result",
          "data": {
            "text/plain": [
              "'d'"
            ],
            "application/vnd.google.colaboratory.intrinsic+json": {
              "type": "string"
            }
          },
          "metadata": {},
          "execution_count": 86
        }
      ],
      "source": [
        "# access last element in the list\n",
        "our_list[-1]"
      ]
    },
    {
      "cell_type": "code",
      "source": [
        "# negative index: the seconf element from the end of the list\n",
        "\n",
        "our_list[-2]"
      ],
      "metadata": {
        "id": "q6_N3_VOMyBp",
        "outputId": "f76bca3a-2054-4ccb-a168-badceb1d0106",
        "colab": {
          "base_uri": "https://localhost:8080/"
        }
      },
      "execution_count": null,
      "outputs": [
        {
          "output_type": "execute_result",
          "data": {
            "text/plain": [
              "1.5"
            ]
          },
          "metadata": {},
          "execution_count": 87
        }
      ]
    },
    {
      "cell_type": "code",
      "source": [
        "# access the 3rd element of the list\n",
        "\n",
        "print(our_list)\n",
        "our_list[2] # because our first index is 0"
      ],
      "metadata": {
        "id": "a24Xzhr6MfDG",
        "outputId": "3db4b489-2a23-4319-f10b-e1d9d50ebc75",
        "colab": {
          "base_uri": "https://localhost:8080/",
          "height": 52
        }
      },
      "execution_count": null,
      "outputs": [
        {
          "output_type": "stream",
          "name": "stdout",
          "text": [
            "['a', 'b', 'c', 1, 1.5, 'd']\n"
          ]
        },
        {
          "output_type": "execute_result",
          "data": {
            "text/plain": [
              "'c'"
            ],
            "application/vnd.google.colaboratory.intrinsic+json": {
              "type": "string"
            }
          },
          "metadata": {},
          "execution_count": 88
        }
      ]
    },
    {
      "cell_type": "markdown",
      "source": [
        "Slicing"
      ],
      "metadata": {
        "id": "P_qDJkWnNP9h"
      }
    },
    {
      "cell_type": "code",
      "source": [
        "# the first 2 elements\n",
        "\n",
        "print(our_list)\n",
        "print(our_list[2])\n",
        "our_list[:2] "
      ],
      "metadata": {
        "id": "Fr3S-xjsMs6h",
        "outputId": "5a0fadf0-2d89-4205-999e-4803b6b096b2",
        "colab": {
          "base_uri": "https://localhost:8080/"
        }
      },
      "execution_count": null,
      "outputs": [
        {
          "output_type": "stream",
          "name": "stdout",
          "text": [
            "['a', 'b', 'c', 1, 1.5, 'd']\n",
            "c\n"
          ]
        },
        {
          "output_type": "execute_result",
          "data": {
            "text/plain": [
              "['a', 'b']"
            ]
          },
          "metadata": {},
          "execution_count": 89
        }
      ]
    },
    {
      "cell_type": "code",
      "source": [
        "# Stating from 2nd item to last item ==> ['c', 1, 1.5, 'd']\n",
        "\n",
        "print(our_list)\n",
        "print(our_list[2:]) # not that here the lower limit is included"
      ],
      "metadata": {
        "id": "PwfDJYlPPkrk",
        "outputId": "638c391c-6c2a-466e-e498-ccefe7060f07",
        "colab": {
          "base_uri": "https://localhost:8080/"
        }
      },
      "execution_count": null,
      "outputs": [
        {
          "output_type": "stream",
          "name": "stdout",
          "text": [
            "['a', 'b', 'c', 1, 1.5, 'd']\n",
            "['c', 1, 1.5, 'd']\n"
          ]
        }
      ]
    },
    {
      "cell_type": "code",
      "source": [
        "# access the sublist c to 1.5 ==> ['c', 1, 1.5]\n",
        "\n",
        "print(our_list)\n",
        "print(our_list[2])\n",
        "print(our_list[4])\n"
      ],
      "metadata": {
        "id": "0opo7jc0NwYy",
        "outputId": "92a58759-f178-471c-df13-8791b8acf47b",
        "colab": {
          "base_uri": "https://localhost:8080/"
        }
      },
      "execution_count": null,
      "outputs": [
        {
          "output_type": "stream",
          "name": "stdout",
          "text": [
            "['a', 'b', 'c', 1, 1.5, 'd']\n",
            "c\n",
            "1.5\n"
          ]
        }
      ]
    },
    {
      "cell_type": "code",
      "source": [
        "our_list[2:4] # note that upper limit is not included"
      ],
      "metadata": {
        "id": "vPvF_0pfgvC4",
        "outputId": "60a6631c-8bab-41d9-c2fc-3703eae57a4d",
        "colab": {
          "base_uri": "https://localhost:8080/"
        }
      },
      "execution_count": null,
      "outputs": [
        {
          "output_type": "execute_result",
          "data": {
            "text/plain": [
              "['c', 1]"
            ]
          },
          "metadata": {},
          "execution_count": 92
        }
      ]
    },
    {
      "cell_type": "code",
      "source": [
        "our_list[2:5] # we have to add +1 to upper limit if we want to include 1.5"
      ],
      "metadata": {
        "id": "st8AYAIHgTGm",
        "outputId": "3342d7ca-42ce-445b-942e-14ad81d91f0f",
        "colab": {
          "base_uri": "https://localhost:8080/"
        }
      },
      "execution_count": null,
      "outputs": [
        {
          "output_type": "execute_result",
          "data": {
            "text/plain": [
              "['c', 1, 1.5]"
            ]
          },
          "metadata": {},
          "execution_count": 93
        }
      ]
    },
    {
      "cell_type": "markdown",
      "source": [
        "##Length"
      ],
      "metadata": {
        "id": "qSTSlqy6MbgR"
      }
    },
    {
      "cell_type": "code",
      "execution_count": null,
      "metadata": {
        "id": "ohnrobWmKV4p",
        "outputId": "cc145f99-d945-4480-96d4-75035693457c",
        "colab": {
          "base_uri": "https://localhost:8080/"
        }
      },
      "outputs": [
        {
          "output_type": "execute_result",
          "data": {
            "text/plain": [
              "6"
            ]
          },
          "metadata": {},
          "execution_count": 94
        }
      ],
      "source": [
        "# length of the list\n",
        "len(our_list)"
      ]
    },
    {
      "cell_type": "markdown",
      "source": [
        "## Insertions"
      ],
      "metadata": {
        "id": "_1NpXj6sYXwB"
      }
    },
    {
      "cell_type": "code",
      "execution_count": null,
      "metadata": {
        "id": "cf3_W70uJzK8",
        "outputId": "19937748-1460-4d22-821a-e224ddfe26a5",
        "colab": {
          "base_uri": "https://localhost:8080/"
        }
      },
      "outputs": [
        {
          "output_type": "stream",
          "name": "stdout",
          "text": [
            "['First element', 'a', 'b', 'c', 1, 1.5, 'd']\n"
          ]
        }
      ],
      "source": [
        "# insert an element in the list at 1st position\n",
        "\n",
        "our_list.insert(0, \"First element\") # instert before 1st element\n",
        "print(our_list)"
      ]
    },
    {
      "cell_type": "code",
      "execution_count": null,
      "metadata": {
        "id": "3iKzh86PKybY",
        "outputId": "dff3d56b-60db-4f7a-c198-57b48f02f475",
        "colab": {
          "base_uri": "https://localhost:8080/"
        }
      },
      "outputs": [
        {
          "output_type": "stream",
          "name": "stdout",
          "text": [
            "['First element', 'a', 'b', 'c', 1, 1.5, 'element', 'd']\n"
          ]
        }
      ],
      "source": [
        "# insert an element in the list before the last one\n",
        "\n",
        "our_list.insert(-1,\"element\") # instert before last element\n",
        "print(our_list)\n"
      ]
    },
    {
      "cell_type": "markdown",
      "source": [
        "## Remove"
      ],
      "metadata": {
        "id": "Xd9B-CAkZSfJ"
      }
    },
    {
      "cell_type": "code",
      "execution_count": null,
      "metadata": {
        "id": "Gb4Zet70J1Cd",
        "outputId": "1d0fb725-ebdd-49fe-e065-8420934a1fc2",
        "colab": {
          "base_uri": "https://localhost:8080/"
        }
      },
      "outputs": [
        {
          "output_type": "stream",
          "name": "stdout",
          "text": [
            "['a', 'b', 'c', 1, 1.5, 'element', 'd']\n"
          ]
        }
      ],
      "source": [
        "# remove element\n",
        "our_list.remove(\"First element\")\n",
        "print(our_list)\n"
      ]
    },
    {
      "cell_type": "code",
      "execution_count": null,
      "metadata": {
        "id": "mSalYk6YJ2sG",
        "outputId": "4a3ca453-5312-450b-aac6-41892088e28e",
        "colab": {
          "base_uri": "https://localhost:8080/"
        }
      },
      "outputs": [
        {
          "output_type": "stream",
          "name": "stdout",
          "text": [
            "['b', 'c', 1, 1.5, 'element', 'd']\n"
          ]
        }
      ],
      "source": [
        "# remove element by its index\n",
        "\n",
        "our_list.pop(0)\n",
        "print(our_list)\n"
      ]
    },
    {
      "cell_type": "markdown",
      "source": [
        "## Nested List"
      ],
      "metadata": {
        "id": "4uxmO7G7dBlm"
      }
    },
    {
      "cell_type": "code",
      "execution_count": null,
      "metadata": {
        "id": "MYHwxGC7J6i_",
        "outputId": "32cf49e6-84e9-4e19-ae74-91b19ef4d90e",
        "colab": {
          "base_uri": "https://localhost:8080/"
        }
      },
      "outputs": [
        {
          "output_type": "stream",
          "name": "stdout",
          "text": [
            "[[1, 2, 3], 6, 7, 5]\n"
          ]
        }
      ],
      "source": [
        "# we can have nested lists\n",
        "\n",
        "nested_list = [[1,2,3],6,7,5]\n",
        "print(nested_list)"
      ]
    },
    {
      "cell_type": "code",
      "execution_count": null,
      "metadata": {
        "id": "HoXeJgLULVYI",
        "outputId": "87a77183-dd76-4a20-cf57-acfed345371d",
        "colab": {
          "base_uri": "https://localhost:8080/"
        }
      },
      "outputs": [
        {
          "output_type": "execute_result",
          "data": {
            "text/plain": [
              "4"
            ]
          },
          "metadata": {},
          "execution_count": 100
        }
      ],
      "source": [
        "# length of nested ==> the list within my_list [1, 2, 3] will be considered a single element\n",
        "len(nested_list)"
      ]
    },
    {
      "cell_type": "code",
      "execution_count": null,
      "metadata": {
        "id": "lWfUBRmDLZ0i",
        "outputId": "bcfe3114-7549-48c9-acb6-9a4b4197556d",
        "colab": {
          "base_uri": "https://localhost:8080/"
        }
      },
      "outputs": [
        {
          "output_type": "execute_result",
          "data": {
            "text/plain": [
              "[1, 2, 3]"
            ]
          },
          "metadata": {},
          "execution_count": 101
        }
      ],
      "source": [
        "# access 1st element of nested list\n",
        "nested_list[0]"
      ]
    },
    {
      "cell_type": "code",
      "execution_count": null,
      "metadata": {
        "id": "OESQK8qeLi6z",
        "outputId": "7647ba04-27e6-4369-c58a-a0c916cbb385",
        "colab": {
          "base_uri": "https://localhost:8080/"
        }
      },
      "outputs": [
        {
          "output_type": "execute_result",
          "data": {
            "text/plain": [
              "6"
            ]
          },
          "metadata": {},
          "execution_count": 102
        }
      ],
      "source": [
        "# access 2nd element of nested list\n",
        "nested_list[1]"
      ]
    },
    {
      "cell_type": "code",
      "execution_count": null,
      "metadata": {
        "id": "0XjmRBPILf6J",
        "outputId": "c18460c2-4515-489a-d17b-8ea770ca86b9",
        "colab": {
          "base_uri": "https://localhost:8080/"
        }
      },
      "outputs": [
        {
          "output_type": "execute_result",
          "data": {
            "text/plain": [
              "2"
            ]
          },
          "metadata": {},
          "execution_count": 103
        }
      ],
      "source": [
        "# access an element from a list within the nested list 2\n",
        "nested_list[0][1]"
      ]
    },
    {
      "cell_type": "markdown",
      "source": [
        "More about lists https://pynative.com/python-lists/"
      ],
      "metadata": {
        "id": "tTIB5A1pKRJA"
      }
    },
    {
      "cell_type": "markdown",
      "source": [
        "## List Practice ***"
      ],
      "metadata": {
        "id": "3TRz4t_DVRLK"
      }
    },
    {
      "cell_type": "markdown",
      "source": [
        "In order to better understand how to work with lists, please try to write by yourself the code for the following tasks.\n",
        "\n",
        "If you don't figure out how to do it, or you just want to check if you got the right solution, just click the arrow next to \"Display Solution\" and click on \"Run button\" to execute the code"
      ],
      "metadata": {
        "id": "OxpelYw0350M"
      }
    },
    {
      "cell_type": "markdown",
      "source": [
        "### Assigment 1"
      ],
      "metadata": {
        "id": "FCk68AJIz8CW"
      }
    },
    {
      "cell_type": "code",
      "source": [
        "# Create a list called 'my_list' with elements 'John', 'Emma', 10, 5, 3, 'Daniel', 'Tom', 34, 30 and print it out\n",
        "\n",
        "# you code here ...\n",
        "\n"
      ],
      "metadata": {
        "id": "TpOMoqlb7eZG"
      },
      "execution_count": null,
      "outputs": []
    },
    {
      "cell_type": "code",
      "source": [
        "#@title Display the solution 1\n",
        "\n",
        "my_list= ['John', 'Emma', 10, 5, 3, 'Daniel', 'Tom', 34, 30]\n",
        "print(my_list)\n"
      ],
      "metadata": {
        "cellView": "form",
        "id": "f2kwHEt27X8Z",
        "outputId": "a2ed8504-f11e-4fe5-a10b-8c937d142b67",
        "colab": {
          "base_uri": "https://localhost:8080/"
        }
      },
      "execution_count": null,
      "outputs": [
        {
          "output_type": "stream",
          "name": "stdout",
          "text": [
            "['John', 'Emma', 10, 5, 3, 'Daniel', 'Tom', 34, 30]\n"
          ]
        }
      ]
    },
    {
      "cell_type": "markdown",
      "source": [
        "### Assigment 2"
      ],
      "metadata": {
        "id": "hMa2u4uy0GlN"
      }
    },
    {
      "cell_type": "code",
      "source": [
        "# Write a code to check how many element my_list have (the lengh of my_list)\n",
        "\n",
        "# your code here ...."
      ],
      "metadata": {
        "id": "ccflDIoX8Q9Y"
      },
      "execution_count": null,
      "outputs": []
    },
    {
      "cell_type": "code",
      "source": [
        "#@title Display the solution 2\n",
        "\n",
        "# how many elements my_list has ?\n",
        "\n",
        "len(my_list)"
      ],
      "metadata": {
        "cellView": "form",
        "id": "ESR6Bgti0sTE",
        "outputId": "11739f66-07ec-4101-90e7-705790c868ac",
        "colab": {
          "base_uri": "https://localhost:8080/"
        }
      },
      "execution_count": null,
      "outputs": [
        {
          "output_type": "execute_result",
          "data": {
            "text/plain": [
              "9"
            ]
          },
          "metadata": {},
          "execution_count": 107
        }
      ]
    },
    {
      "cell_type": "markdown",
      "source": [
        "### Assigment 3"
      ],
      "metadata": {
        "id": "tT3oyXP00M8i"
      }
    },
    {
      "cell_type": "code",
      "source": [
        "# append 'Bill' to the list and check now its length\n",
        "\n",
        "# your code here..."
      ],
      "metadata": {
        "id": "AWMnUF-o0wq9"
      },
      "execution_count": null,
      "outputs": []
    },
    {
      "cell_type": "code",
      "source": [
        "#@title Display the solution 3\n",
        "\n",
        "# append 'Bill' to the list and check now its length\n",
        "\n",
        "my_list.append('Bill')\n",
        "print('Now the modified my_list is: ', my_list)\n",
        "print('The length of the modified list is: ', len(my_list))"
      ],
      "metadata": {
        "id": "eolhEZfE8tDZ",
        "cellView": "form",
        "outputId": "fde620a8-6488-4047-c2c4-a2f661828c1a",
        "colab": {
          "base_uri": "https://localhost:8080/"
        }
      },
      "execution_count": null,
      "outputs": [
        {
          "output_type": "stream",
          "name": "stdout",
          "text": [
            "Now the modified my_list is:  ['John', 'Emma', 10, 5, 3, 'Daniel', 'Tom', 34, 30, 'Bill']\n",
            "The length of the modified list is:  10\n"
          ]
        }
      ]
    },
    {
      "cell_type": "markdown",
      "source": [
        "### Assigment 4"
      ],
      "metadata": {
        "id": "Z3twAlXt0QFC"
      }
    },
    {
      "cell_type": "code",
      "source": [
        "# return the element 'John' from my_list\n",
        "\n",
        "# your code here"
      ],
      "metadata": {
        "id": "wCCL9VRG8tIQ"
      },
      "execution_count": null,
      "outputs": []
    },
    {
      "cell_type": "code",
      "source": [
        "#@title Display the solution 4\n",
        "\n",
        "# return 'John'\n",
        "my_list[0]"
      ],
      "metadata": {
        "id": "Pu6H_5kH0zL9",
        "cellView": "form",
        "outputId": "76b948dd-436e-4753-a5bc-3d1575e871bf",
        "colab": {
          "base_uri": "https://localhost:8080/",
          "height": 35
        }
      },
      "execution_count": null,
      "outputs": [
        {
          "output_type": "execute_result",
          "data": {
            "text/plain": [
              "'John'"
            ],
            "application/vnd.google.colaboratory.intrinsic+json": {
              "type": "string"
            }
          },
          "metadata": {},
          "execution_count": 111
        }
      ]
    },
    {
      "cell_type": "markdown",
      "source": [
        "### Assigment 5"
      ],
      "metadata": {
        "id": "Caof_lLu0Ttn"
      }
    },
    {
      "cell_type": "code",
      "source": [
        "# return 'Bill'\n",
        "\n",
        "# your code here ..."
      ],
      "metadata": {
        "id": "Cp_ZWUNZ01ka"
      },
      "execution_count": null,
      "outputs": []
    },
    {
      "cell_type": "code",
      "source": [
        "#@title Display the solution 5\n",
        "\n",
        "# return 'Bill'\n",
        "my_list[-1]"
      ],
      "metadata": {
        "cellView": "form",
        "id": "-qikJLpT_wGK",
        "outputId": "c697eedd-b59c-4062-b4a3-cca4071c3d99",
        "colab": {
          "base_uri": "https://localhost:8080/",
          "height": 35
        }
      },
      "execution_count": null,
      "outputs": [
        {
          "output_type": "execute_result",
          "data": {
            "text/plain": [
              "'Bill'"
            ],
            "application/vnd.google.colaboratory.intrinsic+json": {
              "type": "string"
            }
          },
          "metadata": {},
          "execution_count": 113
        }
      ]
    },
    {
      "cell_type": "markdown",
      "source": [
        "### Assigment 6"
      ],
      "metadata": {
        "id": "qzzDmXP50WV4"
      }
    },
    {
      "cell_type": "code",
      "source": [
        "# return element 34 from my_list\n",
        "\n",
        "# your code here ..."
      ],
      "metadata": {
        "id": "p_r4X73j03g4"
      },
      "execution_count": null,
      "outputs": []
    },
    {
      "cell_type": "code",
      "source": [
        "#@title Display the solution 6\n",
        "\n",
        "# return 34\n",
        "my_list[-3]"
      ],
      "metadata": {
        "cellView": "form",
        "id": "rJk9aBWm_5Kd",
        "outputId": "36b4716d-4449-4d60-bffd-8bb4952a6b62",
        "colab": {
          "base_uri": "https://localhost:8080/"
        }
      },
      "execution_count": null,
      "outputs": [
        {
          "output_type": "execute_result",
          "data": {
            "text/plain": [
              "34"
            ]
          },
          "metadata": {},
          "execution_count": 115
        }
      ]
    },
    {
      "cell_type": "markdown",
      "source": [
        "### Assigment 7"
      ],
      "metadata": {
        "id": "hfMAicI90bLd"
      }
    },
    {
      "cell_type": "code",
      "source": [
        "# return John and Emma\n",
        "\n",
        "# your code here ..."
      ],
      "metadata": {
        "id": "bRzniT7f06Dg"
      },
      "execution_count": null,
      "outputs": []
    },
    {
      "cell_type": "code",
      "source": [
        "#@title Display the solution 7\n",
        "\n",
        "# return John and Emma\n",
        "my_list[:2]\n"
      ],
      "metadata": {
        "cellView": "form",
        "id": "6_sszPvX_7ew",
        "outputId": "00103864-9382-43d8-ce0d-f29c10723fb4",
        "colab": {
          "base_uri": "https://localhost:8080/"
        }
      },
      "execution_count": null,
      "outputs": [
        {
          "output_type": "execute_result",
          "data": {
            "text/plain": [
              "['John', 'Emma']"
            ]
          },
          "metadata": {},
          "execution_count": 117
        }
      ]
    },
    {
      "cell_type": "markdown",
      "source": [
        "### Assigment 8"
      ],
      "metadata": {
        "id": "oiMxynEb0duz"
      }
    },
    {
      "cell_type": "code",
      "source": [
        "# return Emma, 10, 5\n",
        "\n",
        "# your code here ..."
      ],
      "metadata": {
        "id": "oVecGaro1AQA"
      },
      "execution_count": null,
      "outputs": []
    },
    {
      "cell_type": "code",
      "source": [
        "#@title Display the solution 8\n",
        "\n",
        "# return Emma, 10, 5\n",
        "my_list[1:4]"
      ],
      "metadata": {
        "cellView": "form",
        "id": "1aiLIcAO_88I",
        "outputId": "9a7c155c-2e2e-450e-aa5d-6361cb197a0f",
        "colab": {
          "base_uri": "https://localhost:8080/"
        }
      },
      "execution_count": null,
      "outputs": [
        {
          "output_type": "execute_result",
          "data": {
            "text/plain": [
              "['Emma', 10, 5]"
            ]
          },
          "metadata": {},
          "execution_count": 119
        }
      ]
    },
    {
      "cell_type": "markdown",
      "source": [
        "### Assigment 9"
      ],
      "metadata": {
        "id": "-GYQ5QU40hXh"
      }
    },
    {
      "cell_type": "code",
      "source": [
        "# return Tom, 34, 30, Bill\n",
        "\n",
        "# your code here ..."
      ],
      "metadata": {
        "id": "XkfCFLNc1A2W"
      },
      "execution_count": null,
      "outputs": []
    },
    {
      "cell_type": "code",
      "source": [
        "#@title Display the solution 9\n",
        "\n",
        "# return Tom, 34, 30, Bill\n",
        "\n",
        "print(my_list[-4:])\n",
        "\n",
        "#  OR\n",
        "\n",
        "my_list[6:]"
      ],
      "metadata": {
        "cellView": "form",
        "id": "Wv7dlrbT_-RM",
        "outputId": "9e20fb04-1270-4908-88ef-0ffe1feed950",
        "colab": {
          "base_uri": "https://localhost:8080/"
        }
      },
      "execution_count": null,
      "outputs": [
        {
          "output_type": "stream",
          "name": "stdout",
          "text": [
            "['Tom', 34, 30, 'Bill']\n"
          ]
        },
        {
          "output_type": "execute_result",
          "data": {
            "text/plain": [
              "['Tom', 34, 30, 'Bill']"
            ]
          },
          "metadata": {},
          "execution_count": 121
        }
      ]
    },
    {
      "cell_type": "markdown",
      "source": [
        "### Assigment 10"
      ],
      "metadata": {
        "id": "0AnNMt6W0jof"
      }
    },
    {
      "cell_type": "code",
      "source": [
        "# insert an element 'Julia' in the list at 2nd position\n",
        "\n",
        "# your code here ..."
      ],
      "metadata": {
        "id": "yYdO-ouJ1DXh"
      },
      "execution_count": null,
      "outputs": []
    },
    {
      "cell_type": "code",
      "source": [
        "#@title Display the solution 10\n",
        "\n",
        "# insert an element 'Julia' in the list at 2nd position (*** or 1st position in Python logic ***)\n",
        "\n",
        "my_list.insert(1, \"Julia\") # instert before 1st element\n",
        "print(my_list)"
      ],
      "metadata": {
        "cellView": "form",
        "id": "KgJMrnT6AAJw",
        "outputId": "7a12e594-9866-497e-eb52-84a398bec87b",
        "colab": {
          "base_uri": "https://localhost:8080/"
        }
      },
      "execution_count": null,
      "outputs": [
        {
          "output_type": "stream",
          "name": "stdout",
          "text": [
            "['John', 'Julia', 'Emma', 10, 5, 3, 'Daniel', 'Tom', 34, 30, 'Bill']\n"
          ]
        }
      ]
    },
    {
      "cell_type": "markdown",
      "source": [
        "### Assigment 11"
      ],
      "metadata": {
        "id": "nSKQ5pX60s7H"
      }
    },
    {
      "cell_type": "code",
      "source": [
        "# insert an element 'Anna\" in the list before 30\n",
        "\n",
        "# your code here ..."
      ],
      "metadata": {
        "id": "kl0wyky61GL1"
      },
      "execution_count": null,
      "outputs": []
    },
    {
      "cell_type": "code",
      "source": [
        "#@title Display the solution 11\n",
        "\n",
        "# insert an element 'Anna\" in the list before 30\n",
        "\n",
        "my_list.insert(-2,\"Anna\") # instert before last element\n",
        "print(my_list)"
      ],
      "metadata": {
        "cellView": "form",
        "id": "sNOfr1AMABhX",
        "outputId": "d703d448-6a0c-4827-b096-e725444a934c",
        "colab": {
          "base_uri": "https://localhost:8080/"
        }
      },
      "execution_count": null,
      "outputs": [
        {
          "output_type": "stream",
          "name": "stdout",
          "text": [
            "['John', 'Julia', 'Emma', 10, 5, 3, 'Daniel', 'Tom', 34, 'Anna', 30, 'Bill']\n"
          ]
        }
      ]
    },
    {
      "cell_type": "markdown",
      "source": [
        "### Assigment 12"
      ],
      "metadata": {
        "id": "G751GJAv0vWG"
      }
    },
    {
      "cell_type": "code",
      "source": [
        "# remove element 'Emma' \n",
        "#  ==> 2 ways to remove it: \n",
        "# with .remove method (if you want tu use the value of the element) \n",
        "# or .pop method (using the index of the eelement)\n",
        "\n",
        "# your code here ...\n"
      ],
      "metadata": {
        "id": "JYUIiYBP1IYu"
      },
      "execution_count": null,
      "outputs": []
    },
    {
      "cell_type": "code",
      "source": [
        "#@title Display the solution 12\n",
        "\n",
        "# remove element 'Emma'\n",
        "my_list.remove(\"Emma\")\n",
        "print(my_list)\n",
        "\n",
        "## OR \n",
        "my_list.insert(2,\"Emma\")\n",
        "my_list.pop(2)\n",
        "print(my_list)"
      ],
      "metadata": {
        "cellView": "form",
        "id": "cLCiGth-AC8m",
        "outputId": "f50b9eb7-16aa-4c1c-c1a4-32cc7d00892b",
        "colab": {
          "base_uri": "https://localhost:8080/"
        }
      },
      "execution_count": null,
      "outputs": [
        {
          "output_type": "stream",
          "name": "stdout",
          "text": [
            "['John', 'Julia', 10, 5, 3, 'Daniel', 'Tom', 34, 'Anna', 30, 'Bill']\n",
            "['John', 'Julia', 10, 5, 3, 'Daniel', 'Tom', 34, 'Anna', 30, 'Bill']\n"
          ]
        }
      ]
    },
    {
      "cell_type": "markdown",
      "source": [
        "### Assigment 13"
      ],
      "metadata": {
        "id": "QsrL1vHL0y3q"
      }
    },
    {
      "cell_type": "code",
      "source": [
        "# append a new list [Sarah, 42, Jerry] ==> to obtain a nested list\n",
        "\n",
        "# your code here ..."
      ],
      "metadata": {
        "id": "MhMG8MjS1Phm"
      },
      "execution_count": null,
      "outputs": []
    },
    {
      "cell_type": "code",
      "source": [
        "#@title Display the solution 13\n",
        "\n",
        "my_list.append(['Sarah', 42, 'Jerry'])\n",
        "print(my_list)"
      ],
      "metadata": {
        "cellView": "form",
        "id": "S_pYT0Z4AEZw",
        "outputId": "1f37d381-ace3-4dd6-e035-9059033f5d28",
        "colab": {
          "base_uri": "https://localhost:8080/"
        }
      },
      "execution_count": null,
      "outputs": [
        {
          "output_type": "stream",
          "name": "stdout",
          "text": [
            "['John', 'Julia', 10, 5, 3, 'Daniel', 'Tom', 34, 'Anna', 30, 'Bill', ['Sarah', 42, 'Jerry']]\n"
          ]
        }
      ]
    },
    {
      "cell_type": "markdown",
      "source": [
        "### Assigment 14"
      ],
      "metadata": {
        "id": "FzBJ403d00ra"
      }
    },
    {
      "cell_type": "code",
      "source": [
        "# return 'Sarah' (*** keep in mind that you have a nested list ***)\n",
        "\n",
        "# your code here ..."
      ],
      "metadata": {
        "id": "5ZSjSfnO1Lap"
      },
      "execution_count": null,
      "outputs": []
    },
    {
      "cell_type": "code",
      "source": [
        "#@title Display the solution 14\n",
        "\n",
        "# return 'Sarah'\n",
        "my_list[-1][0]"
      ],
      "metadata": {
        "id": "iwLCEY4jAFjI",
        "outputId": "32218441-8188-4925-fd7d-9cd0a6353bb3",
        "colab": {
          "base_uri": "https://localhost:8080/",
          "height": 35
        }
      },
      "execution_count": null,
      "outputs": [
        {
          "output_type": "execute_result",
          "data": {
            "text/plain": [
              "'Sarah'"
            ],
            "application/vnd.google.colaboratory.intrinsic+json": {
              "type": "string"
            }
          },
          "metadata": {},
          "execution_count": 131
        }
      ]
    },
    {
      "cell_type": "markdown",
      "metadata": {
        "id": "ZCMxntYXMDiH"
      },
      "source": [
        "# 7.&nbsp;Strings"
      ]
    },
    {
      "cell_type": "code",
      "execution_count": null,
      "metadata": {
        "id": "Yq-DuAVSLw8K",
        "outputId": "a3637fbc-8777-4798-8c7b-7d91dec2602b",
        "colab": {
          "base_uri": "https://localhost:8080/",
          "height": 35
        }
      },
      "outputs": [
        {
          "output_type": "execute_result",
          "data": {
            "text/plain": [
              "'text'"
            ],
            "application/vnd.google.colaboratory.intrinsic+json": {
              "type": "string"
            }
          },
          "metadata": {},
          "execution_count": 132
        }
      ],
      "source": [
        "string_a = 'text'\n",
        "string_a"
      ]
    },
    {
      "cell_type": "code",
      "execution_count": null,
      "metadata": {
        "id": "xyCf0t6TMKuG",
        "outputId": "2ae7cde4-3706-4787-d531-2c93305642e0",
        "colab": {
          "base_uri": "https://localhost:8080/",
          "height": 35
        }
      },
      "outputs": [
        {
          "output_type": "execute_result",
          "data": {
            "text/plain": [
              "'This is a '"
            ],
            "application/vnd.google.colaboratory.intrinsic+json": {
              "type": "string"
            }
          },
          "metadata": {},
          "execution_count": 133
        }
      ],
      "source": [
        "string_b = 'This is a '\n",
        "string_b"
      ]
    },
    {
      "cell_type": "code",
      "execution_count": null,
      "metadata": {
        "id": "LA_YJDp1MRhu",
        "outputId": "48985b88-e67d-4232-d14f-1a6b4c6e40d2",
        "colab": {
          "base_uri": "https://localhost:8080/",
          "height": 35
        }
      },
      "outputs": [
        {
          "output_type": "execute_result",
          "data": {
            "text/plain": [
              "'This is a text'"
            ],
            "application/vnd.google.colaboratory.intrinsic+json": {
              "type": "string"
            }
          },
          "metadata": {},
          "execution_count": 134
        }
      ],
      "source": [
        "string_b + string_a"
      ]
    },
    {
      "cell_type": "code",
      "execution_count": null,
      "metadata": {
        "id": "OIRgk1h8MTuU",
        "outputId": "cd253e32-6e42-4b23-95cb-88d73a2e651d",
        "colab": {
          "base_uri": "https://localhost:8080/",
          "height": 35
        }
      },
      "outputs": [
        {
          "output_type": "execute_result",
          "data": {
            "text/plain": [
              "'This is a text'"
            ],
            "application/vnd.google.colaboratory.intrinsic+json": {
              "type": "string"
            }
          },
          "metadata": {},
          "execution_count": 135
        }
      ],
      "source": [
        "string_c = string_b + string_a\n",
        "string_c"
      ]
    },
    {
      "cell_type": "code",
      "source": [
        "string_c.lower()"
      ],
      "metadata": {
        "id": "D1iQ5vBOe25p",
        "outputId": "b9ef53ff-be0c-41a4-a98d-a17a718d4f80",
        "colab": {
          "base_uri": "https://localhost:8080/",
          "height": 35
        }
      },
      "execution_count": null,
      "outputs": [
        {
          "output_type": "execute_result",
          "data": {
            "text/plain": [
              "'this is a text'"
            ],
            "application/vnd.google.colaboratory.intrinsic+json": {
              "type": "string"
            }
          },
          "metadata": {},
          "execution_count": 136
        }
      ]
    },
    {
      "cell_type": "code",
      "execution_count": null,
      "metadata": {
        "id": "GHaA3MWoMjZ2",
        "outputId": "fb275bbc-829d-4f7e-e7b2-9971ec7fc109",
        "colab": {
          "base_uri": "https://localhost:8080/",
          "height": 35
        }
      },
      "outputs": [
        {
          "output_type": "execute_result",
          "data": {
            "text/plain": [
              "'THIS IS A TEXT'"
            ],
            "application/vnd.google.colaboratory.intrinsic+json": {
              "type": "string"
            }
          },
          "metadata": {},
          "execution_count": 137
        }
      ],
      "source": [
        "string_c.upper()"
      ]
    },
    {
      "cell_type": "code",
      "execution_count": null,
      "metadata": {
        "id": "dnmLHQCLMr1j",
        "outputId": "1f5096db-06e7-4ae4-98d2-def676e3e60f",
        "colab": {
          "base_uri": "https://localhost:8080/",
          "height": 35
        }
      },
      "outputs": [
        {
          "output_type": "execute_result",
          "data": {
            "text/plain": [
              "'T'"
            ],
            "application/vnd.google.colaboratory.intrinsic+json": {
              "type": "string"
            }
          },
          "metadata": {},
          "execution_count": 138
        }
      ],
      "source": [
        "# access a string\n",
        "string_c[0]"
      ]
    },
    {
      "cell_type": "code",
      "execution_count": null,
      "metadata": {
        "id": "WnNXuxDCMveW",
        "outputId": "1080e935-62e9-4c11-bf67-d01b97e65821",
        "colab": {
          "base_uri": "https://localhost:8080/"
        }
      },
      "outputs": [
        {
          "output_type": "execute_result",
          "data": {
            "text/plain": [
              "14"
            ]
          },
          "metadata": {},
          "execution_count": 139
        }
      ],
      "source": [
        "# length (the space is counted a 1)\n",
        "len(string_c)"
      ]
    },
    {
      "cell_type": "code",
      "execution_count": null,
      "metadata": {
        "id": "-OZKGMHVM0S-",
        "outputId": "9e91a68f-25cf-4889-e05e-03efb1b078f2",
        "colab": {
          "base_uri": "https://localhost:8080/"
        }
      },
      "outputs": [
        {
          "output_type": "stream",
          "name": "stdout",
          "text": [
            "Derrick.Matt@gmail.com\n"
          ]
        }
      ],
      "source": [
        "# splitting strings\n",
        "string_d = \"Derrick.Matt@gmail.com\"\n",
        "print(string_d)"
      ]
    },
    {
      "cell_type": "code",
      "source": [
        "# Split a string into a list where each word is a list item, use split() function\n",
        "# split by hyphen\n",
        "\n",
        "print(string_d.split(\"@\"))"
      ],
      "metadata": {
        "id": "zVhs3mBvfWBf",
        "outputId": "79678c28-d13f-446f-c073-df0a96f5cd21",
        "colab": {
          "base_uri": "https://localhost:8080/"
        }
      },
      "execution_count": null,
      "outputs": [
        {
          "output_type": "stream",
          "name": "stdout",
          "text": [
            "['Derrick.Matt', 'gmail.com']\n"
          ]
        }
      ]
    },
    {
      "cell_type": "markdown",
      "source": [
        "More about splitting strings https://www.w3schools.com/python/ref_string_split.asp\n",
        "\n",
        "More about strings manipulations https://www.w3schools.com/python/python_ref_string.asp\n",
        "\n",
        "More about string theory https://www.programiz.com/python-programming/string"
      ],
      "metadata": {
        "id": "oWCzQow4fu29"
      }
    },
    {
      "cell_type": "markdown",
      "source": [
        "## String Practice ***"
      ],
      "metadata": {
        "id": "VwkObPWr1Upf"
      }
    },
    {
      "cell_type": "markdown",
      "source": [
        "### Assigment 1"
      ],
      "metadata": {
        "id": "He_h7lHy1adv"
      }
    },
    {
      "cell_type": "code",
      "source": [
        "# create a string variable called \"name\", and assign the value 'AdaM Smith'\n",
        "# modify this variable so all the characters of the string are in CAPITAL LETTERS\n",
        "# return the modified variable\n",
        "\n",
        "\n",
        "# your code here ..."
      ],
      "metadata": {
        "id": "i2oDUQrT1e2O"
      },
      "execution_count": null,
      "outputs": []
    },
    {
      "cell_type": "code",
      "source": [
        "#@title Display the solution 1\n",
        "\n",
        "# create a string variable called \"name\", and assign the value 'AdaM Smith'\n",
        "name = 'AdaM Smith'\n",
        "\n",
        "# modify this variable so all the characters of the string are in CAPITAL LETTERS\n",
        "name = name.upper()\n",
        "\n",
        "# return the modified variable\n",
        "print(name)\n"
      ],
      "metadata": {
        "cellView": "form",
        "id": "r0763MYR1qFx",
        "outputId": "86538834-c224-48f1-c4f9-bd45c12f1e70",
        "colab": {
          "base_uri": "https://localhost:8080/"
        }
      },
      "execution_count": null,
      "outputs": [
        {
          "output_type": "stream",
          "name": "stdout",
          "text": [
            "ADAM SMITH\n"
          ]
        }
      ]
    },
    {
      "cell_type": "markdown",
      "source": [
        "### Assigment 2"
      ],
      "metadata": {
        "id": "qFWK_2QY1fji"
      }
    },
    {
      "cell_type": "code",
      "source": [
        "# access a the 1st letter of variable \"name\" \n",
        "# ... the outcome should be 'A'\n",
        "\n",
        "# your code here ...\n"
      ],
      "metadata": {
        "id": "vIVu4gbw3MtX"
      },
      "execution_count": null,
      "outputs": []
    },
    {
      "cell_type": "code",
      "source": [
        "#@title Display the solution 2\n",
        "\n",
        "# access a the 1st letter of variable \"name\"\n",
        "\n",
        "name[0]"
      ],
      "metadata": {
        "cellView": "form",
        "id": "VxBY3GAQ1yym",
        "outputId": "e0e0af62-37fe-40f8-b3f7-c6d25f084154",
        "colab": {
          "base_uri": "https://localhost:8080/",
          "height": 35
        }
      },
      "execution_count": null,
      "outputs": [
        {
          "output_type": "execute_result",
          "data": {
            "text/plain": [
              "'A'"
            ],
            "application/vnd.google.colaboratory.intrinsic+json": {
              "type": "string"
            }
          },
          "metadata": {},
          "execution_count": 145
        }
      ]
    },
    {
      "cell_type": "markdown",
      "source": [
        "### Assignment 3"
      ],
      "metadata": {
        "id": "VZudvfew3qkk"
      }
    },
    {
      "cell_type": "code",
      "source": [
        "# access a the last letter of variable \"name\" \n",
        "# ... the outcome should be 'H'\n",
        "\n",
        "# your code here ..."
      ],
      "metadata": {
        "id": "g47DpeoH3u62"
      },
      "execution_count": null,
      "outputs": []
    },
    {
      "cell_type": "code",
      "source": [
        "#@title Display the solution 3\n",
        "\n",
        "# access a the last letter of variable \"name\" \n",
        "# ... the outcome should be 'H'\n",
        "\n",
        "name[-1]"
      ],
      "metadata": {
        "cellView": "form",
        "id": "TiA-m27f34p7",
        "outputId": "d40d92d8-9c6a-42ed-f246-fe44438ebb9c",
        "colab": {
          "base_uri": "https://localhost:8080/",
          "height": 35
        }
      },
      "execution_count": null,
      "outputs": [
        {
          "output_type": "execute_result",
          "data": {
            "text/plain": [
              "'H'"
            ],
            "application/vnd.google.colaboratory.intrinsic+json": {
              "type": "string"
            }
          },
          "metadata": {},
          "execution_count": 147
        }
      ]
    },
    {
      "cell_type": "markdown",
      "source": [
        "### Assignment 4"
      ],
      "metadata": {
        "id": "bNkqvfTJ4EQI"
      }
    },
    {
      "cell_type": "code",
      "source": [
        "# how many characters tha variable \"name\" has ?\n",
        "\n",
        "# your code here .."
      ],
      "metadata": {
        "id": "kh_ZbiPl4HaA"
      },
      "execution_count": null,
      "outputs": []
    },
    {
      "cell_type": "code",
      "source": [
        "#@title Display the solution 4\n",
        "\n",
        "# how many characters tha variable \"name\" has ?\n",
        "\n",
        "len(name)"
      ],
      "metadata": {
        "cellView": "form",
        "id": "uqcAMLct4Pyb",
        "outputId": "bae0d824-114a-4c83-e928-927971dc6e94",
        "colab": {
          "base_uri": "https://localhost:8080/"
        }
      },
      "execution_count": null,
      "outputs": [
        {
          "output_type": "execute_result",
          "data": {
            "text/plain": [
              "10"
            ]
          },
          "metadata": {},
          "execution_count": 149
        }
      ]
    },
    {
      "cell_type": "markdown",
      "metadata": {
        "id": "-Z4YCvbvNRp6"
      },
      "source": [
        "# 8.&nbsp;Tuples"
      ]
    },
    {
      "cell_type": "markdown",
      "metadata": {
        "id": "X_zcTMzYNu9R"
      },
      "source": [
        "A tuple is a collection which is ordered and unchangeable (imuatable)\n",
        "."
      ]
    },
    {
      "cell_type": "code",
      "execution_count": null,
      "metadata": {
        "id": "6S7ixeisOEv3",
        "outputId": "cdd72ba0-bf26-446e-a127-b58bebccb730",
        "colab": {
          "base_uri": "https://localhost:8080/"
        }
      },
      "outputs": [
        {
          "output_type": "stream",
          "name": "stdout",
          "text": [
            "('Dog', 'Cat', 'Frog')\n"
          ]
        }
      ],
      "source": [
        "tuple_a = ('Dog', 'Cat', 'Frog')\n",
        "print(tuple_a)"
      ]
    },
    {
      "cell_type": "code",
      "execution_count": null,
      "metadata": {
        "id": "-cGHSxSYPlT2"
      },
      "outputs": [],
      "source": [
        "# inmutable\n",
        "\n",
        "# remove the hasgtag (#) in front of the below line code if you want to run the cell \n",
        "# tuple_a.append('Mouse')"
      ]
    },
    {
      "cell_type": "code",
      "execution_count": null,
      "metadata": {
        "id": "H4i9_vbfPx3y",
        "outputId": "305f3921-c7b0-4de0-fec0-88ae84cc5315",
        "colab": {
          "base_uri": "https://localhost:8080/",
          "height": 35
        }
      },
      "outputs": [
        {
          "output_type": "execute_result",
          "data": {
            "text/plain": [
              "'Dog'"
            ],
            "application/vnd.google.colaboratory.intrinsic+json": {
              "type": "string"
            }
          },
          "metadata": {},
          "execution_count": 152
        }
      ],
      "source": [
        "# ordered\n",
        "\n",
        "tuple_a[0]"
      ]
    },
    {
      "cell_type": "markdown",
      "source": [
        "More about Tuples https://www.w3schools.com/python/python_tuples.asp"
      ],
      "metadata": {
        "id": "KeNK13iEhNgZ"
      }
    },
    {
      "cell_type": "markdown",
      "metadata": {
        "id": "VkCZO2ptNTTG"
      },
      "source": [
        "# 9.&nbsp;Dictionaries\n"
      ]
    },
    {
      "cell_type": "markdown",
      "source": [
        "Dictionaries are used to store data values in key:value pairs.\n",
        "\n",
        "A dictionary is a collection which is ordered*, changeable and do not allow duplicates."
      ],
      "metadata": {
        "id": "moJTUTDDicq0"
      }
    },
    {
      "cell_type": "code",
      "execution_count": null,
      "metadata": {
        "id": "l_3rD9hUQNxF",
        "outputId": "4a91a811-1e11-472d-8b20-1bc4c6328131",
        "colab": {
          "base_uri": "https://localhost:8080/"
        }
      },
      "outputs": [
        {
          "output_type": "execute_result",
          "data": {
            "text/plain": [
              "{'key_1': 'value_0', 'key_2': 'value_2', 'key_3': 'value_3'}"
            ]
          },
          "metadata": {},
          "execution_count": 153
        }
      ],
      "source": [
        "# a dictionary is made of keys and values\n",
        "# dictionary have curly brackets\n",
        "\n",
        "dictionary = {\"key_1\":\"value_0\",\n",
        "               \"key_2\":\"value_2\",\n",
        "               \"key_3\":\"value_3\"}\n",
        "\n",
        "dictionary"
      ]
    },
    {
      "cell_type": "code",
      "execution_count": null,
      "metadata": {
        "id": "ixlvde_9NEkX",
        "outputId": "f20cca33-0416-43b2-bc6b-04e5cf1fafa8",
        "colab": {
          "base_uri": "https://localhost:8080/"
        }
      },
      "outputs": [
        {
          "output_type": "execute_result",
          "data": {
            "text/plain": [
              "{'name': 'Derrick', 'height': \"6'0\", 'location': 'Lost'}"
            ]
          },
          "metadata": {},
          "execution_count": 154
        }
      ],
      "source": [
        "# create a dictionary called 'our_dictionnary'\n",
        "\n",
        "our_dictionary = {\"name\":\"Derrick\",\n",
        "                  \"height\":\"6'0\",\n",
        "                  \"location\":\"Lost\"}\n",
        "                  \n",
        "# here \"name\" is the key and 'Derrick' is the value\n",
        "our_dictionary"
      ]
    },
    {
      "cell_type": "code",
      "execution_count": null,
      "metadata": {
        "id": "DXd9Sn8sQ86w",
        "outputId": "ea16bae2-fcdd-44a4-b04e-855764b1db7e",
        "colab": {
          "base_uri": "https://localhost:8080/"
        }
      },
      "outputs": [
        {
          "output_type": "stream",
          "name": "stdout",
          "text": [
            "value_0\n"
          ]
        }
      ],
      "source": [
        "# access dictionary by key\n",
        "\n",
        "print(dictionary[\"key_1\"])"
      ]
    },
    {
      "cell_type": "code",
      "execution_count": null,
      "metadata": {
        "id": "pevivAIGRD2F",
        "outputId": "3ba52ba6-a870-477f-da7d-9657d2c80829",
        "colab": {
          "base_uri": "https://localhost:8080/"
        }
      },
      "outputs": [
        {
          "output_type": "stream",
          "name": "stdout",
          "text": [
            "{'key_1': 'value_1', 'key_2': 'value_2', 'key_3': 'value_3'}\n"
          ]
        }
      ],
      "source": [
        "# change a value by key\n",
        "\n",
        "dictionary[\"key_1\"] = \"value_1\"\n",
        "print(dictionary)\n"
      ]
    },
    {
      "cell_type": "code",
      "execution_count": null,
      "metadata": {
        "id": "ly62zAkdRVsE",
        "outputId": "31f113fb-bd94-4b8b-fec9-0cab3c90e9b9",
        "colab": {
          "base_uri": "https://localhost:8080/"
        }
      },
      "outputs": [
        {
          "output_type": "stream",
          "name": "stdout",
          "text": [
            "{'key_1': 'value_1', 'key_2': 'value_2', 'key_3': 'value_3', 'eye color': 'blue'}\n"
          ]
        }
      ],
      "source": [
        "# add an element to dictionary\n",
        "\n",
        "dictionary[\"eye color\"] = \"blue\"\n",
        "print(dictionary)"
      ]
    },
    {
      "cell_type": "code",
      "execution_count": null,
      "metadata": {
        "id": "MSSZPPFTRcA6",
        "outputId": "26ff23fa-1ba6-40e4-a344-157b1a484208",
        "colab": {
          "base_uri": "https://localhost:8080/"
        }
      },
      "outputs": [
        {
          "output_type": "stream",
          "name": "stdout",
          "text": [
            "{'key_1': 'value_1', 'key_2': 'value_2', 'key_3': 'value_3'}\n"
          ]
        }
      ],
      "source": [
        "# remove element\n",
        "dictionary.pop(\"eye color\")\n",
        "print(dictionary)\n"
      ]
    },
    {
      "cell_type": "markdown",
      "source": [
        "## Dictionary Practice ***"
      ],
      "metadata": {
        "id": "O0a13QpTjWcr"
      }
    },
    {
      "cell_type": "markdown",
      "source": [
        "### Assignment 1"
      ],
      "metadata": {
        "id": "OY_D2rFh40PD"
      }
    },
    {
      "cell_type": "code",
      "source": [
        "# create a dictionary \"my_dictionary\"\n",
        "# 1st key: 'names'\n",
        "# values of 1st key: ['Anna', 'John', 'Matt']\n",
        "# 2nd key: 'age'\n",
        "# values of 2nd key: [23, 42, 12]\n",
        "# print \"my_dictionary\"\n",
        "\n",
        "# your code here ...."
      ],
      "metadata": {
        "id": "cCbfZyfAjY76"
      },
      "execution_count": null,
      "outputs": []
    },
    {
      "cell_type": "code",
      "source": [
        "#@title Display the solution 1\n",
        "\n",
        "# create a dictionary \"my_dictionary\"\n",
        "# 1st key: 'names'\n",
        "# values of 1st key: ['Anna', 'John', 'Matt']\n",
        "# 2nd key: 'age'\n",
        "# values of 2nd key: [23, 42, 12]\n",
        "\n",
        "my_dictionary = {'names': ['Anna', 'John', 'Matt'],\n",
        "                 'age': [23, 42, 12]   \n",
        "                }\n",
        "\n",
        "# print \"my_dictionary\"\n",
        "print(my_dictionary)"
      ],
      "metadata": {
        "cellView": "form",
        "id": "oQEo8yWbHcqk",
        "outputId": "fb906ffc-6ec6-4478-8bd4-5644d71a36c7",
        "colab": {
          "base_uri": "https://localhost:8080/"
        }
      },
      "execution_count": null,
      "outputs": [
        {
          "output_type": "stream",
          "name": "stdout",
          "text": [
            "{'names': ['Anna', 'John', 'Matt'], 'age': [23, 42, 12]}\n"
          ]
        }
      ]
    },
    {
      "cell_type": "markdown",
      "source": [
        "### Assignment 2"
      ],
      "metadata": {
        "id": "NzmmTZjY44lb"
      }
    },
    {
      "cell_type": "code",
      "source": [
        "# add a new element with their gender: key='gender', values: ['F', 'M', 'M']\n",
        "\n",
        "# your code here ...\n"
      ],
      "metadata": {
        "id": "mpikw-IqHxdL"
      },
      "execution_count": null,
      "outputs": []
    },
    {
      "cell_type": "code",
      "source": [
        "#@title Display the solution 2\n",
        "\n",
        "# add a new element with their gender: key='gender', values: ['F', 'M', 'M']\n",
        "my_dictionary['gender']= ['F', 'M', 'M']\n",
        "print(my_dictionary)"
      ],
      "metadata": {
        "cellView": "form",
        "id": "K5evWdkQH2Mo",
        "outputId": "9a500c45-690b-49aa-c6bb-5cb55500e5f1",
        "colab": {
          "base_uri": "https://localhost:8080/"
        }
      },
      "execution_count": null,
      "outputs": [
        {
          "output_type": "stream",
          "name": "stdout",
          "text": [
            "{'names': ['Anna', 'John', 'Matt'], 'age': [23, 42, 12], 'gender': ['F', 'M', 'M']}\n"
          ]
        }
      ]
    },
    {
      "cell_type": "markdown",
      "source": [
        "### Assignment 3"
      ],
      "metadata": {
        "id": "tTLbH9rQ46wB"
      }
    },
    {
      "cell_type": "code",
      "source": [
        "# remove key age\n",
        "\n",
        "# your code here"
      ],
      "metadata": {
        "id": "IIapMz2UHy6M"
      },
      "execution_count": null,
      "outputs": []
    },
    {
      "cell_type": "code",
      "source": [
        "#@title Display the solution 3\n",
        "\n",
        "# remove key age\n",
        "my_dictionary.pop(\"age\")\n",
        "print(my_dictionary)"
      ],
      "metadata": {
        "cellView": "form",
        "id": "ZACWoPZJH_W6",
        "outputId": "1659eee8-9776-43be-fae6-f33fac024259",
        "colab": {
          "base_uri": "https://localhost:8080/"
        }
      },
      "execution_count": null,
      "outputs": [
        {
          "output_type": "stream",
          "name": "stdout",
          "text": [
            "{'names': ['Anna', 'John', 'Matt'], 'gender': ['F', 'M', 'M']}\n"
          ]
        }
      ]
    },
    {
      "cell_type": "markdown",
      "metadata": {
        "id": "SvqYQEAVRr5q"
      },
      "source": [
        "# 10.&nbsp;DataFrame"
      ]
    },
    {
      "cell_type": "markdown",
      "source": [
        "The dataframe is like a table with 2 dimensions, where you have columns and rows"
      ],
      "metadata": {
        "id": "Do7mXNyhlYmN"
      }
    },
    {
      "cell_type": "code",
      "execution_count": null,
      "metadata": {
        "id": "20L4u09nRlXK",
        "outputId": "defbed09-2956-45da-8aa7-5d8b98aae5bd",
        "colab": {
          "base_uri": "https://localhost:8080/"
        }
      },
      "outputs": [
        {
          "output_type": "execute_result",
          "data": {
            "text/plain": [
              "{'name': ['Jess', 'Nick', 'Winston', 'Tom', 'Alex'],\n",
              " 'age': ['30', '35', '40', '27', '52'],\n",
              " 'city': ['Paris', 'Berlin', 'Madrid', 'Paris', 'London'],\n",
              " 'country': ['France', 'Germany', 'Spain', 'France', 'UK']}"
            ]
          },
          "metadata": {},
          "execution_count": 165
        }
      ],
      "source": [
        "dataframe = {\"name\":['Jess', 'Nick', 'Winston', 'Tom', 'Alex'],\n",
        "              \"age\":['30', '35', '40', '27', '52'],\n",
        "              \"city\":['Paris', 'Berlin', 'Madrid', 'Paris', 'London'],\n",
        "             \"country\": ['France', 'Germany', 'Spain', 'France', 'UK']}\n",
        "\n",
        "dataframe"
      ]
    },
    {
      "cell_type": "code",
      "source": [
        "# import pandas package\n",
        "\n",
        "import pandas as pd"
      ],
      "metadata": {
        "id": "DA2iU__p_Dsg"
      },
      "execution_count": null,
      "outputs": []
    },
    {
      "cell_type": "markdown",
      "source": [
        "More about pandas package https://pandas.pydata.org/"
      ],
      "metadata": {
        "id": "CsIMpaaj_LiP"
      }
    },
    {
      "cell_type": "code",
      "execution_count": null,
      "metadata": {
        "id": "zsvwKaUsSKaI",
        "outputId": "987eaaec-9531-4529-b865-caa1d3654e14",
        "colab": {
          "base_uri": "https://localhost:8080/",
          "height": 206
        }
      },
      "outputs": [
        {
          "output_type": "execute_result",
          "data": {
            "text/plain": [
              "      name age    city  country\n",
              "0     Jess  30   Paris   France\n",
              "1     Nick  35  Berlin  Germany\n",
              "2  Winston  40  Madrid    Spain\n",
              "3      Tom  27   Paris   France\n",
              "4     Alex  52  London       UK"
            ],
            "text/html": [
              "\n",
              "  <div id=\"df-b38f66b4-3c92-4244-9e7a-9fdd034d04b3\">\n",
              "    <div class=\"colab-df-container\">\n",
              "      <div>\n",
              "<style scoped>\n",
              "    .dataframe tbody tr th:only-of-type {\n",
              "        vertical-align: middle;\n",
              "    }\n",
              "\n",
              "    .dataframe tbody tr th {\n",
              "        vertical-align: top;\n",
              "    }\n",
              "\n",
              "    .dataframe thead th {\n",
              "        text-align: right;\n",
              "    }\n",
              "</style>\n",
              "<table border=\"1\" class=\"dataframe\">\n",
              "  <thead>\n",
              "    <tr style=\"text-align: right;\">\n",
              "      <th></th>\n",
              "      <th>name</th>\n",
              "      <th>age</th>\n",
              "      <th>city</th>\n",
              "      <th>country</th>\n",
              "    </tr>\n",
              "  </thead>\n",
              "  <tbody>\n",
              "    <tr>\n",
              "      <th>0</th>\n",
              "      <td>Jess</td>\n",
              "      <td>30</td>\n",
              "      <td>Paris</td>\n",
              "      <td>France</td>\n",
              "    </tr>\n",
              "    <tr>\n",
              "      <th>1</th>\n",
              "      <td>Nick</td>\n",
              "      <td>35</td>\n",
              "      <td>Berlin</td>\n",
              "      <td>Germany</td>\n",
              "    </tr>\n",
              "    <tr>\n",
              "      <th>2</th>\n",
              "      <td>Winston</td>\n",
              "      <td>40</td>\n",
              "      <td>Madrid</td>\n",
              "      <td>Spain</td>\n",
              "    </tr>\n",
              "    <tr>\n",
              "      <th>3</th>\n",
              "      <td>Tom</td>\n",
              "      <td>27</td>\n",
              "      <td>Paris</td>\n",
              "      <td>France</td>\n",
              "    </tr>\n",
              "    <tr>\n",
              "      <th>4</th>\n",
              "      <td>Alex</td>\n",
              "      <td>52</td>\n",
              "      <td>London</td>\n",
              "      <td>UK</td>\n",
              "    </tr>\n",
              "  </tbody>\n",
              "</table>\n",
              "</div>\n",
              "      <button class=\"colab-df-convert\" onclick=\"convertToInteractive('df-b38f66b4-3c92-4244-9e7a-9fdd034d04b3')\"\n",
              "              title=\"Convert this dataframe to an interactive table.\"\n",
              "              style=\"display:none;\">\n",
              "        \n",
              "  <svg xmlns=\"http://www.w3.org/2000/svg\" height=\"24px\"viewBox=\"0 0 24 24\"\n",
              "       width=\"24px\">\n",
              "    <path d=\"M0 0h24v24H0V0z\" fill=\"none\"/>\n",
              "    <path d=\"M18.56 5.44l.94 2.06.94-2.06 2.06-.94-2.06-.94-.94-2.06-.94 2.06-2.06.94zm-11 1L8.5 8.5l.94-2.06 2.06-.94-2.06-.94L8.5 2.5l-.94 2.06-2.06.94zm10 10l.94 2.06.94-2.06 2.06-.94-2.06-.94-.94-2.06-.94 2.06-2.06.94z\"/><path d=\"M17.41 7.96l-1.37-1.37c-.4-.4-.92-.59-1.43-.59-.52 0-1.04.2-1.43.59L10.3 9.45l-7.72 7.72c-.78.78-.78 2.05 0 2.83L4 21.41c.39.39.9.59 1.41.59.51 0 1.02-.2 1.41-.59l7.78-7.78 2.81-2.81c.8-.78.8-2.07 0-2.86zM5.41 20L4 18.59l7.72-7.72 1.47 1.35L5.41 20z\"/>\n",
              "  </svg>\n",
              "      </button>\n",
              "      \n",
              "  <style>\n",
              "    .colab-df-container {\n",
              "      display:flex;\n",
              "      flex-wrap:wrap;\n",
              "      gap: 12px;\n",
              "    }\n",
              "\n",
              "    .colab-df-convert {\n",
              "      background-color: #E8F0FE;\n",
              "      border: none;\n",
              "      border-radius: 50%;\n",
              "      cursor: pointer;\n",
              "      display: none;\n",
              "      fill: #1967D2;\n",
              "      height: 32px;\n",
              "      padding: 0 0 0 0;\n",
              "      width: 32px;\n",
              "    }\n",
              "\n",
              "    .colab-df-convert:hover {\n",
              "      background-color: #E2EBFA;\n",
              "      box-shadow: 0px 1px 2px rgba(60, 64, 67, 0.3), 0px 1px 3px 1px rgba(60, 64, 67, 0.15);\n",
              "      fill: #174EA6;\n",
              "    }\n",
              "\n",
              "    [theme=dark] .colab-df-convert {\n",
              "      background-color: #3B4455;\n",
              "      fill: #D2E3FC;\n",
              "    }\n",
              "\n",
              "    [theme=dark] .colab-df-convert:hover {\n",
              "      background-color: #434B5C;\n",
              "      box-shadow: 0px 1px 3px 1px rgba(0, 0, 0, 0.15);\n",
              "      filter: drop-shadow(0px 1px 2px rgba(0, 0, 0, 0.3));\n",
              "      fill: #FFFFFF;\n",
              "    }\n",
              "  </style>\n",
              "\n",
              "      <script>\n",
              "        const buttonEl =\n",
              "          document.querySelector('#df-b38f66b4-3c92-4244-9e7a-9fdd034d04b3 button.colab-df-convert');\n",
              "        buttonEl.style.display =\n",
              "          google.colab.kernel.accessAllowed ? 'block' : 'none';\n",
              "\n",
              "        async function convertToInteractive(key) {\n",
              "          const element = document.querySelector('#df-b38f66b4-3c92-4244-9e7a-9fdd034d04b3');\n",
              "          const dataTable =\n",
              "            await google.colab.kernel.invokeFunction('convertToInteractive',\n",
              "                                                     [key], {});\n",
              "          if (!dataTable) return;\n",
              "\n",
              "          const docLinkHtml = 'Like what you see? Visit the ' +\n",
              "            '<a target=\"_blank\" href=https://colab.research.google.com/notebooks/data_table.ipynb>data table notebook</a>'\n",
              "            + ' to learn more about interactive tables.';\n",
              "          element.innerHTML = '';\n",
              "          dataTable['output_type'] = 'display_data';\n",
              "          await google.colab.output.renderOutput(dataTable, element);\n",
              "          const docLink = document.createElement('div');\n",
              "          docLink.innerHTML = docLinkHtml;\n",
              "          element.appendChild(docLink);\n",
              "        }\n",
              "      </script>\n",
              "    </div>\n",
              "  </div>\n",
              "  "
            ]
          },
          "metadata": {},
          "execution_count": 167
        }
      ],
      "source": [
        "# create a dataframe\n",
        "\n",
        "# load the the dictionary into a dataframe\n",
        "df1 = pd.DataFrame(dataframe)\n",
        "\n",
        "df1"
      ]
    },
    {
      "cell_type": "code",
      "execution_count": null,
      "metadata": {
        "id": "JKCmX_eaSeeo",
        "outputId": "e43c707d-ea2f-4fd8-e856-92a6ae422b47",
        "colab": {
          "base_uri": "https://localhost:8080/",
          "height": 143
        }
      },
      "outputs": [
        {
          "output_type": "execute_result",
          "data": {
            "text/plain": [
              "      name age    city  country\n",
              "0     Jess  30   Paris   France\n",
              "1     Nick  35  Berlin  Germany\n",
              "2  Winston  40  Madrid    Spain"
            ],
            "text/html": [
              "\n",
              "  <div id=\"df-1e95be58-3483-4e0b-a847-601bef06720f\">\n",
              "    <div class=\"colab-df-container\">\n",
              "      <div>\n",
              "<style scoped>\n",
              "    .dataframe tbody tr th:only-of-type {\n",
              "        vertical-align: middle;\n",
              "    }\n",
              "\n",
              "    .dataframe tbody tr th {\n",
              "        vertical-align: top;\n",
              "    }\n",
              "\n",
              "    .dataframe thead th {\n",
              "        text-align: right;\n",
              "    }\n",
              "</style>\n",
              "<table border=\"1\" class=\"dataframe\">\n",
              "  <thead>\n",
              "    <tr style=\"text-align: right;\">\n",
              "      <th></th>\n",
              "      <th>name</th>\n",
              "      <th>age</th>\n",
              "      <th>city</th>\n",
              "      <th>country</th>\n",
              "    </tr>\n",
              "  </thead>\n",
              "  <tbody>\n",
              "    <tr>\n",
              "      <th>0</th>\n",
              "      <td>Jess</td>\n",
              "      <td>30</td>\n",
              "      <td>Paris</td>\n",
              "      <td>France</td>\n",
              "    </tr>\n",
              "    <tr>\n",
              "      <th>1</th>\n",
              "      <td>Nick</td>\n",
              "      <td>35</td>\n",
              "      <td>Berlin</td>\n",
              "      <td>Germany</td>\n",
              "    </tr>\n",
              "    <tr>\n",
              "      <th>2</th>\n",
              "      <td>Winston</td>\n",
              "      <td>40</td>\n",
              "      <td>Madrid</td>\n",
              "      <td>Spain</td>\n",
              "    </tr>\n",
              "  </tbody>\n",
              "</table>\n",
              "</div>\n",
              "      <button class=\"colab-df-convert\" onclick=\"convertToInteractive('df-1e95be58-3483-4e0b-a847-601bef06720f')\"\n",
              "              title=\"Convert this dataframe to an interactive table.\"\n",
              "              style=\"display:none;\">\n",
              "        \n",
              "  <svg xmlns=\"http://www.w3.org/2000/svg\" height=\"24px\"viewBox=\"0 0 24 24\"\n",
              "       width=\"24px\">\n",
              "    <path d=\"M0 0h24v24H0V0z\" fill=\"none\"/>\n",
              "    <path d=\"M18.56 5.44l.94 2.06.94-2.06 2.06-.94-2.06-.94-.94-2.06-.94 2.06-2.06.94zm-11 1L8.5 8.5l.94-2.06 2.06-.94-2.06-.94L8.5 2.5l-.94 2.06-2.06.94zm10 10l.94 2.06.94-2.06 2.06-.94-2.06-.94-.94-2.06-.94 2.06-2.06.94z\"/><path d=\"M17.41 7.96l-1.37-1.37c-.4-.4-.92-.59-1.43-.59-.52 0-1.04.2-1.43.59L10.3 9.45l-7.72 7.72c-.78.78-.78 2.05 0 2.83L4 21.41c.39.39.9.59 1.41.59.51 0 1.02-.2 1.41-.59l7.78-7.78 2.81-2.81c.8-.78.8-2.07 0-2.86zM5.41 20L4 18.59l7.72-7.72 1.47 1.35L5.41 20z\"/>\n",
              "  </svg>\n",
              "      </button>\n",
              "      \n",
              "  <style>\n",
              "    .colab-df-container {\n",
              "      display:flex;\n",
              "      flex-wrap:wrap;\n",
              "      gap: 12px;\n",
              "    }\n",
              "\n",
              "    .colab-df-convert {\n",
              "      background-color: #E8F0FE;\n",
              "      border: none;\n",
              "      border-radius: 50%;\n",
              "      cursor: pointer;\n",
              "      display: none;\n",
              "      fill: #1967D2;\n",
              "      height: 32px;\n",
              "      padding: 0 0 0 0;\n",
              "      width: 32px;\n",
              "    }\n",
              "\n",
              "    .colab-df-convert:hover {\n",
              "      background-color: #E2EBFA;\n",
              "      box-shadow: 0px 1px 2px rgba(60, 64, 67, 0.3), 0px 1px 3px 1px rgba(60, 64, 67, 0.15);\n",
              "      fill: #174EA6;\n",
              "    }\n",
              "\n",
              "    [theme=dark] .colab-df-convert {\n",
              "      background-color: #3B4455;\n",
              "      fill: #D2E3FC;\n",
              "    }\n",
              "\n",
              "    [theme=dark] .colab-df-convert:hover {\n",
              "      background-color: #434B5C;\n",
              "      box-shadow: 0px 1px 3px 1px rgba(0, 0, 0, 0.15);\n",
              "      filter: drop-shadow(0px 1px 2px rgba(0, 0, 0, 0.3));\n",
              "      fill: #FFFFFF;\n",
              "    }\n",
              "  </style>\n",
              "\n",
              "      <script>\n",
              "        const buttonEl =\n",
              "          document.querySelector('#df-1e95be58-3483-4e0b-a847-601bef06720f button.colab-df-convert');\n",
              "        buttonEl.style.display =\n",
              "          google.colab.kernel.accessAllowed ? 'block' : 'none';\n",
              "\n",
              "        async function convertToInteractive(key) {\n",
              "          const element = document.querySelector('#df-1e95be58-3483-4e0b-a847-601bef06720f');\n",
              "          const dataTable =\n",
              "            await google.colab.kernel.invokeFunction('convertToInteractive',\n",
              "                                                     [key], {});\n",
              "          if (!dataTable) return;\n",
              "\n",
              "          const docLinkHtml = 'Like what you see? Visit the ' +\n",
              "            '<a target=\"_blank\" href=https://colab.research.google.com/notebooks/data_table.ipynb>data table notebook</a>'\n",
              "            + ' to learn more about interactive tables.';\n",
              "          element.innerHTML = '';\n",
              "          dataTable['output_type'] = 'display_data';\n",
              "          await google.colab.output.renderOutput(dataTable, element);\n",
              "          const docLink = document.createElement('div');\n",
              "          docLink.innerHTML = docLinkHtml;\n",
              "          element.appendChild(docLink);\n",
              "        }\n",
              "      </script>\n",
              "    </div>\n",
              "  </div>\n",
              "  "
            ]
          },
          "metadata": {},
          "execution_count": 168
        }
      ],
      "source": [
        "# visualize the first 3 rows of df\n",
        "\n",
        "df1.head(3) # please note that the row index start at 0"
      ]
    },
    {
      "cell_type": "code",
      "source": [
        "# visualize the last 3 rows of df\n",
        "\n",
        "df1.tail(3) # please note that the row index start at 0"
      ],
      "metadata": {
        "id": "iQjspbRK5vH3",
        "outputId": "dd2a6604-c25d-4c99-ecf3-1912811371a0",
        "colab": {
          "base_uri": "https://localhost:8080/",
          "height": 143
        }
      },
      "execution_count": null,
      "outputs": [
        {
          "output_type": "execute_result",
          "data": {
            "text/plain": [
              "      name age    city country\n",
              "2  Winston  40  Madrid   Spain\n",
              "3      Tom  27   Paris  France\n",
              "4     Alex  52  London      UK"
            ],
            "text/html": [
              "\n",
              "  <div id=\"df-7d9d6d43-fa6a-45f1-9571-9cb1427f9ee9\">\n",
              "    <div class=\"colab-df-container\">\n",
              "      <div>\n",
              "<style scoped>\n",
              "    .dataframe tbody tr th:only-of-type {\n",
              "        vertical-align: middle;\n",
              "    }\n",
              "\n",
              "    .dataframe tbody tr th {\n",
              "        vertical-align: top;\n",
              "    }\n",
              "\n",
              "    .dataframe thead th {\n",
              "        text-align: right;\n",
              "    }\n",
              "</style>\n",
              "<table border=\"1\" class=\"dataframe\">\n",
              "  <thead>\n",
              "    <tr style=\"text-align: right;\">\n",
              "      <th></th>\n",
              "      <th>name</th>\n",
              "      <th>age</th>\n",
              "      <th>city</th>\n",
              "      <th>country</th>\n",
              "    </tr>\n",
              "  </thead>\n",
              "  <tbody>\n",
              "    <tr>\n",
              "      <th>2</th>\n",
              "      <td>Winston</td>\n",
              "      <td>40</td>\n",
              "      <td>Madrid</td>\n",
              "      <td>Spain</td>\n",
              "    </tr>\n",
              "    <tr>\n",
              "      <th>3</th>\n",
              "      <td>Tom</td>\n",
              "      <td>27</td>\n",
              "      <td>Paris</td>\n",
              "      <td>France</td>\n",
              "    </tr>\n",
              "    <tr>\n",
              "      <th>4</th>\n",
              "      <td>Alex</td>\n",
              "      <td>52</td>\n",
              "      <td>London</td>\n",
              "      <td>UK</td>\n",
              "    </tr>\n",
              "  </tbody>\n",
              "</table>\n",
              "</div>\n",
              "      <button class=\"colab-df-convert\" onclick=\"convertToInteractive('df-7d9d6d43-fa6a-45f1-9571-9cb1427f9ee9')\"\n",
              "              title=\"Convert this dataframe to an interactive table.\"\n",
              "              style=\"display:none;\">\n",
              "        \n",
              "  <svg xmlns=\"http://www.w3.org/2000/svg\" height=\"24px\"viewBox=\"0 0 24 24\"\n",
              "       width=\"24px\">\n",
              "    <path d=\"M0 0h24v24H0V0z\" fill=\"none\"/>\n",
              "    <path d=\"M18.56 5.44l.94 2.06.94-2.06 2.06-.94-2.06-.94-.94-2.06-.94 2.06-2.06.94zm-11 1L8.5 8.5l.94-2.06 2.06-.94-2.06-.94L8.5 2.5l-.94 2.06-2.06.94zm10 10l.94 2.06.94-2.06 2.06-.94-2.06-.94-.94-2.06-.94 2.06-2.06.94z\"/><path d=\"M17.41 7.96l-1.37-1.37c-.4-.4-.92-.59-1.43-.59-.52 0-1.04.2-1.43.59L10.3 9.45l-7.72 7.72c-.78.78-.78 2.05 0 2.83L4 21.41c.39.39.9.59 1.41.59.51 0 1.02-.2 1.41-.59l7.78-7.78 2.81-2.81c.8-.78.8-2.07 0-2.86zM5.41 20L4 18.59l7.72-7.72 1.47 1.35L5.41 20z\"/>\n",
              "  </svg>\n",
              "      </button>\n",
              "      \n",
              "  <style>\n",
              "    .colab-df-container {\n",
              "      display:flex;\n",
              "      flex-wrap:wrap;\n",
              "      gap: 12px;\n",
              "    }\n",
              "\n",
              "    .colab-df-convert {\n",
              "      background-color: #E8F0FE;\n",
              "      border: none;\n",
              "      border-radius: 50%;\n",
              "      cursor: pointer;\n",
              "      display: none;\n",
              "      fill: #1967D2;\n",
              "      height: 32px;\n",
              "      padding: 0 0 0 0;\n",
              "      width: 32px;\n",
              "    }\n",
              "\n",
              "    .colab-df-convert:hover {\n",
              "      background-color: #E2EBFA;\n",
              "      box-shadow: 0px 1px 2px rgba(60, 64, 67, 0.3), 0px 1px 3px 1px rgba(60, 64, 67, 0.15);\n",
              "      fill: #174EA6;\n",
              "    }\n",
              "\n",
              "    [theme=dark] .colab-df-convert {\n",
              "      background-color: #3B4455;\n",
              "      fill: #D2E3FC;\n",
              "    }\n",
              "\n",
              "    [theme=dark] .colab-df-convert:hover {\n",
              "      background-color: #434B5C;\n",
              "      box-shadow: 0px 1px 3px 1px rgba(0, 0, 0, 0.15);\n",
              "      filter: drop-shadow(0px 1px 2px rgba(0, 0, 0, 0.3));\n",
              "      fill: #FFFFFF;\n",
              "    }\n",
              "  </style>\n",
              "\n",
              "      <script>\n",
              "        const buttonEl =\n",
              "          document.querySelector('#df-7d9d6d43-fa6a-45f1-9571-9cb1427f9ee9 button.colab-df-convert');\n",
              "        buttonEl.style.display =\n",
              "          google.colab.kernel.accessAllowed ? 'block' : 'none';\n",
              "\n",
              "        async function convertToInteractive(key) {\n",
              "          const element = document.querySelector('#df-7d9d6d43-fa6a-45f1-9571-9cb1427f9ee9');\n",
              "          const dataTable =\n",
              "            await google.colab.kernel.invokeFunction('convertToInteractive',\n",
              "                                                     [key], {});\n",
              "          if (!dataTable) return;\n",
              "\n",
              "          const docLinkHtml = 'Like what you see? Visit the ' +\n",
              "            '<a target=\"_blank\" href=https://colab.research.google.com/notebooks/data_table.ipynb>data table notebook</a>'\n",
              "            + ' to learn more about interactive tables.';\n",
              "          element.innerHTML = '';\n",
              "          dataTable['output_type'] = 'display_data';\n",
              "          await google.colab.output.renderOutput(dataTable, element);\n",
              "          const docLink = document.createElement('div');\n",
              "          docLink.innerHTML = docLinkHtml;\n",
              "          element.appendChild(docLink);\n",
              "        }\n",
              "      </script>\n",
              "    </div>\n",
              "  </div>\n",
              "  "
            ]
          },
          "metadata": {},
          "execution_count": 169
        }
      ]
    },
    {
      "cell_type": "code",
      "execution_count": null,
      "metadata": {
        "id": "Qbj76q-xTEYB",
        "outputId": "7c8e71ec-18bd-4364-b64b-04647053ec3d",
        "colab": {
          "base_uri": "https://localhost:8080/"
        }
      },
      "outputs": [
        {
          "output_type": "execute_result",
          "data": {
            "text/plain": [
              "(5, 4)"
            ]
          },
          "metadata": {},
          "execution_count": 170
        }
      ],
      "source": [
        "# df dimensions\n",
        "\n",
        "df1.shape # retunr nb of rows, and nb of columns"
      ]
    },
    {
      "cell_type": "code",
      "execution_count": null,
      "metadata": {
        "id": "KHLBVTXjTH0W",
        "outputId": "737c0fb5-6ecd-4e14-d9fd-0c3f9f4c654b",
        "colab": {
          "base_uri": "https://localhost:8080/"
        }
      },
      "outputs": [
        {
          "output_type": "execute_result",
          "data": {
            "text/plain": [
              "5"
            ]
          },
          "metadata": {},
          "execution_count": 171
        }
      ],
      "source": [
        "# nb of rows\n",
        "\n",
        "df1.shape[0]"
      ]
    },
    {
      "cell_type": "code",
      "execution_count": null,
      "metadata": {
        "id": "5IUZErk6TOhS",
        "outputId": "a3faa919-4a3b-473b-ae2c-ca8f7b1d7f6f",
        "colab": {
          "base_uri": "https://localhost:8080/"
        }
      },
      "outputs": [
        {
          "output_type": "execute_result",
          "data": {
            "text/plain": [
              "5"
            ]
          },
          "metadata": {},
          "execution_count": 172
        }
      ],
      "source": [
        "len(df1)"
      ]
    },
    {
      "cell_type": "code",
      "execution_count": null,
      "metadata": {
        "id": "QFprcZGjTQSZ",
        "outputId": "4e93b99a-65aa-4118-8a13-14d5890f1c70",
        "colab": {
          "base_uri": "https://localhost:8080/"
        }
      },
      "outputs": [
        {
          "output_type": "execute_result",
          "data": {
            "text/plain": [
              "4"
            ]
          },
          "metadata": {},
          "execution_count": 173
        }
      ],
      "source": [
        "# nb. of columns\n",
        "df1.shape[1]"
      ]
    },
    {
      "cell_type": "code",
      "execution_count": null,
      "metadata": {
        "id": "5Yqcxa8aTUPD",
        "outputId": "5a3240dd-feec-4753-b692-1c0d009d8aa7",
        "colab": {
          "base_uri": "https://localhost:8080/"
        }
      },
      "outputs": [
        {
          "output_type": "execute_result",
          "data": {
            "text/plain": [
              "4"
            ]
          },
          "metadata": {},
          "execution_count": 174
        }
      ],
      "source": [
        "len(df1.columns)"
      ]
    },
    {
      "cell_type": "code",
      "execution_count": null,
      "metadata": {
        "id": "N7UPeznrTXaF",
        "outputId": "377887a4-b213-48c1-d5d0-f83467fcfe7f",
        "colab": {
          "base_uri": "https://localhost:8080/"
        }
      },
      "outputs": [
        {
          "output_type": "execute_result",
          "data": {
            "text/plain": [
              "Index(['name', 'age', 'city', 'country'], dtype='object')"
            ]
          },
          "metadata": {},
          "execution_count": 175
        }
      ],
      "source": [
        "# get df columns\n",
        "\n",
        "df1.columns"
      ]
    },
    {
      "cell_type": "code",
      "execution_count": null,
      "metadata": {
        "id": "gMZxm5PBTbbT",
        "outputId": "6830dd5a-af7c-4184-ee53-884309b46d0a",
        "colab": {
          "base_uri": "https://localhost:8080/",
          "height": 35
        }
      },
      "outputs": [
        {
          "output_type": "execute_result",
          "data": {
            "text/plain": [
              "'name'"
            ],
            "application/vnd.google.colaboratory.intrinsic+json": {
              "type": "string"
            }
          },
          "metadata": {},
          "execution_count": 176
        }
      ],
      "source": [
        "# 1st column index: starts at 0\n",
        "\n",
        "df1.columns[0]\n"
      ]
    },
    {
      "cell_type": "markdown",
      "metadata": {
        "id": "6LU-ODP8TpPl"
      },
      "source": [
        "## Locations: .iloc & .loc"
      ]
    },
    {
      "cell_type": "code",
      "execution_count": null,
      "metadata": {
        "id": "CIVlcWu7TjH7",
        "outputId": "c3d18849-4932-4d2e-d3ae-594307ac7d75",
        "colab": {
          "base_uri": "https://localhost:8080/"
        }
      },
      "outputs": [
        {
          "output_type": "execute_result",
          "data": {
            "text/plain": [
              "0    30\n",
              "1    35\n",
              "2    40\n",
              "3    27\n",
              "4    52\n",
              "Name: age, dtype: object"
            ]
          },
          "metadata": {},
          "execution_count": 177
        }
      ],
      "source": [
        "# access values by column name\n",
        "\n",
        "df1['age']"
      ]
    },
    {
      "cell_type": "code",
      "source": [
        "# another way to get values of a column\n",
        "\n",
        "df1.age"
      ],
      "metadata": {
        "id": "xZf_1Ox8iEO5",
        "outputId": "708fb524-8254-4ad7-88bb-14415537e505",
        "colab": {
          "base_uri": "https://localhost:8080/"
        }
      },
      "execution_count": null,
      "outputs": [
        {
          "output_type": "execute_result",
          "data": {
            "text/plain": [
              "0    30\n",
              "1    35\n",
              "2    40\n",
              "3    27\n",
              "4    52\n",
              "Name: age, dtype: object"
            ]
          },
          "metadata": {},
          "execution_count": 178
        }
      ]
    },
    {
      "cell_type": "markdown",
      "source": [
        "TO access values from dataframe we use **.iloc** and **.loc** attributes"
      ],
      "metadata": {
        "id": "B0-676TUtflQ"
      }
    },
    {
      "cell_type": "markdown",
      "source": [
        "**.iloc**"
      ],
      "metadata": {
        "id": "MY-NbgI53D-M"
      }
    },
    {
      "cell_type": "markdown",
      "source": [
        "The pandas.DataFrame.iloc attribute is used to access elements from a pandas DataFrame using the integer position. \n",
        "\n",
        "The “.iloc” attribute allows inputs like an integer value, a list of integer values, and a slicing object with integers, and boolean array, etc.\n",
        "\n",
        "The attribute will raise an “IndexError” if the requested index is out of bounds, except for the slicing indexer object."
      ],
      "metadata": {
        "id": "ULjHVL_GtvJu"
      }
    },
    {
      "cell_type": "markdown",
      "source": [
        "iloc[row_position, column_position]"
      ],
      "metadata": {
        "id": "UpVrqgNPypXm"
      }
    },
    {
      "cell_type": "code",
      "source": [
        "print(df1)\n",
        "print('')\n",
        "\n",
        "# acces 1st row with .iloc\n",
        "df1.iloc[0] # a sing argument"
      ],
      "metadata": {
        "id": "raOFtmy6uq11",
        "outputId": "2325176f-796c-4481-b36a-e9bd028f1b52",
        "colab": {
          "base_uri": "https://localhost:8080/"
        }
      },
      "execution_count": null,
      "outputs": [
        {
          "output_type": "stream",
          "name": "stdout",
          "text": [
            "      name age    city  country\n",
            "0     Jess  30   Paris   France\n",
            "1     Nick  35  Berlin  Germany\n",
            "2  Winston  40  Madrid    Spain\n",
            "3      Tom  27   Paris   France\n",
            "4     Alex  52  London       UK\n",
            "\n"
          ]
        },
        {
          "output_type": "execute_result",
          "data": {
            "text/plain": [
              "name         Jess\n",
              "age            30\n",
              "city        Paris\n",
              "country    France\n",
              "Name: 0, dtype: object"
            ]
          },
          "metadata": {},
          "execution_count": 179
        }
      ]
    },
    {
      "cell_type": "code",
      "source": [
        "print(df1)\n",
        "print('')\n",
        "\n",
        "# acces the last row with .iloc\n",
        "df1.iloc[-1]"
      ],
      "metadata": {
        "id": "BvHA_OaCu9w3",
        "outputId": "3cdd6dae-5668-4301-bfcd-eb9490f06236",
        "colab": {
          "base_uri": "https://localhost:8080/"
        }
      },
      "execution_count": null,
      "outputs": [
        {
          "output_type": "stream",
          "name": "stdout",
          "text": [
            "      name age    city  country\n",
            "0     Jess  30   Paris   France\n",
            "1     Nick  35  Berlin  Germany\n",
            "2  Winston  40  Madrid    Spain\n",
            "3      Tom  27   Paris   France\n",
            "4     Alex  52  London       UK\n",
            "\n"
          ]
        },
        {
          "output_type": "execute_result",
          "data": {
            "text/plain": [
              "name         Alex\n",
              "age            52\n",
              "city       London\n",
              "country        UK\n",
              "Name: 4, dtype: object"
            ]
          },
          "metadata": {},
          "execution_count": 180
        }
      ]
    },
    {
      "cell_type": "code",
      "execution_count": null,
      "metadata": {
        "id": "mCZA0A_MTwJ5",
        "outputId": "3f2efdac-4f52-4771-eefd-41ba2135f215",
        "colab": {
          "base_uri": "https://localhost:8080/"
        }
      },
      "outputs": [
        {
          "output_type": "stream",
          "name": "stdout",
          "text": [
            "      name age    city  country\n",
            "0     Jess  30   Paris   France\n",
            "1     Nick  35  Berlin  Germany\n",
            "2  Winston  40  Madrid    Spain\n",
            "3      Tom  27   Paris   France\n",
            "4     Alex  52  London       UK\n",
            "\n",
            "the 1st element of df is:  Jess\n"
          ]
        }
      ],
      "source": [
        "# accessing a single element by index with .iloc attribute\n",
        "\n",
        "print(df1)\n",
        "print('')\n",
        "print('the 1st element of df is: ', df1.iloc[0, 0])"
      ]
    },
    {
      "cell_type": "code",
      "execution_count": null,
      "metadata": {
        "id": "6h4TipVET-4y",
        "outputId": "7403482d-f74c-400b-a27d-c84c3d1fd0d6",
        "colab": {
          "base_uri": "https://localhost:8080/",
          "height": 35
        }
      },
      "outputs": [
        {
          "output_type": "execute_result",
          "data": {
            "text/plain": [
              "'UK'"
            ],
            "application/vnd.google.colaboratory.intrinsic+json": {
              "type": "string"
            }
          },
          "metadata": {},
          "execution_count": 182
        }
      ],
      "source": [
        "# accessing the last element of the df\n",
        "df1.iloc[-1, -1]"
      ]
    },
    {
      "cell_type": "code",
      "execution_count": null,
      "metadata": {
        "id": "2TmwbnFJUEME",
        "outputId": "fbc43812-8d6a-40e4-bb8a-7c680d0a384b",
        "colab": {
          "base_uri": "https://localhost:8080/",
          "height": 157
        }
      },
      "outputs": [
        {
          "output_type": "stream",
          "name": "stdout",
          "text": [
            "      name age    city  country\n",
            "0     Jess  30   Paris   France\n",
            "1     Nick  35  Berlin  Germany\n",
            "2  Winston  40  Madrid    Spain\n",
            "3      Tom  27   Paris   France\n",
            "4     Alex  52  London       UK\n",
            "\n"
          ]
        },
        {
          "output_type": "execute_result",
          "data": {
            "text/plain": [
              "'40'"
            ],
            "application/vnd.google.colaboratory.intrinsic+json": {
              "type": "string"
            }
          },
          "metadata": {},
          "execution_count": 183
        }
      ],
      "source": [
        "# return element with value 40\n",
        "\n",
        "print(df1)\n",
        "print('')\n",
        "df1.iloc[2,1] # row index 2 and col index 1"
      ]
    },
    {
      "cell_type": "code",
      "source": [
        "# out of bounds index\n",
        "# ... romove the hashtag (#) in front of the line with code if you want to run the cell...\n",
        "\n",
        "# df1.iloc[12,2]"
      ],
      "metadata": {
        "id": "0HMhG2BduBtO"
      },
      "execution_count": null,
      "outputs": []
    },
    {
      "cell_type": "code",
      "source": [
        "print(df1)\n",
        "print('')\n",
        "\n",
        "# accessing a range of values by index\n",
        "df1.iloc[:3, 1:3] # all elements till the 2nd row (not included) and columns from 1 to 3 (where 3 not included)"
      ],
      "metadata": {
        "id": "sTX-Dk8JvQPc",
        "outputId": "55c39d4b-dbcb-4d87-9a85-660a1e95e1ee",
        "colab": {
          "base_uri": "https://localhost:8080/",
          "height": 265
        }
      },
      "execution_count": null,
      "outputs": [
        {
          "output_type": "stream",
          "name": "stdout",
          "text": [
            "      name age    city  country\n",
            "0     Jess  30   Paris   France\n",
            "1     Nick  35  Berlin  Germany\n",
            "2  Winston  40  Madrid    Spain\n",
            "3      Tom  27   Paris   France\n",
            "4     Alex  52  London       UK\n",
            "\n"
          ]
        },
        {
          "output_type": "execute_result",
          "data": {
            "text/plain": [
              "  age    city\n",
              "0  30   Paris\n",
              "1  35  Berlin\n",
              "2  40  Madrid"
            ],
            "text/html": [
              "\n",
              "  <div id=\"df-c1aa0d31-2a8e-4f63-8737-52088b260532\">\n",
              "    <div class=\"colab-df-container\">\n",
              "      <div>\n",
              "<style scoped>\n",
              "    .dataframe tbody tr th:only-of-type {\n",
              "        vertical-align: middle;\n",
              "    }\n",
              "\n",
              "    .dataframe tbody tr th {\n",
              "        vertical-align: top;\n",
              "    }\n",
              "\n",
              "    .dataframe thead th {\n",
              "        text-align: right;\n",
              "    }\n",
              "</style>\n",
              "<table border=\"1\" class=\"dataframe\">\n",
              "  <thead>\n",
              "    <tr style=\"text-align: right;\">\n",
              "      <th></th>\n",
              "      <th>age</th>\n",
              "      <th>city</th>\n",
              "    </tr>\n",
              "  </thead>\n",
              "  <tbody>\n",
              "    <tr>\n",
              "      <th>0</th>\n",
              "      <td>30</td>\n",
              "      <td>Paris</td>\n",
              "    </tr>\n",
              "    <tr>\n",
              "      <th>1</th>\n",
              "      <td>35</td>\n",
              "      <td>Berlin</td>\n",
              "    </tr>\n",
              "    <tr>\n",
              "      <th>2</th>\n",
              "      <td>40</td>\n",
              "      <td>Madrid</td>\n",
              "    </tr>\n",
              "  </tbody>\n",
              "</table>\n",
              "</div>\n",
              "      <button class=\"colab-df-convert\" onclick=\"convertToInteractive('df-c1aa0d31-2a8e-4f63-8737-52088b260532')\"\n",
              "              title=\"Convert this dataframe to an interactive table.\"\n",
              "              style=\"display:none;\">\n",
              "        \n",
              "  <svg xmlns=\"http://www.w3.org/2000/svg\" height=\"24px\"viewBox=\"0 0 24 24\"\n",
              "       width=\"24px\">\n",
              "    <path d=\"M0 0h24v24H0V0z\" fill=\"none\"/>\n",
              "    <path d=\"M18.56 5.44l.94 2.06.94-2.06 2.06-.94-2.06-.94-.94-2.06-.94 2.06-2.06.94zm-11 1L8.5 8.5l.94-2.06 2.06-.94-2.06-.94L8.5 2.5l-.94 2.06-2.06.94zm10 10l.94 2.06.94-2.06 2.06-.94-2.06-.94-.94-2.06-.94 2.06-2.06.94z\"/><path d=\"M17.41 7.96l-1.37-1.37c-.4-.4-.92-.59-1.43-.59-.52 0-1.04.2-1.43.59L10.3 9.45l-7.72 7.72c-.78.78-.78 2.05 0 2.83L4 21.41c.39.39.9.59 1.41.59.51 0 1.02-.2 1.41-.59l7.78-7.78 2.81-2.81c.8-.78.8-2.07 0-2.86zM5.41 20L4 18.59l7.72-7.72 1.47 1.35L5.41 20z\"/>\n",
              "  </svg>\n",
              "      </button>\n",
              "      \n",
              "  <style>\n",
              "    .colab-df-container {\n",
              "      display:flex;\n",
              "      flex-wrap:wrap;\n",
              "      gap: 12px;\n",
              "    }\n",
              "\n",
              "    .colab-df-convert {\n",
              "      background-color: #E8F0FE;\n",
              "      border: none;\n",
              "      border-radius: 50%;\n",
              "      cursor: pointer;\n",
              "      display: none;\n",
              "      fill: #1967D2;\n",
              "      height: 32px;\n",
              "      padding: 0 0 0 0;\n",
              "      width: 32px;\n",
              "    }\n",
              "\n",
              "    .colab-df-convert:hover {\n",
              "      background-color: #E2EBFA;\n",
              "      box-shadow: 0px 1px 2px rgba(60, 64, 67, 0.3), 0px 1px 3px 1px rgba(60, 64, 67, 0.15);\n",
              "      fill: #174EA6;\n",
              "    }\n",
              "\n",
              "    [theme=dark] .colab-df-convert {\n",
              "      background-color: #3B4455;\n",
              "      fill: #D2E3FC;\n",
              "    }\n",
              "\n",
              "    [theme=dark] .colab-df-convert:hover {\n",
              "      background-color: #434B5C;\n",
              "      box-shadow: 0px 1px 3px 1px rgba(0, 0, 0, 0.15);\n",
              "      filter: drop-shadow(0px 1px 2px rgba(0, 0, 0, 0.3));\n",
              "      fill: #FFFFFF;\n",
              "    }\n",
              "  </style>\n",
              "\n",
              "      <script>\n",
              "        const buttonEl =\n",
              "          document.querySelector('#df-c1aa0d31-2a8e-4f63-8737-52088b260532 button.colab-df-convert');\n",
              "        buttonEl.style.display =\n",
              "          google.colab.kernel.accessAllowed ? 'block' : 'none';\n",
              "\n",
              "        async function convertToInteractive(key) {\n",
              "          const element = document.querySelector('#df-c1aa0d31-2a8e-4f63-8737-52088b260532');\n",
              "          const dataTable =\n",
              "            await google.colab.kernel.invokeFunction('convertToInteractive',\n",
              "                                                     [key], {});\n",
              "          if (!dataTable) return;\n",
              "\n",
              "          const docLinkHtml = 'Like what you see? Visit the ' +\n",
              "            '<a target=\"_blank\" href=https://colab.research.google.com/notebooks/data_table.ipynb>data table notebook</a>'\n",
              "            + ' to learn more about interactive tables.';\n",
              "          element.innerHTML = '';\n",
              "          dataTable['output_type'] = 'display_data';\n",
              "          await google.colab.output.renderOutput(dataTable, element);\n",
              "          const docLink = document.createElement('div');\n",
              "          docLink.innerHTML = docLinkHtml;\n",
              "          element.appendChild(docLink);\n",
              "        }\n",
              "      </script>\n",
              "    </div>\n",
              "  </div>\n",
              "  "
            ]
          },
          "metadata": {},
          "execution_count": 185
        }
      ]
    },
    {
      "cell_type": "markdown",
      "source": [
        "**.loc** "
      ],
      "metadata": {
        "id": "2HV9UOOS3JOI"
      }
    },
    {
      "cell_type": "markdown",
      "source": [
        "The “.loc” is an attribute of the pandas.DataFrame. it is used to access elements from DataFrame based on row/column label indexing."
      ],
      "metadata": {
        "id": "7bZXVxdbs0t5"
      }
    },
    {
      "cell_type": "markdown",
      "source": [
        "loc[row_label, column_label]"
      ],
      "metadata": {
        "id": "UDgRy2cFywRY"
      }
    },
    {
      "cell_type": "code",
      "source": [
        "# the rows have indices, but no labels\n",
        "\n",
        "print(df1.shape)\n",
        "\n",
        "df1"
      ],
      "metadata": {
        "id": "AqWGf5FB5Y9s",
        "outputId": "24e53401-a714-44ef-812b-9f4cbeb23a93",
        "colab": {
          "base_uri": "https://localhost:8080/",
          "height": 223
        }
      },
      "execution_count": null,
      "outputs": [
        {
          "output_type": "stream",
          "name": "stdout",
          "text": [
            "(5, 4)\n"
          ]
        },
        {
          "output_type": "execute_result",
          "data": {
            "text/plain": [
              "      name age    city  country\n",
              "0     Jess  30   Paris   France\n",
              "1     Nick  35  Berlin  Germany\n",
              "2  Winston  40  Madrid    Spain\n",
              "3      Tom  27   Paris   France\n",
              "4     Alex  52  London       UK"
            ],
            "text/html": [
              "\n",
              "  <div id=\"df-7da5ca9a-a8f4-4fe4-8df0-66f9802e9b06\">\n",
              "    <div class=\"colab-df-container\">\n",
              "      <div>\n",
              "<style scoped>\n",
              "    .dataframe tbody tr th:only-of-type {\n",
              "        vertical-align: middle;\n",
              "    }\n",
              "\n",
              "    .dataframe tbody tr th {\n",
              "        vertical-align: top;\n",
              "    }\n",
              "\n",
              "    .dataframe thead th {\n",
              "        text-align: right;\n",
              "    }\n",
              "</style>\n",
              "<table border=\"1\" class=\"dataframe\">\n",
              "  <thead>\n",
              "    <tr style=\"text-align: right;\">\n",
              "      <th></th>\n",
              "      <th>name</th>\n",
              "      <th>age</th>\n",
              "      <th>city</th>\n",
              "      <th>country</th>\n",
              "    </tr>\n",
              "  </thead>\n",
              "  <tbody>\n",
              "    <tr>\n",
              "      <th>0</th>\n",
              "      <td>Jess</td>\n",
              "      <td>30</td>\n",
              "      <td>Paris</td>\n",
              "      <td>France</td>\n",
              "    </tr>\n",
              "    <tr>\n",
              "      <th>1</th>\n",
              "      <td>Nick</td>\n",
              "      <td>35</td>\n",
              "      <td>Berlin</td>\n",
              "      <td>Germany</td>\n",
              "    </tr>\n",
              "    <tr>\n",
              "      <th>2</th>\n",
              "      <td>Winston</td>\n",
              "      <td>40</td>\n",
              "      <td>Madrid</td>\n",
              "      <td>Spain</td>\n",
              "    </tr>\n",
              "    <tr>\n",
              "      <th>3</th>\n",
              "      <td>Tom</td>\n",
              "      <td>27</td>\n",
              "      <td>Paris</td>\n",
              "      <td>France</td>\n",
              "    </tr>\n",
              "    <tr>\n",
              "      <th>4</th>\n",
              "      <td>Alex</td>\n",
              "      <td>52</td>\n",
              "      <td>London</td>\n",
              "      <td>UK</td>\n",
              "    </tr>\n",
              "  </tbody>\n",
              "</table>\n",
              "</div>\n",
              "      <button class=\"colab-df-convert\" onclick=\"convertToInteractive('df-7da5ca9a-a8f4-4fe4-8df0-66f9802e9b06')\"\n",
              "              title=\"Convert this dataframe to an interactive table.\"\n",
              "              style=\"display:none;\">\n",
              "        \n",
              "  <svg xmlns=\"http://www.w3.org/2000/svg\" height=\"24px\"viewBox=\"0 0 24 24\"\n",
              "       width=\"24px\">\n",
              "    <path d=\"M0 0h24v24H0V0z\" fill=\"none\"/>\n",
              "    <path d=\"M18.56 5.44l.94 2.06.94-2.06 2.06-.94-2.06-.94-.94-2.06-.94 2.06-2.06.94zm-11 1L8.5 8.5l.94-2.06 2.06-.94-2.06-.94L8.5 2.5l-.94 2.06-2.06.94zm10 10l.94 2.06.94-2.06 2.06-.94-2.06-.94-.94-2.06-.94 2.06-2.06.94z\"/><path d=\"M17.41 7.96l-1.37-1.37c-.4-.4-.92-.59-1.43-.59-.52 0-1.04.2-1.43.59L10.3 9.45l-7.72 7.72c-.78.78-.78 2.05 0 2.83L4 21.41c.39.39.9.59 1.41.59.51 0 1.02-.2 1.41-.59l7.78-7.78 2.81-2.81c.8-.78.8-2.07 0-2.86zM5.41 20L4 18.59l7.72-7.72 1.47 1.35L5.41 20z\"/>\n",
              "  </svg>\n",
              "      </button>\n",
              "      \n",
              "  <style>\n",
              "    .colab-df-container {\n",
              "      display:flex;\n",
              "      flex-wrap:wrap;\n",
              "      gap: 12px;\n",
              "    }\n",
              "\n",
              "    .colab-df-convert {\n",
              "      background-color: #E8F0FE;\n",
              "      border: none;\n",
              "      border-radius: 50%;\n",
              "      cursor: pointer;\n",
              "      display: none;\n",
              "      fill: #1967D2;\n",
              "      height: 32px;\n",
              "      padding: 0 0 0 0;\n",
              "      width: 32px;\n",
              "    }\n",
              "\n",
              "    .colab-df-convert:hover {\n",
              "      background-color: #E2EBFA;\n",
              "      box-shadow: 0px 1px 2px rgba(60, 64, 67, 0.3), 0px 1px 3px 1px rgba(60, 64, 67, 0.15);\n",
              "      fill: #174EA6;\n",
              "    }\n",
              "\n",
              "    [theme=dark] .colab-df-convert {\n",
              "      background-color: #3B4455;\n",
              "      fill: #D2E3FC;\n",
              "    }\n",
              "\n",
              "    [theme=dark] .colab-df-convert:hover {\n",
              "      background-color: #434B5C;\n",
              "      box-shadow: 0px 1px 3px 1px rgba(0, 0, 0, 0.15);\n",
              "      filter: drop-shadow(0px 1px 2px rgba(0, 0, 0, 0.3));\n",
              "      fill: #FFFFFF;\n",
              "    }\n",
              "  </style>\n",
              "\n",
              "      <script>\n",
              "        const buttonEl =\n",
              "          document.querySelector('#df-7da5ca9a-a8f4-4fe4-8df0-66f9802e9b06 button.colab-df-convert');\n",
              "        buttonEl.style.display =\n",
              "          google.colab.kernel.accessAllowed ? 'block' : 'none';\n",
              "\n",
              "        async function convertToInteractive(key) {\n",
              "          const element = document.querySelector('#df-7da5ca9a-a8f4-4fe4-8df0-66f9802e9b06');\n",
              "          const dataTable =\n",
              "            await google.colab.kernel.invokeFunction('convertToInteractive',\n",
              "                                                     [key], {});\n",
              "          if (!dataTable) return;\n",
              "\n",
              "          const docLinkHtml = 'Like what you see? Visit the ' +\n",
              "            '<a target=\"_blank\" href=https://colab.research.google.com/notebooks/data_table.ipynb>data table notebook</a>'\n",
              "            + ' to learn more about interactive tables.';\n",
              "          element.innerHTML = '';\n",
              "          dataTable['output_type'] = 'display_data';\n",
              "          await google.colab.output.renderOutput(dataTable, element);\n",
              "          const docLink = document.createElement('div');\n",
              "          docLink.innerHTML = docLinkHtml;\n",
              "          element.appendChild(docLink);\n",
              "        }\n",
              "      </script>\n",
              "    </div>\n",
              "  </div>\n",
              "  "
            ]
          },
          "metadata": {},
          "execution_count": 186
        }
      ]
    },
    {
      "cell_type": "code",
      "source": [
        "# reset the index of df, use the column name as index\n",
        "\n",
        "df1 = df1.set_index('name')\n",
        "print('the new shape of df1 is: ', df1.shape)\n",
        "print('')\n",
        "df1"
      ],
      "metadata": {
        "id": "jv7Kheu60Yrx",
        "outputId": "f0c7ab86-18ae-4a71-edc3-0a872c362ee7",
        "colab": {
          "base_uri": "https://localhost:8080/",
          "height": 272
        }
      },
      "execution_count": null,
      "outputs": [
        {
          "output_type": "stream",
          "name": "stdout",
          "text": [
            "the new shape of df1 is:  (5, 3)\n",
            "\n"
          ]
        },
        {
          "output_type": "execute_result",
          "data": {
            "text/plain": [
              "        age    city  country\n",
              "name                        \n",
              "Jess     30   Paris   France\n",
              "Nick     35  Berlin  Germany\n",
              "Winston  40  Madrid    Spain\n",
              "Tom      27   Paris   France\n",
              "Alex     52  London       UK"
            ],
            "text/html": [
              "\n",
              "  <div id=\"df-7dccd5ec-ebb2-4e79-913d-079fa9f21c76\">\n",
              "    <div class=\"colab-df-container\">\n",
              "      <div>\n",
              "<style scoped>\n",
              "    .dataframe tbody tr th:only-of-type {\n",
              "        vertical-align: middle;\n",
              "    }\n",
              "\n",
              "    .dataframe tbody tr th {\n",
              "        vertical-align: top;\n",
              "    }\n",
              "\n",
              "    .dataframe thead th {\n",
              "        text-align: right;\n",
              "    }\n",
              "</style>\n",
              "<table border=\"1\" class=\"dataframe\">\n",
              "  <thead>\n",
              "    <tr style=\"text-align: right;\">\n",
              "      <th></th>\n",
              "      <th>age</th>\n",
              "      <th>city</th>\n",
              "      <th>country</th>\n",
              "    </tr>\n",
              "    <tr>\n",
              "      <th>name</th>\n",
              "      <th></th>\n",
              "      <th></th>\n",
              "      <th></th>\n",
              "    </tr>\n",
              "  </thead>\n",
              "  <tbody>\n",
              "    <tr>\n",
              "      <th>Jess</th>\n",
              "      <td>30</td>\n",
              "      <td>Paris</td>\n",
              "      <td>France</td>\n",
              "    </tr>\n",
              "    <tr>\n",
              "      <th>Nick</th>\n",
              "      <td>35</td>\n",
              "      <td>Berlin</td>\n",
              "      <td>Germany</td>\n",
              "    </tr>\n",
              "    <tr>\n",
              "      <th>Winston</th>\n",
              "      <td>40</td>\n",
              "      <td>Madrid</td>\n",
              "      <td>Spain</td>\n",
              "    </tr>\n",
              "    <tr>\n",
              "      <th>Tom</th>\n",
              "      <td>27</td>\n",
              "      <td>Paris</td>\n",
              "      <td>France</td>\n",
              "    </tr>\n",
              "    <tr>\n",
              "      <th>Alex</th>\n",
              "      <td>52</td>\n",
              "      <td>London</td>\n",
              "      <td>UK</td>\n",
              "    </tr>\n",
              "  </tbody>\n",
              "</table>\n",
              "</div>\n",
              "      <button class=\"colab-df-convert\" onclick=\"convertToInteractive('df-7dccd5ec-ebb2-4e79-913d-079fa9f21c76')\"\n",
              "              title=\"Convert this dataframe to an interactive table.\"\n",
              "              style=\"display:none;\">\n",
              "        \n",
              "  <svg xmlns=\"http://www.w3.org/2000/svg\" height=\"24px\"viewBox=\"0 0 24 24\"\n",
              "       width=\"24px\">\n",
              "    <path d=\"M0 0h24v24H0V0z\" fill=\"none\"/>\n",
              "    <path d=\"M18.56 5.44l.94 2.06.94-2.06 2.06-.94-2.06-.94-.94-2.06-.94 2.06-2.06.94zm-11 1L8.5 8.5l.94-2.06 2.06-.94-2.06-.94L8.5 2.5l-.94 2.06-2.06.94zm10 10l.94 2.06.94-2.06 2.06-.94-2.06-.94-.94-2.06-.94 2.06-2.06.94z\"/><path d=\"M17.41 7.96l-1.37-1.37c-.4-.4-.92-.59-1.43-.59-.52 0-1.04.2-1.43.59L10.3 9.45l-7.72 7.72c-.78.78-.78 2.05 0 2.83L4 21.41c.39.39.9.59 1.41.59.51 0 1.02-.2 1.41-.59l7.78-7.78 2.81-2.81c.8-.78.8-2.07 0-2.86zM5.41 20L4 18.59l7.72-7.72 1.47 1.35L5.41 20z\"/>\n",
              "  </svg>\n",
              "      </button>\n",
              "      \n",
              "  <style>\n",
              "    .colab-df-container {\n",
              "      display:flex;\n",
              "      flex-wrap:wrap;\n",
              "      gap: 12px;\n",
              "    }\n",
              "\n",
              "    .colab-df-convert {\n",
              "      background-color: #E8F0FE;\n",
              "      border: none;\n",
              "      border-radius: 50%;\n",
              "      cursor: pointer;\n",
              "      display: none;\n",
              "      fill: #1967D2;\n",
              "      height: 32px;\n",
              "      padding: 0 0 0 0;\n",
              "      width: 32px;\n",
              "    }\n",
              "\n",
              "    .colab-df-convert:hover {\n",
              "      background-color: #E2EBFA;\n",
              "      box-shadow: 0px 1px 2px rgba(60, 64, 67, 0.3), 0px 1px 3px 1px rgba(60, 64, 67, 0.15);\n",
              "      fill: #174EA6;\n",
              "    }\n",
              "\n",
              "    [theme=dark] .colab-df-convert {\n",
              "      background-color: #3B4455;\n",
              "      fill: #D2E3FC;\n",
              "    }\n",
              "\n",
              "    [theme=dark] .colab-df-convert:hover {\n",
              "      background-color: #434B5C;\n",
              "      box-shadow: 0px 1px 3px 1px rgba(0, 0, 0, 0.15);\n",
              "      filter: drop-shadow(0px 1px 2px rgba(0, 0, 0, 0.3));\n",
              "      fill: #FFFFFF;\n",
              "    }\n",
              "  </style>\n",
              "\n",
              "      <script>\n",
              "        const buttonEl =\n",
              "          document.querySelector('#df-7dccd5ec-ebb2-4e79-913d-079fa9f21c76 button.colab-df-convert');\n",
              "        buttonEl.style.display =\n",
              "          google.colab.kernel.accessAllowed ? 'block' : 'none';\n",
              "\n",
              "        async function convertToInteractive(key) {\n",
              "          const element = document.querySelector('#df-7dccd5ec-ebb2-4e79-913d-079fa9f21c76');\n",
              "          const dataTable =\n",
              "            await google.colab.kernel.invokeFunction('convertToInteractive',\n",
              "                                                     [key], {});\n",
              "          if (!dataTable) return;\n",
              "\n",
              "          const docLinkHtml = 'Like what you see? Visit the ' +\n",
              "            '<a target=\"_blank\" href=https://colab.research.google.com/notebooks/data_table.ipynb>data table notebook</a>'\n",
              "            + ' to learn more about interactive tables.';\n",
              "          element.innerHTML = '';\n",
              "          dataTable['output_type'] = 'display_data';\n",
              "          await google.colab.output.renderOutput(dataTable, element);\n",
              "          const docLink = document.createElement('div');\n",
              "          docLink.innerHTML = docLinkHtml;\n",
              "          element.appendChild(docLink);\n",
              "        }\n",
              "      </script>\n",
              "    </div>\n",
              "  </div>\n",
              "  "
            ]
          },
          "metadata": {},
          "execution_count": 187
        }
      ]
    },
    {
      "cell_type": "code",
      "execution_count": null,
      "metadata": {
        "id": "-sFSyWUiUM2W",
        "outputId": "6a5dfac7-9a33-4800-9bdc-524604b09c5e",
        "colab": {
          "base_uri": "https://localhost:8080/",
          "height": 191
        }
      },
      "outputs": [
        {
          "output_type": "stream",
          "name": "stdout",
          "text": [
            "        age    city  country\n",
            "name                        \n",
            "Jess     30   Paris   France\n",
            "Nick     35  Berlin  Germany\n",
            "Winston  40  Madrid    Spain\n",
            "Tom      27   Paris   France\n",
            "Alex     52  London       UK\n",
            "\n",
            "The country of Nick is: ... \n"
          ]
        },
        {
          "output_type": "execute_result",
          "data": {
            "text/plain": [
              "'Germany'"
            ],
            "application/vnd.google.colaboratory.intrinsic+json": {
              "type": "string"
            }
          },
          "metadata": {},
          "execution_count": 188
        }
      ],
      "source": [
        "# access an element by labels\n",
        "\n",
        "print(df1)\n",
        "print('')\n",
        "print('The country of Nick is: ... ')\n",
        "df1.loc['Nick', 'country']"
      ]
    },
    {
      "cell_type": "code",
      "source": [
        "# access a range of elements by labels\n",
        "print(df1)\n",
        "print('')\n",
        "print('The countris of Nick and Winston is: ... ')\n",
        "df1.loc['Nick':'Tom', 'country']\n"
      ],
      "metadata": {
        "id": "aLnMucbz0XRT",
        "outputId": "facddf01-9ec2-46fc-df25-156067c06e00",
        "colab": {
          "base_uri": "https://localhost:8080/"
        }
      },
      "execution_count": null,
      "outputs": [
        {
          "output_type": "stream",
          "name": "stdout",
          "text": [
            "        age    city  country\n",
            "name                        \n",
            "Jess     30   Paris   France\n",
            "Nick     35  Berlin  Germany\n",
            "Winston  40  Madrid    Spain\n",
            "Tom      27   Paris   France\n",
            "Alex     52  London       UK\n",
            "\n",
            "The countris of Nick and Winston is: ... \n"
          ]
        },
        {
          "output_type": "execute_result",
          "data": {
            "text/plain": [
              "name\n",
              "Nick       Germany\n",
              "Winston      Spain\n",
              "Tom         France\n",
              "Name: country, dtype: object"
            ]
          },
          "metadata": {},
          "execution_count": 189
        }
      ]
    },
    {
      "cell_type": "code",
      "execution_count": null,
      "metadata": {
        "id": "hAS784HJUTsa",
        "outputId": "d3b0703e-706c-4258-dac5-01ecfa369ec1",
        "colab": {
          "base_uri": "https://localhost:8080/"
        }
      },
      "outputs": [
        {
          "output_type": "execute_result",
          "data": {
            "text/plain": [
              "name\n",
              "Alex         UK\n",
              "Nick    Germany\n",
              "Name: country, dtype: object"
            ]
          },
          "metadata": {},
          "execution_count": 190
        }
      ],
      "source": [
        "# the country of specific rows\n",
        "\n",
        "df1.loc[['Alex', 'Nick'], 'country']"
      ]
    },
    {
      "cell_type": "code",
      "source": [
        "# the country and city of specific rows\n",
        "\n",
        "df1.loc[['Alex', 'Nick'], ['country', 'city']]"
      ],
      "metadata": {
        "id": "GqJ-vGab68fm",
        "outputId": "e078d50a-cbe6-4002-88c2-d40f04c48819",
        "colab": {
          "base_uri": "https://localhost:8080/",
          "height": 143
        }
      },
      "execution_count": null,
      "outputs": [
        {
          "output_type": "execute_result",
          "data": {
            "text/plain": [
              "      country    city\n",
              "name                 \n",
              "Alex       UK  London\n",
              "Nick  Germany  Berlin"
            ],
            "text/html": [
              "\n",
              "  <div id=\"df-bc876be5-b6cd-421f-87dd-73e99036d4cc\">\n",
              "    <div class=\"colab-df-container\">\n",
              "      <div>\n",
              "<style scoped>\n",
              "    .dataframe tbody tr th:only-of-type {\n",
              "        vertical-align: middle;\n",
              "    }\n",
              "\n",
              "    .dataframe tbody tr th {\n",
              "        vertical-align: top;\n",
              "    }\n",
              "\n",
              "    .dataframe thead th {\n",
              "        text-align: right;\n",
              "    }\n",
              "</style>\n",
              "<table border=\"1\" class=\"dataframe\">\n",
              "  <thead>\n",
              "    <tr style=\"text-align: right;\">\n",
              "      <th></th>\n",
              "      <th>country</th>\n",
              "      <th>city</th>\n",
              "    </tr>\n",
              "    <tr>\n",
              "      <th>name</th>\n",
              "      <th></th>\n",
              "      <th></th>\n",
              "    </tr>\n",
              "  </thead>\n",
              "  <tbody>\n",
              "    <tr>\n",
              "      <th>Alex</th>\n",
              "      <td>UK</td>\n",
              "      <td>London</td>\n",
              "    </tr>\n",
              "    <tr>\n",
              "      <th>Nick</th>\n",
              "      <td>Germany</td>\n",
              "      <td>Berlin</td>\n",
              "    </tr>\n",
              "  </tbody>\n",
              "</table>\n",
              "</div>\n",
              "      <button class=\"colab-df-convert\" onclick=\"convertToInteractive('df-bc876be5-b6cd-421f-87dd-73e99036d4cc')\"\n",
              "              title=\"Convert this dataframe to an interactive table.\"\n",
              "              style=\"display:none;\">\n",
              "        \n",
              "  <svg xmlns=\"http://www.w3.org/2000/svg\" height=\"24px\"viewBox=\"0 0 24 24\"\n",
              "       width=\"24px\">\n",
              "    <path d=\"M0 0h24v24H0V0z\" fill=\"none\"/>\n",
              "    <path d=\"M18.56 5.44l.94 2.06.94-2.06 2.06-.94-2.06-.94-.94-2.06-.94 2.06-2.06.94zm-11 1L8.5 8.5l.94-2.06 2.06-.94-2.06-.94L8.5 2.5l-.94 2.06-2.06.94zm10 10l.94 2.06.94-2.06 2.06-.94-2.06-.94-.94-2.06-.94 2.06-2.06.94z\"/><path d=\"M17.41 7.96l-1.37-1.37c-.4-.4-.92-.59-1.43-.59-.52 0-1.04.2-1.43.59L10.3 9.45l-7.72 7.72c-.78.78-.78 2.05 0 2.83L4 21.41c.39.39.9.59 1.41.59.51 0 1.02-.2 1.41-.59l7.78-7.78 2.81-2.81c.8-.78.8-2.07 0-2.86zM5.41 20L4 18.59l7.72-7.72 1.47 1.35L5.41 20z\"/>\n",
              "  </svg>\n",
              "      </button>\n",
              "      \n",
              "  <style>\n",
              "    .colab-df-container {\n",
              "      display:flex;\n",
              "      flex-wrap:wrap;\n",
              "      gap: 12px;\n",
              "    }\n",
              "\n",
              "    .colab-df-convert {\n",
              "      background-color: #E8F0FE;\n",
              "      border: none;\n",
              "      border-radius: 50%;\n",
              "      cursor: pointer;\n",
              "      display: none;\n",
              "      fill: #1967D2;\n",
              "      height: 32px;\n",
              "      padding: 0 0 0 0;\n",
              "      width: 32px;\n",
              "    }\n",
              "\n",
              "    .colab-df-convert:hover {\n",
              "      background-color: #E2EBFA;\n",
              "      box-shadow: 0px 1px 2px rgba(60, 64, 67, 0.3), 0px 1px 3px 1px rgba(60, 64, 67, 0.15);\n",
              "      fill: #174EA6;\n",
              "    }\n",
              "\n",
              "    [theme=dark] .colab-df-convert {\n",
              "      background-color: #3B4455;\n",
              "      fill: #D2E3FC;\n",
              "    }\n",
              "\n",
              "    [theme=dark] .colab-df-convert:hover {\n",
              "      background-color: #434B5C;\n",
              "      box-shadow: 0px 1px 3px 1px rgba(0, 0, 0, 0.15);\n",
              "      filter: drop-shadow(0px 1px 2px rgba(0, 0, 0, 0.3));\n",
              "      fill: #FFFFFF;\n",
              "    }\n",
              "  </style>\n",
              "\n",
              "      <script>\n",
              "        const buttonEl =\n",
              "          document.querySelector('#df-bc876be5-b6cd-421f-87dd-73e99036d4cc button.colab-df-convert');\n",
              "        buttonEl.style.display =\n",
              "          google.colab.kernel.accessAllowed ? 'block' : 'none';\n",
              "\n",
              "        async function convertToInteractive(key) {\n",
              "          const element = document.querySelector('#df-bc876be5-b6cd-421f-87dd-73e99036d4cc');\n",
              "          const dataTable =\n",
              "            await google.colab.kernel.invokeFunction('convertToInteractive',\n",
              "                                                     [key], {});\n",
              "          if (!dataTable) return;\n",
              "\n",
              "          const docLinkHtml = 'Like what you see? Visit the ' +\n",
              "            '<a target=\"_blank\" href=https://colab.research.google.com/notebooks/data_table.ipynb>data table notebook</a>'\n",
              "            + ' to learn more about interactive tables.';\n",
              "          element.innerHTML = '';\n",
              "          dataTable['output_type'] = 'display_data';\n",
              "          await google.colab.output.renderOutput(dataTable, element);\n",
              "          const docLink = document.createElement('div');\n",
              "          docLink.innerHTML = docLinkHtml;\n",
              "          element.appendChild(docLink);\n",
              "        }\n",
              "      </script>\n",
              "    </div>\n",
              "  </div>\n",
              "  "
            ]
          },
          "metadata": {},
          "execution_count": 191
        }
      ]
    },
    {
      "cell_type": "markdown",
      "source": [
        "More about locations https://towardsdatascience.com/how-to-use-loc-and-iloc-for-selecting-data-in-pandas-bd09cb4c3d79\n",
        "\n",
        "https://www.tutorialspoint.com/how-to-access-pandas-dataframe-elements-using-the-loc-attribute\n",
        "\n",
        "https://www.tutorialspoint.com/how-to-access-pandas-dataframe-elements-using-the-iloc-attribute"
      ],
      "metadata": {
        "id": "8w69PGY29rJv"
      }
    },
    {
      "cell_type": "markdown",
      "metadata": {
        "id": "ak4ZKHL5WPFB"
      },
      "source": [
        "## Filter"
      ]
    },
    {
      "cell_type": "code",
      "source": [
        "df1"
      ],
      "metadata": {
        "id": "K3ieWuq0h_gF",
        "outputId": "7a0f5b34-2a6e-48a3-fef6-ab3f612e6f52",
        "colab": {
          "base_uri": "https://localhost:8080/",
          "height": 237
        }
      },
      "execution_count": null,
      "outputs": [
        {
          "output_type": "execute_result",
          "data": {
            "text/plain": [
              "        age    city  country\n",
              "name                        \n",
              "Jess     30   Paris   France\n",
              "Nick     35  Berlin  Germany\n",
              "Winston  40  Madrid    Spain\n",
              "Tom      27   Paris   France\n",
              "Alex     52  London       UK"
            ],
            "text/html": [
              "\n",
              "  <div id=\"df-dcad4469-148c-46ea-9ac0-d8b8745030b1\">\n",
              "    <div class=\"colab-df-container\">\n",
              "      <div>\n",
              "<style scoped>\n",
              "    .dataframe tbody tr th:only-of-type {\n",
              "        vertical-align: middle;\n",
              "    }\n",
              "\n",
              "    .dataframe tbody tr th {\n",
              "        vertical-align: top;\n",
              "    }\n",
              "\n",
              "    .dataframe thead th {\n",
              "        text-align: right;\n",
              "    }\n",
              "</style>\n",
              "<table border=\"1\" class=\"dataframe\">\n",
              "  <thead>\n",
              "    <tr style=\"text-align: right;\">\n",
              "      <th></th>\n",
              "      <th>age</th>\n",
              "      <th>city</th>\n",
              "      <th>country</th>\n",
              "    </tr>\n",
              "    <tr>\n",
              "      <th>name</th>\n",
              "      <th></th>\n",
              "      <th></th>\n",
              "      <th></th>\n",
              "    </tr>\n",
              "  </thead>\n",
              "  <tbody>\n",
              "    <tr>\n",
              "      <th>Jess</th>\n",
              "      <td>30</td>\n",
              "      <td>Paris</td>\n",
              "      <td>France</td>\n",
              "    </tr>\n",
              "    <tr>\n",
              "      <th>Nick</th>\n",
              "      <td>35</td>\n",
              "      <td>Berlin</td>\n",
              "      <td>Germany</td>\n",
              "    </tr>\n",
              "    <tr>\n",
              "      <th>Winston</th>\n",
              "      <td>40</td>\n",
              "      <td>Madrid</td>\n",
              "      <td>Spain</td>\n",
              "    </tr>\n",
              "    <tr>\n",
              "      <th>Tom</th>\n",
              "      <td>27</td>\n",
              "      <td>Paris</td>\n",
              "      <td>France</td>\n",
              "    </tr>\n",
              "    <tr>\n",
              "      <th>Alex</th>\n",
              "      <td>52</td>\n",
              "      <td>London</td>\n",
              "      <td>UK</td>\n",
              "    </tr>\n",
              "  </tbody>\n",
              "</table>\n",
              "</div>\n",
              "      <button class=\"colab-df-convert\" onclick=\"convertToInteractive('df-dcad4469-148c-46ea-9ac0-d8b8745030b1')\"\n",
              "              title=\"Convert this dataframe to an interactive table.\"\n",
              "              style=\"display:none;\">\n",
              "        \n",
              "  <svg xmlns=\"http://www.w3.org/2000/svg\" height=\"24px\"viewBox=\"0 0 24 24\"\n",
              "       width=\"24px\">\n",
              "    <path d=\"M0 0h24v24H0V0z\" fill=\"none\"/>\n",
              "    <path d=\"M18.56 5.44l.94 2.06.94-2.06 2.06-.94-2.06-.94-.94-2.06-.94 2.06-2.06.94zm-11 1L8.5 8.5l.94-2.06 2.06-.94-2.06-.94L8.5 2.5l-.94 2.06-2.06.94zm10 10l.94 2.06.94-2.06 2.06-.94-2.06-.94-.94-2.06-.94 2.06-2.06.94z\"/><path d=\"M17.41 7.96l-1.37-1.37c-.4-.4-.92-.59-1.43-.59-.52 0-1.04.2-1.43.59L10.3 9.45l-7.72 7.72c-.78.78-.78 2.05 0 2.83L4 21.41c.39.39.9.59 1.41.59.51 0 1.02-.2 1.41-.59l7.78-7.78 2.81-2.81c.8-.78.8-2.07 0-2.86zM5.41 20L4 18.59l7.72-7.72 1.47 1.35L5.41 20z\"/>\n",
              "  </svg>\n",
              "      </button>\n",
              "      \n",
              "  <style>\n",
              "    .colab-df-container {\n",
              "      display:flex;\n",
              "      flex-wrap:wrap;\n",
              "      gap: 12px;\n",
              "    }\n",
              "\n",
              "    .colab-df-convert {\n",
              "      background-color: #E8F0FE;\n",
              "      border: none;\n",
              "      border-radius: 50%;\n",
              "      cursor: pointer;\n",
              "      display: none;\n",
              "      fill: #1967D2;\n",
              "      height: 32px;\n",
              "      padding: 0 0 0 0;\n",
              "      width: 32px;\n",
              "    }\n",
              "\n",
              "    .colab-df-convert:hover {\n",
              "      background-color: #E2EBFA;\n",
              "      box-shadow: 0px 1px 2px rgba(60, 64, 67, 0.3), 0px 1px 3px 1px rgba(60, 64, 67, 0.15);\n",
              "      fill: #174EA6;\n",
              "    }\n",
              "\n",
              "    [theme=dark] .colab-df-convert {\n",
              "      background-color: #3B4455;\n",
              "      fill: #D2E3FC;\n",
              "    }\n",
              "\n",
              "    [theme=dark] .colab-df-convert:hover {\n",
              "      background-color: #434B5C;\n",
              "      box-shadow: 0px 1px 3px 1px rgba(0, 0, 0, 0.15);\n",
              "      filter: drop-shadow(0px 1px 2px rgba(0, 0, 0, 0.3));\n",
              "      fill: #FFFFFF;\n",
              "    }\n",
              "  </style>\n",
              "\n",
              "      <script>\n",
              "        const buttonEl =\n",
              "          document.querySelector('#df-dcad4469-148c-46ea-9ac0-d8b8745030b1 button.colab-df-convert');\n",
              "        buttonEl.style.display =\n",
              "          google.colab.kernel.accessAllowed ? 'block' : 'none';\n",
              "\n",
              "        async function convertToInteractive(key) {\n",
              "          const element = document.querySelector('#df-dcad4469-148c-46ea-9ac0-d8b8745030b1');\n",
              "          const dataTable =\n",
              "            await google.colab.kernel.invokeFunction('convertToInteractive',\n",
              "                                                     [key], {});\n",
              "          if (!dataTable) return;\n",
              "\n",
              "          const docLinkHtml = 'Like what you see? Visit the ' +\n",
              "            '<a target=\"_blank\" href=https://colab.research.google.com/notebooks/data_table.ipynb>data table notebook</a>'\n",
              "            + ' to learn more about interactive tables.';\n",
              "          element.innerHTML = '';\n",
              "          dataTable['output_type'] = 'display_data';\n",
              "          await google.colab.output.renderOutput(dataTable, element);\n",
              "          const docLink = document.createElement('div');\n",
              "          docLink.innerHTML = docLinkHtml;\n",
              "          element.appendChild(docLink);\n",
              "        }\n",
              "      </script>\n",
              "    </div>\n",
              "  </div>\n",
              "  "
            ]
          },
          "metadata": {},
          "execution_count": 192
        }
      ]
    },
    {
      "cell_type": "code",
      "execution_count": null,
      "metadata": {
        "id": "c6kUmHEKVxYQ",
        "outputId": "58de634a-e90e-4165-f9ee-a9531eaf595e",
        "colab": {
          "base_uri": "https://localhost:8080/",
          "height": 143
        }
      },
      "outputs": [
        {
          "output_type": "execute_result",
          "data": {
            "text/plain": [
              "     age   city country\n",
              "name                   \n",
              "Jess  30  Paris  France\n",
              "Tom   27  Paris  France"
            ],
            "text/html": [
              "\n",
              "  <div id=\"df-7ea05385-2805-4f0b-a013-9b3ddac9057b\">\n",
              "    <div class=\"colab-df-container\">\n",
              "      <div>\n",
              "<style scoped>\n",
              "    .dataframe tbody tr th:only-of-type {\n",
              "        vertical-align: middle;\n",
              "    }\n",
              "\n",
              "    .dataframe tbody tr th {\n",
              "        vertical-align: top;\n",
              "    }\n",
              "\n",
              "    .dataframe thead th {\n",
              "        text-align: right;\n",
              "    }\n",
              "</style>\n",
              "<table border=\"1\" class=\"dataframe\">\n",
              "  <thead>\n",
              "    <tr style=\"text-align: right;\">\n",
              "      <th></th>\n",
              "      <th>age</th>\n",
              "      <th>city</th>\n",
              "      <th>country</th>\n",
              "    </tr>\n",
              "    <tr>\n",
              "      <th>name</th>\n",
              "      <th></th>\n",
              "      <th></th>\n",
              "      <th></th>\n",
              "    </tr>\n",
              "  </thead>\n",
              "  <tbody>\n",
              "    <tr>\n",
              "      <th>Jess</th>\n",
              "      <td>30</td>\n",
              "      <td>Paris</td>\n",
              "      <td>France</td>\n",
              "    </tr>\n",
              "    <tr>\n",
              "      <th>Tom</th>\n",
              "      <td>27</td>\n",
              "      <td>Paris</td>\n",
              "      <td>France</td>\n",
              "    </tr>\n",
              "  </tbody>\n",
              "</table>\n",
              "</div>\n",
              "      <button class=\"colab-df-convert\" onclick=\"convertToInteractive('df-7ea05385-2805-4f0b-a013-9b3ddac9057b')\"\n",
              "              title=\"Convert this dataframe to an interactive table.\"\n",
              "              style=\"display:none;\">\n",
              "        \n",
              "  <svg xmlns=\"http://www.w3.org/2000/svg\" height=\"24px\"viewBox=\"0 0 24 24\"\n",
              "       width=\"24px\">\n",
              "    <path d=\"M0 0h24v24H0V0z\" fill=\"none\"/>\n",
              "    <path d=\"M18.56 5.44l.94 2.06.94-2.06 2.06-.94-2.06-.94-.94-2.06-.94 2.06-2.06.94zm-11 1L8.5 8.5l.94-2.06 2.06-.94-2.06-.94L8.5 2.5l-.94 2.06-2.06.94zm10 10l.94 2.06.94-2.06 2.06-.94-2.06-.94-.94-2.06-.94 2.06-2.06.94z\"/><path d=\"M17.41 7.96l-1.37-1.37c-.4-.4-.92-.59-1.43-.59-.52 0-1.04.2-1.43.59L10.3 9.45l-7.72 7.72c-.78.78-.78 2.05 0 2.83L4 21.41c.39.39.9.59 1.41.59.51 0 1.02-.2 1.41-.59l7.78-7.78 2.81-2.81c.8-.78.8-2.07 0-2.86zM5.41 20L4 18.59l7.72-7.72 1.47 1.35L5.41 20z\"/>\n",
              "  </svg>\n",
              "      </button>\n",
              "      \n",
              "  <style>\n",
              "    .colab-df-container {\n",
              "      display:flex;\n",
              "      flex-wrap:wrap;\n",
              "      gap: 12px;\n",
              "    }\n",
              "\n",
              "    .colab-df-convert {\n",
              "      background-color: #E8F0FE;\n",
              "      border: none;\n",
              "      border-radius: 50%;\n",
              "      cursor: pointer;\n",
              "      display: none;\n",
              "      fill: #1967D2;\n",
              "      height: 32px;\n",
              "      padding: 0 0 0 0;\n",
              "      width: 32px;\n",
              "    }\n",
              "\n",
              "    .colab-df-convert:hover {\n",
              "      background-color: #E2EBFA;\n",
              "      box-shadow: 0px 1px 2px rgba(60, 64, 67, 0.3), 0px 1px 3px 1px rgba(60, 64, 67, 0.15);\n",
              "      fill: #174EA6;\n",
              "    }\n",
              "\n",
              "    [theme=dark] .colab-df-convert {\n",
              "      background-color: #3B4455;\n",
              "      fill: #D2E3FC;\n",
              "    }\n",
              "\n",
              "    [theme=dark] .colab-df-convert:hover {\n",
              "      background-color: #434B5C;\n",
              "      box-shadow: 0px 1px 3px 1px rgba(0, 0, 0, 0.15);\n",
              "      filter: drop-shadow(0px 1px 2px rgba(0, 0, 0, 0.3));\n",
              "      fill: #FFFFFF;\n",
              "    }\n",
              "  </style>\n",
              "\n",
              "      <script>\n",
              "        const buttonEl =\n",
              "          document.querySelector('#df-7ea05385-2805-4f0b-a013-9b3ddac9057b button.colab-df-convert');\n",
              "        buttonEl.style.display =\n",
              "          google.colab.kernel.accessAllowed ? 'block' : 'none';\n",
              "\n",
              "        async function convertToInteractive(key) {\n",
              "          const element = document.querySelector('#df-7ea05385-2805-4f0b-a013-9b3ddac9057b');\n",
              "          const dataTable =\n",
              "            await google.colab.kernel.invokeFunction('convertToInteractive',\n",
              "                                                     [key], {});\n",
              "          if (!dataTable) return;\n",
              "\n",
              "          const docLinkHtml = 'Like what you see? Visit the ' +\n",
              "            '<a target=\"_blank\" href=https://colab.research.google.com/notebooks/data_table.ipynb>data table notebook</a>'\n",
              "            + ' to learn more about interactive tables.';\n",
              "          element.innerHTML = '';\n",
              "          dataTable['output_type'] = 'display_data';\n",
              "          await google.colab.output.renderOutput(dataTable, element);\n",
              "          const docLink = document.createElement('div');\n",
              "          docLink.innerHTML = docLinkHtml;\n",
              "          element.appendChild(docLink);\n",
              "        }\n",
              "      </script>\n",
              "    </div>\n",
              "  </div>\n",
              "  "
            ]
          },
          "metadata": {},
          "execution_count": 193
        }
      ],
      "source": [
        "# filter all data that are in Paris\n",
        "\n",
        "df1[df1['city'] == 'Paris']"
      ]
    },
    {
      "cell_type": "markdown",
      "metadata": {
        "id": "nQMIX8T4WujJ"
      },
      "source": [
        "## Join dataframes"
      ]
    },
    {
      "cell_type": "code",
      "execution_count": null,
      "metadata": {
        "id": "W3dCne-CWc9v",
        "outputId": "2257ee69-9f46-49dd-f97b-ea7e9a764d71",
        "colab": {
          "base_uri": "https://localhost:8080/",
          "height": 112
        }
      },
      "outputs": [
        {
          "output_type": "execute_result",
          "data": {
            "text/plain": [
              "     prénom age    city pays\n",
              "0   Matthew  32  London   UK\n",
              "1  Philippe  45  London   UK"
            ],
            "text/html": [
              "\n",
              "  <div id=\"df-6ede8656-3220-4a2f-ba52-8737b9cf462c\">\n",
              "    <div class=\"colab-df-container\">\n",
              "      <div>\n",
              "<style scoped>\n",
              "    .dataframe tbody tr th:only-of-type {\n",
              "        vertical-align: middle;\n",
              "    }\n",
              "\n",
              "    .dataframe tbody tr th {\n",
              "        vertical-align: top;\n",
              "    }\n",
              "\n",
              "    .dataframe thead th {\n",
              "        text-align: right;\n",
              "    }\n",
              "</style>\n",
              "<table border=\"1\" class=\"dataframe\">\n",
              "  <thead>\n",
              "    <tr style=\"text-align: right;\">\n",
              "      <th></th>\n",
              "      <th>prénom</th>\n",
              "      <th>age</th>\n",
              "      <th>city</th>\n",
              "      <th>pays</th>\n",
              "    </tr>\n",
              "  </thead>\n",
              "  <tbody>\n",
              "    <tr>\n",
              "      <th>0</th>\n",
              "      <td>Matthew</td>\n",
              "      <td>32</td>\n",
              "      <td>London</td>\n",
              "      <td>UK</td>\n",
              "    </tr>\n",
              "    <tr>\n",
              "      <th>1</th>\n",
              "      <td>Philippe</td>\n",
              "      <td>45</td>\n",
              "      <td>London</td>\n",
              "      <td>UK</td>\n",
              "    </tr>\n",
              "  </tbody>\n",
              "</table>\n",
              "</div>\n",
              "      <button class=\"colab-df-convert\" onclick=\"convertToInteractive('df-6ede8656-3220-4a2f-ba52-8737b9cf462c')\"\n",
              "              title=\"Convert this dataframe to an interactive table.\"\n",
              "              style=\"display:none;\">\n",
              "        \n",
              "  <svg xmlns=\"http://www.w3.org/2000/svg\" height=\"24px\"viewBox=\"0 0 24 24\"\n",
              "       width=\"24px\">\n",
              "    <path d=\"M0 0h24v24H0V0z\" fill=\"none\"/>\n",
              "    <path d=\"M18.56 5.44l.94 2.06.94-2.06 2.06-.94-2.06-.94-.94-2.06-.94 2.06-2.06.94zm-11 1L8.5 8.5l.94-2.06 2.06-.94-2.06-.94L8.5 2.5l-.94 2.06-2.06.94zm10 10l.94 2.06.94-2.06 2.06-.94-2.06-.94-.94-2.06-.94 2.06-2.06.94z\"/><path d=\"M17.41 7.96l-1.37-1.37c-.4-.4-.92-.59-1.43-.59-.52 0-1.04.2-1.43.59L10.3 9.45l-7.72 7.72c-.78.78-.78 2.05 0 2.83L4 21.41c.39.39.9.59 1.41.59.51 0 1.02-.2 1.41-.59l7.78-7.78 2.81-2.81c.8-.78.8-2.07 0-2.86zM5.41 20L4 18.59l7.72-7.72 1.47 1.35L5.41 20z\"/>\n",
              "  </svg>\n",
              "      </button>\n",
              "      \n",
              "  <style>\n",
              "    .colab-df-container {\n",
              "      display:flex;\n",
              "      flex-wrap:wrap;\n",
              "      gap: 12px;\n",
              "    }\n",
              "\n",
              "    .colab-df-convert {\n",
              "      background-color: #E8F0FE;\n",
              "      border: none;\n",
              "      border-radius: 50%;\n",
              "      cursor: pointer;\n",
              "      display: none;\n",
              "      fill: #1967D2;\n",
              "      height: 32px;\n",
              "      padding: 0 0 0 0;\n",
              "      width: 32px;\n",
              "    }\n",
              "\n",
              "    .colab-df-convert:hover {\n",
              "      background-color: #E2EBFA;\n",
              "      box-shadow: 0px 1px 2px rgba(60, 64, 67, 0.3), 0px 1px 3px 1px rgba(60, 64, 67, 0.15);\n",
              "      fill: #174EA6;\n",
              "    }\n",
              "\n",
              "    [theme=dark] .colab-df-convert {\n",
              "      background-color: #3B4455;\n",
              "      fill: #D2E3FC;\n",
              "    }\n",
              "\n",
              "    [theme=dark] .colab-df-convert:hover {\n",
              "      background-color: #434B5C;\n",
              "      box-shadow: 0px 1px 3px 1px rgba(0, 0, 0, 0.15);\n",
              "      filter: drop-shadow(0px 1px 2px rgba(0, 0, 0, 0.3));\n",
              "      fill: #FFFFFF;\n",
              "    }\n",
              "  </style>\n",
              "\n",
              "      <script>\n",
              "        const buttonEl =\n",
              "          document.querySelector('#df-6ede8656-3220-4a2f-ba52-8737b9cf462c button.colab-df-convert');\n",
              "        buttonEl.style.display =\n",
              "          google.colab.kernel.accessAllowed ? 'block' : 'none';\n",
              "\n",
              "        async function convertToInteractive(key) {\n",
              "          const element = document.querySelector('#df-6ede8656-3220-4a2f-ba52-8737b9cf462c');\n",
              "          const dataTable =\n",
              "            await google.colab.kernel.invokeFunction('convertToInteractive',\n",
              "                                                     [key], {});\n",
              "          if (!dataTable) return;\n",
              "\n",
              "          const docLinkHtml = 'Like what you see? Visit the ' +\n",
              "            '<a target=\"_blank\" href=https://colab.research.google.com/notebooks/data_table.ipynb>data table notebook</a>'\n",
              "            + ' to learn more about interactive tables.';\n",
              "          element.innerHTML = '';\n",
              "          dataTable['output_type'] = 'display_data';\n",
              "          await google.colab.output.renderOutput(dataTable, element);\n",
              "          const docLink = document.createElement('div');\n",
              "          docLink.innerHTML = docLinkHtml;\n",
              "          element.appendChild(docLink);\n",
              "        }\n",
              "      </script>\n",
              "    </div>\n",
              "  </div>\n",
              "  "
            ]
          },
          "metadata": {},
          "execution_count": 194
        }
      ],
      "source": [
        "dataframe_1 = {\"prénom\":['Matthew', 'Philippe'],\n",
        "              \"age\":['32', '45'],\n",
        "              \"city\":['London', 'London'],\n",
        "               \"pays\": ['UK', 'UK']}\n",
        "\n",
        "df2 = pd.DataFrame(dataframe_1)\n",
        "\n",
        "df2.head()"
      ]
    },
    {
      "cell_type": "code",
      "execution_count": null,
      "metadata": {
        "id": "xIvXdfzNXCCq",
        "outputId": "60f63a85-1fce-460f-99ce-1de78b01e5d8",
        "colab": {
          "base_uri": "https://localhost:8080/"
        }
      },
      "outputs": [
        {
          "output_type": "stream",
          "name": "stdout",
          "text": [
            "Index(['prénom', 'age', 'city', 'pays'], dtype='object')\n"
          ]
        }
      ],
      "source": [
        "print(df2.columns)"
      ]
    },
    {
      "cell_type": "code",
      "execution_count": null,
      "metadata": {
        "id": "_ARwE949XNVH",
        "outputId": "84e1e017-7141-46db-9970-1afb1da8db06",
        "colab": {
          "base_uri": "https://localhost:8080/",
          "height": 112
        }
      },
      "outputs": [
        {
          "output_type": "execute_result",
          "data": {
            "text/plain": [
              "       name age    city country\n",
              "0   Matthew  32  London      UK\n",
              "1  Philippe  45  London      UK"
            ],
            "text/html": [
              "\n",
              "  <div id=\"df-f0da5f7e-1829-4e08-b2df-dbb431b451cc\">\n",
              "    <div class=\"colab-df-container\">\n",
              "      <div>\n",
              "<style scoped>\n",
              "    .dataframe tbody tr th:only-of-type {\n",
              "        vertical-align: middle;\n",
              "    }\n",
              "\n",
              "    .dataframe tbody tr th {\n",
              "        vertical-align: top;\n",
              "    }\n",
              "\n",
              "    .dataframe thead th {\n",
              "        text-align: right;\n",
              "    }\n",
              "</style>\n",
              "<table border=\"1\" class=\"dataframe\">\n",
              "  <thead>\n",
              "    <tr style=\"text-align: right;\">\n",
              "      <th></th>\n",
              "      <th>name</th>\n",
              "      <th>age</th>\n",
              "      <th>city</th>\n",
              "      <th>country</th>\n",
              "    </tr>\n",
              "  </thead>\n",
              "  <tbody>\n",
              "    <tr>\n",
              "      <th>0</th>\n",
              "      <td>Matthew</td>\n",
              "      <td>32</td>\n",
              "      <td>London</td>\n",
              "      <td>UK</td>\n",
              "    </tr>\n",
              "    <tr>\n",
              "      <th>1</th>\n",
              "      <td>Philippe</td>\n",
              "      <td>45</td>\n",
              "      <td>London</td>\n",
              "      <td>UK</td>\n",
              "    </tr>\n",
              "  </tbody>\n",
              "</table>\n",
              "</div>\n",
              "      <button class=\"colab-df-convert\" onclick=\"convertToInteractive('df-f0da5f7e-1829-4e08-b2df-dbb431b451cc')\"\n",
              "              title=\"Convert this dataframe to an interactive table.\"\n",
              "              style=\"display:none;\">\n",
              "        \n",
              "  <svg xmlns=\"http://www.w3.org/2000/svg\" height=\"24px\"viewBox=\"0 0 24 24\"\n",
              "       width=\"24px\">\n",
              "    <path d=\"M0 0h24v24H0V0z\" fill=\"none\"/>\n",
              "    <path d=\"M18.56 5.44l.94 2.06.94-2.06 2.06-.94-2.06-.94-.94-2.06-.94 2.06-2.06.94zm-11 1L8.5 8.5l.94-2.06 2.06-.94-2.06-.94L8.5 2.5l-.94 2.06-2.06.94zm10 10l.94 2.06.94-2.06 2.06-.94-2.06-.94-.94-2.06-.94 2.06-2.06.94z\"/><path d=\"M17.41 7.96l-1.37-1.37c-.4-.4-.92-.59-1.43-.59-.52 0-1.04.2-1.43.59L10.3 9.45l-7.72 7.72c-.78.78-.78 2.05 0 2.83L4 21.41c.39.39.9.59 1.41.59.51 0 1.02-.2 1.41-.59l7.78-7.78 2.81-2.81c.8-.78.8-2.07 0-2.86zM5.41 20L4 18.59l7.72-7.72 1.47 1.35L5.41 20z\"/>\n",
              "  </svg>\n",
              "      </button>\n",
              "      \n",
              "  <style>\n",
              "    .colab-df-container {\n",
              "      display:flex;\n",
              "      flex-wrap:wrap;\n",
              "      gap: 12px;\n",
              "    }\n",
              "\n",
              "    .colab-df-convert {\n",
              "      background-color: #E8F0FE;\n",
              "      border: none;\n",
              "      border-radius: 50%;\n",
              "      cursor: pointer;\n",
              "      display: none;\n",
              "      fill: #1967D2;\n",
              "      height: 32px;\n",
              "      padding: 0 0 0 0;\n",
              "      width: 32px;\n",
              "    }\n",
              "\n",
              "    .colab-df-convert:hover {\n",
              "      background-color: #E2EBFA;\n",
              "      box-shadow: 0px 1px 2px rgba(60, 64, 67, 0.3), 0px 1px 3px 1px rgba(60, 64, 67, 0.15);\n",
              "      fill: #174EA6;\n",
              "    }\n",
              "\n",
              "    [theme=dark] .colab-df-convert {\n",
              "      background-color: #3B4455;\n",
              "      fill: #D2E3FC;\n",
              "    }\n",
              "\n",
              "    [theme=dark] .colab-df-convert:hover {\n",
              "      background-color: #434B5C;\n",
              "      box-shadow: 0px 1px 3px 1px rgba(0, 0, 0, 0.15);\n",
              "      filter: drop-shadow(0px 1px 2px rgba(0, 0, 0, 0.3));\n",
              "      fill: #FFFFFF;\n",
              "    }\n",
              "  </style>\n",
              "\n",
              "      <script>\n",
              "        const buttonEl =\n",
              "          document.querySelector('#df-f0da5f7e-1829-4e08-b2df-dbb431b451cc button.colab-df-convert');\n",
              "        buttonEl.style.display =\n",
              "          google.colab.kernel.accessAllowed ? 'block' : 'none';\n",
              "\n",
              "        async function convertToInteractive(key) {\n",
              "          const element = document.querySelector('#df-f0da5f7e-1829-4e08-b2df-dbb431b451cc');\n",
              "          const dataTable =\n",
              "            await google.colab.kernel.invokeFunction('convertToInteractive',\n",
              "                                                     [key], {});\n",
              "          if (!dataTable) return;\n",
              "\n",
              "          const docLinkHtml = 'Like what you see? Visit the ' +\n",
              "            '<a target=\"_blank\" href=https://colab.research.google.com/notebooks/data_table.ipynb>data table notebook</a>'\n",
              "            + ' to learn more about interactive tables.';\n",
              "          element.innerHTML = '';\n",
              "          dataTable['output_type'] = 'display_data';\n",
              "          await google.colab.output.renderOutput(dataTable, element);\n",
              "          const docLink = document.createElement('div');\n",
              "          docLink.innerHTML = docLinkHtml;\n",
              "          element.appendChild(docLink);\n",
              "        }\n",
              "      </script>\n",
              "    </div>\n",
              "  </div>\n",
              "  "
            ]
          },
          "metadata": {},
          "execution_count": 196
        }
      ],
      "source": [
        "# change df columns names\n",
        "\n",
        "df2.columns = ['name', 'age', 'city', 'country']\n",
        "df2.head()"
      ]
    },
    {
      "cell_type": "code",
      "source": [
        "# compare both dfs column names\n",
        "\n",
        "print('the column names of 1st df are: ', df1.columns)\n",
        "print('the column names of 2nd df are: ', df2.columns)"
      ],
      "metadata": {
        "id": "5ahVjwLU4J1d",
        "outputId": "acea4f18-40d9-4009-a5bf-2a1fc262f59d",
        "colab": {
          "base_uri": "https://localhost:8080/"
        }
      },
      "execution_count": null,
      "outputs": [
        {
          "output_type": "stream",
          "name": "stdout",
          "text": [
            "the column names of 1st df are:  Index(['age', 'city', 'country'], dtype='object')\n",
            "the column names of 2nd df are:  Index(['name', 'age', 'city', 'country'], dtype='object')\n"
          ]
        }
      ]
    },
    {
      "cell_type": "code",
      "execution_count": null,
      "metadata": {
        "id": "U76Y_nvdXf_B",
        "outputId": "150bba7f-e654-455c-fdc2-a4dbb7ecb522",
        "colab": {
          "base_uri": "https://localhost:8080/",
          "height": 373
        }
      },
      "outputs": [
        {
          "output_type": "stream",
          "name": "stdout",
          "text": [
            "the df1 Shape is :  (5, 3)\n",
            "the df2 Shape is :  (2, 4)\n",
            "the new joined Dataframe Shape is :  (7, 4)\n",
            "\n",
            "\n",
            "The output is not what we really wanted as we have NaN values in columns and not all indices are the names...\n"
          ]
        },
        {
          "output_type": "execute_result",
          "data": {
            "text/plain": [
              "        age    city  country      name\n",
              "Jess     30   Paris   France       NaN\n",
              "Nick     35  Berlin  Germany       NaN\n",
              "Winston  40  Madrid    Spain       NaN\n",
              "Tom      27   Paris   France       NaN\n",
              "Alex     52  London       UK       NaN\n",
              "0        32  London       UK   Matthew\n",
              "1        45  London       UK  Philippe"
            ],
            "text/html": [
              "\n",
              "  <div id=\"df-a41ffd22-0a0c-44ff-b8ec-69c44831118f\">\n",
              "    <div class=\"colab-df-container\">\n",
              "      <div>\n",
              "<style scoped>\n",
              "    .dataframe tbody tr th:only-of-type {\n",
              "        vertical-align: middle;\n",
              "    }\n",
              "\n",
              "    .dataframe tbody tr th {\n",
              "        vertical-align: top;\n",
              "    }\n",
              "\n",
              "    .dataframe thead th {\n",
              "        text-align: right;\n",
              "    }\n",
              "</style>\n",
              "<table border=\"1\" class=\"dataframe\">\n",
              "  <thead>\n",
              "    <tr style=\"text-align: right;\">\n",
              "      <th></th>\n",
              "      <th>age</th>\n",
              "      <th>city</th>\n",
              "      <th>country</th>\n",
              "      <th>name</th>\n",
              "    </tr>\n",
              "  </thead>\n",
              "  <tbody>\n",
              "    <tr>\n",
              "      <th>Jess</th>\n",
              "      <td>30</td>\n",
              "      <td>Paris</td>\n",
              "      <td>France</td>\n",
              "      <td>NaN</td>\n",
              "    </tr>\n",
              "    <tr>\n",
              "      <th>Nick</th>\n",
              "      <td>35</td>\n",
              "      <td>Berlin</td>\n",
              "      <td>Germany</td>\n",
              "      <td>NaN</td>\n",
              "    </tr>\n",
              "    <tr>\n",
              "      <th>Winston</th>\n",
              "      <td>40</td>\n",
              "      <td>Madrid</td>\n",
              "      <td>Spain</td>\n",
              "      <td>NaN</td>\n",
              "    </tr>\n",
              "    <tr>\n",
              "      <th>Tom</th>\n",
              "      <td>27</td>\n",
              "      <td>Paris</td>\n",
              "      <td>France</td>\n",
              "      <td>NaN</td>\n",
              "    </tr>\n",
              "    <tr>\n",
              "      <th>Alex</th>\n",
              "      <td>52</td>\n",
              "      <td>London</td>\n",
              "      <td>UK</td>\n",
              "      <td>NaN</td>\n",
              "    </tr>\n",
              "    <tr>\n",
              "      <th>0</th>\n",
              "      <td>32</td>\n",
              "      <td>London</td>\n",
              "      <td>UK</td>\n",
              "      <td>Matthew</td>\n",
              "    </tr>\n",
              "    <tr>\n",
              "      <th>1</th>\n",
              "      <td>45</td>\n",
              "      <td>London</td>\n",
              "      <td>UK</td>\n",
              "      <td>Philippe</td>\n",
              "    </tr>\n",
              "  </tbody>\n",
              "</table>\n",
              "</div>\n",
              "      <button class=\"colab-df-convert\" onclick=\"convertToInteractive('df-a41ffd22-0a0c-44ff-b8ec-69c44831118f')\"\n",
              "              title=\"Convert this dataframe to an interactive table.\"\n",
              "              style=\"display:none;\">\n",
              "        \n",
              "  <svg xmlns=\"http://www.w3.org/2000/svg\" height=\"24px\"viewBox=\"0 0 24 24\"\n",
              "       width=\"24px\">\n",
              "    <path d=\"M0 0h24v24H0V0z\" fill=\"none\"/>\n",
              "    <path d=\"M18.56 5.44l.94 2.06.94-2.06 2.06-.94-2.06-.94-.94-2.06-.94 2.06-2.06.94zm-11 1L8.5 8.5l.94-2.06 2.06-.94-2.06-.94L8.5 2.5l-.94 2.06-2.06.94zm10 10l.94 2.06.94-2.06 2.06-.94-2.06-.94-.94-2.06-.94 2.06-2.06.94z\"/><path d=\"M17.41 7.96l-1.37-1.37c-.4-.4-.92-.59-1.43-.59-.52 0-1.04.2-1.43.59L10.3 9.45l-7.72 7.72c-.78.78-.78 2.05 0 2.83L4 21.41c.39.39.9.59 1.41.59.51 0 1.02-.2 1.41-.59l7.78-7.78 2.81-2.81c.8-.78.8-2.07 0-2.86zM5.41 20L4 18.59l7.72-7.72 1.47 1.35L5.41 20z\"/>\n",
              "  </svg>\n",
              "      </button>\n",
              "      \n",
              "  <style>\n",
              "    .colab-df-container {\n",
              "      display:flex;\n",
              "      flex-wrap:wrap;\n",
              "      gap: 12px;\n",
              "    }\n",
              "\n",
              "    .colab-df-convert {\n",
              "      background-color: #E8F0FE;\n",
              "      border: none;\n",
              "      border-radius: 50%;\n",
              "      cursor: pointer;\n",
              "      display: none;\n",
              "      fill: #1967D2;\n",
              "      height: 32px;\n",
              "      padding: 0 0 0 0;\n",
              "      width: 32px;\n",
              "    }\n",
              "\n",
              "    .colab-df-convert:hover {\n",
              "      background-color: #E2EBFA;\n",
              "      box-shadow: 0px 1px 2px rgba(60, 64, 67, 0.3), 0px 1px 3px 1px rgba(60, 64, 67, 0.15);\n",
              "      fill: #174EA6;\n",
              "    }\n",
              "\n",
              "    [theme=dark] .colab-df-convert {\n",
              "      background-color: #3B4455;\n",
              "      fill: #D2E3FC;\n",
              "    }\n",
              "\n",
              "    [theme=dark] .colab-df-convert:hover {\n",
              "      background-color: #434B5C;\n",
              "      box-shadow: 0px 1px 3px 1px rgba(0, 0, 0, 0.15);\n",
              "      filter: drop-shadow(0px 1px 2px rgba(0, 0, 0, 0.3));\n",
              "      fill: #FFFFFF;\n",
              "    }\n",
              "  </style>\n",
              "\n",
              "      <script>\n",
              "        const buttonEl =\n",
              "          document.querySelector('#df-a41ffd22-0a0c-44ff-b8ec-69c44831118f button.colab-df-convert');\n",
              "        buttonEl.style.display =\n",
              "          google.colab.kernel.accessAllowed ? 'block' : 'none';\n",
              "\n",
              "        async function convertToInteractive(key) {\n",
              "          const element = document.querySelector('#df-a41ffd22-0a0c-44ff-b8ec-69c44831118f');\n",
              "          const dataTable =\n",
              "            await google.colab.kernel.invokeFunction('convertToInteractive',\n",
              "                                                     [key], {});\n",
              "          if (!dataTable) return;\n",
              "\n",
              "          const docLinkHtml = 'Like what you see? Visit the ' +\n",
              "            '<a target=\"_blank\" href=https://colab.research.google.com/notebooks/data_table.ipynb>data table notebook</a>'\n",
              "            + ' to learn more about interactive tables.';\n",
              "          element.innerHTML = '';\n",
              "          dataTable['output_type'] = 'display_data';\n",
              "          await google.colab.output.renderOutput(dataTable, element);\n",
              "          const docLink = document.createElement('div');\n",
              "          docLink.innerHTML = docLinkHtml;\n",
              "          element.appendChild(docLink);\n",
              "        }\n",
              "      </script>\n",
              "    </div>\n",
              "  </div>\n",
              "  "
            ]
          },
          "metadata": {},
          "execution_count": 198
        }
      ],
      "source": [
        "# join the dfs into a single one\n",
        "\n",
        "# concatenate all df into a single one\n",
        "df = pd.concat([df1, df2]) # it will use the column names  to join by\n",
        "\n",
        "# check dataframes shapes\n",
        "print('the df1 Shape is : ', df1.shape)\n",
        "print('the df2 Shape is : ', df2.shape)\n",
        "print('the new joined Dataframe Shape is : ', df.shape)\n",
        "print('')\n",
        "\n",
        "# visualize the new df\n",
        "print('')\n",
        "print('The output is not what we really wanted as we have NaN values in columns and not all indices are the names...')\n",
        "df"
      ]
    },
    {
      "cell_type": "code",
      "execution_count": null,
      "metadata": {
        "id": "4evaUxEyX8rx",
        "outputId": "e0f2028f-ba13-47a7-c13c-77ba105e3f63",
        "colab": {
          "base_uri": "https://localhost:8080/",
          "height": 143
        }
      },
      "outputs": [
        {
          "output_type": "execute_result",
          "data": {
            "text/plain": [
              "         age    city country\n",
              "name                        \n",
              "Matthew   32  London      UK\n",
              "Philippe  45  London      UK"
            ],
            "text/html": [
              "\n",
              "  <div id=\"df-24e880f1-bff5-4eb5-a4b0-acfd79b65a83\">\n",
              "    <div class=\"colab-df-container\">\n",
              "      <div>\n",
              "<style scoped>\n",
              "    .dataframe tbody tr th:only-of-type {\n",
              "        vertical-align: middle;\n",
              "    }\n",
              "\n",
              "    .dataframe tbody tr th {\n",
              "        vertical-align: top;\n",
              "    }\n",
              "\n",
              "    .dataframe thead th {\n",
              "        text-align: right;\n",
              "    }\n",
              "</style>\n",
              "<table border=\"1\" class=\"dataframe\">\n",
              "  <thead>\n",
              "    <tr style=\"text-align: right;\">\n",
              "      <th></th>\n",
              "      <th>age</th>\n",
              "      <th>city</th>\n",
              "      <th>country</th>\n",
              "    </tr>\n",
              "    <tr>\n",
              "      <th>name</th>\n",
              "      <th></th>\n",
              "      <th></th>\n",
              "      <th></th>\n",
              "    </tr>\n",
              "  </thead>\n",
              "  <tbody>\n",
              "    <tr>\n",
              "      <th>Matthew</th>\n",
              "      <td>32</td>\n",
              "      <td>London</td>\n",
              "      <td>UK</td>\n",
              "    </tr>\n",
              "    <tr>\n",
              "      <th>Philippe</th>\n",
              "      <td>45</td>\n",
              "      <td>London</td>\n",
              "      <td>UK</td>\n",
              "    </tr>\n",
              "  </tbody>\n",
              "</table>\n",
              "</div>\n",
              "      <button class=\"colab-df-convert\" onclick=\"convertToInteractive('df-24e880f1-bff5-4eb5-a4b0-acfd79b65a83')\"\n",
              "              title=\"Convert this dataframe to an interactive table.\"\n",
              "              style=\"display:none;\">\n",
              "        \n",
              "  <svg xmlns=\"http://www.w3.org/2000/svg\" height=\"24px\"viewBox=\"0 0 24 24\"\n",
              "       width=\"24px\">\n",
              "    <path d=\"M0 0h24v24H0V0z\" fill=\"none\"/>\n",
              "    <path d=\"M18.56 5.44l.94 2.06.94-2.06 2.06-.94-2.06-.94-.94-2.06-.94 2.06-2.06.94zm-11 1L8.5 8.5l.94-2.06 2.06-.94-2.06-.94L8.5 2.5l-.94 2.06-2.06.94zm10 10l.94 2.06.94-2.06 2.06-.94-2.06-.94-.94-2.06-.94 2.06-2.06.94z\"/><path d=\"M17.41 7.96l-1.37-1.37c-.4-.4-.92-.59-1.43-.59-.52 0-1.04.2-1.43.59L10.3 9.45l-7.72 7.72c-.78.78-.78 2.05 0 2.83L4 21.41c.39.39.9.59 1.41.59.51 0 1.02-.2 1.41-.59l7.78-7.78 2.81-2.81c.8-.78.8-2.07 0-2.86zM5.41 20L4 18.59l7.72-7.72 1.47 1.35L5.41 20z\"/>\n",
              "  </svg>\n",
              "      </button>\n",
              "      \n",
              "  <style>\n",
              "    .colab-df-container {\n",
              "      display:flex;\n",
              "      flex-wrap:wrap;\n",
              "      gap: 12px;\n",
              "    }\n",
              "\n",
              "    .colab-df-convert {\n",
              "      background-color: #E8F0FE;\n",
              "      border: none;\n",
              "      border-radius: 50%;\n",
              "      cursor: pointer;\n",
              "      display: none;\n",
              "      fill: #1967D2;\n",
              "      height: 32px;\n",
              "      padding: 0 0 0 0;\n",
              "      width: 32px;\n",
              "    }\n",
              "\n",
              "    .colab-df-convert:hover {\n",
              "      background-color: #E2EBFA;\n",
              "      box-shadow: 0px 1px 2px rgba(60, 64, 67, 0.3), 0px 1px 3px 1px rgba(60, 64, 67, 0.15);\n",
              "      fill: #174EA6;\n",
              "    }\n",
              "\n",
              "    [theme=dark] .colab-df-convert {\n",
              "      background-color: #3B4455;\n",
              "      fill: #D2E3FC;\n",
              "    }\n",
              "\n",
              "    [theme=dark] .colab-df-convert:hover {\n",
              "      background-color: #434B5C;\n",
              "      box-shadow: 0px 1px 3px 1px rgba(0, 0, 0, 0.15);\n",
              "      filter: drop-shadow(0px 1px 2px rgba(0, 0, 0, 0.3));\n",
              "      fill: #FFFFFF;\n",
              "    }\n",
              "  </style>\n",
              "\n",
              "      <script>\n",
              "        const buttonEl =\n",
              "          document.querySelector('#df-24e880f1-bff5-4eb5-a4b0-acfd79b65a83 button.colab-df-convert');\n",
              "        buttonEl.style.display =\n",
              "          google.colab.kernel.accessAllowed ? 'block' : 'none';\n",
              "\n",
              "        async function convertToInteractive(key) {\n",
              "          const element = document.querySelector('#df-24e880f1-bff5-4eb5-a4b0-acfd79b65a83');\n",
              "          const dataTable =\n",
              "            await google.colab.kernel.invokeFunction('convertToInteractive',\n",
              "                                                     [key], {});\n",
              "          if (!dataTable) return;\n",
              "\n",
              "          const docLinkHtml = 'Like what you see? Visit the ' +\n",
              "            '<a target=\"_blank\" href=https://colab.research.google.com/notebooks/data_table.ipynb>data table notebook</a>'\n",
              "            + ' to learn more about interactive tables.';\n",
              "          element.innerHTML = '';\n",
              "          dataTable['output_type'] = 'display_data';\n",
              "          await google.colab.output.renderOutput(dataTable, element);\n",
              "          const docLink = document.createElement('div');\n",
              "          docLink.innerHTML = docLinkHtml;\n",
              "          element.appendChild(docLink);\n",
              "        }\n",
              "      </script>\n",
              "    </div>\n",
              "  </div>\n",
              "  "
            ]
          },
          "metadata": {},
          "execution_count": 199
        }
      ],
      "source": [
        "# to be obtain a homogeneous df we need both dfs to be structured the same\n",
        "# use name column as df index for df2 as df1 did\n",
        "\n",
        "df2 = df2.set_index('name')\n",
        "df2.head()"
      ]
    },
    {
      "cell_type": "code",
      "source": [
        "# to reset the indices use .reste_index() method\n",
        "\n",
        "df2.reset_index()"
      ],
      "metadata": {
        "id": "D82EONMqMxUm",
        "outputId": "28417412-f2ba-47f4-cf3c-d29ddaf3b04f",
        "colab": {
          "base_uri": "https://localhost:8080/",
          "height": 112
        }
      },
      "execution_count": null,
      "outputs": [
        {
          "output_type": "execute_result",
          "data": {
            "text/plain": [
              "       name age    city country\n",
              "0   Matthew  32  London      UK\n",
              "1  Philippe  45  London      UK"
            ],
            "text/html": [
              "\n",
              "  <div id=\"df-402d2f72-d1dc-462f-b3dd-45cda58483af\">\n",
              "    <div class=\"colab-df-container\">\n",
              "      <div>\n",
              "<style scoped>\n",
              "    .dataframe tbody tr th:only-of-type {\n",
              "        vertical-align: middle;\n",
              "    }\n",
              "\n",
              "    .dataframe tbody tr th {\n",
              "        vertical-align: top;\n",
              "    }\n",
              "\n",
              "    .dataframe thead th {\n",
              "        text-align: right;\n",
              "    }\n",
              "</style>\n",
              "<table border=\"1\" class=\"dataframe\">\n",
              "  <thead>\n",
              "    <tr style=\"text-align: right;\">\n",
              "      <th></th>\n",
              "      <th>name</th>\n",
              "      <th>age</th>\n",
              "      <th>city</th>\n",
              "      <th>country</th>\n",
              "    </tr>\n",
              "  </thead>\n",
              "  <tbody>\n",
              "    <tr>\n",
              "      <th>0</th>\n",
              "      <td>Matthew</td>\n",
              "      <td>32</td>\n",
              "      <td>London</td>\n",
              "      <td>UK</td>\n",
              "    </tr>\n",
              "    <tr>\n",
              "      <th>1</th>\n",
              "      <td>Philippe</td>\n",
              "      <td>45</td>\n",
              "      <td>London</td>\n",
              "      <td>UK</td>\n",
              "    </tr>\n",
              "  </tbody>\n",
              "</table>\n",
              "</div>\n",
              "      <button class=\"colab-df-convert\" onclick=\"convertToInteractive('df-402d2f72-d1dc-462f-b3dd-45cda58483af')\"\n",
              "              title=\"Convert this dataframe to an interactive table.\"\n",
              "              style=\"display:none;\">\n",
              "        \n",
              "  <svg xmlns=\"http://www.w3.org/2000/svg\" height=\"24px\"viewBox=\"0 0 24 24\"\n",
              "       width=\"24px\">\n",
              "    <path d=\"M0 0h24v24H0V0z\" fill=\"none\"/>\n",
              "    <path d=\"M18.56 5.44l.94 2.06.94-2.06 2.06-.94-2.06-.94-.94-2.06-.94 2.06-2.06.94zm-11 1L8.5 8.5l.94-2.06 2.06-.94-2.06-.94L8.5 2.5l-.94 2.06-2.06.94zm10 10l.94 2.06.94-2.06 2.06-.94-2.06-.94-.94-2.06-.94 2.06-2.06.94z\"/><path d=\"M17.41 7.96l-1.37-1.37c-.4-.4-.92-.59-1.43-.59-.52 0-1.04.2-1.43.59L10.3 9.45l-7.72 7.72c-.78.78-.78 2.05 0 2.83L4 21.41c.39.39.9.59 1.41.59.51 0 1.02-.2 1.41-.59l7.78-7.78 2.81-2.81c.8-.78.8-2.07 0-2.86zM5.41 20L4 18.59l7.72-7.72 1.47 1.35L5.41 20z\"/>\n",
              "  </svg>\n",
              "      </button>\n",
              "      \n",
              "  <style>\n",
              "    .colab-df-container {\n",
              "      display:flex;\n",
              "      flex-wrap:wrap;\n",
              "      gap: 12px;\n",
              "    }\n",
              "\n",
              "    .colab-df-convert {\n",
              "      background-color: #E8F0FE;\n",
              "      border: none;\n",
              "      border-radius: 50%;\n",
              "      cursor: pointer;\n",
              "      display: none;\n",
              "      fill: #1967D2;\n",
              "      height: 32px;\n",
              "      padding: 0 0 0 0;\n",
              "      width: 32px;\n",
              "    }\n",
              "\n",
              "    .colab-df-convert:hover {\n",
              "      background-color: #E2EBFA;\n",
              "      box-shadow: 0px 1px 2px rgba(60, 64, 67, 0.3), 0px 1px 3px 1px rgba(60, 64, 67, 0.15);\n",
              "      fill: #174EA6;\n",
              "    }\n",
              "\n",
              "    [theme=dark] .colab-df-convert {\n",
              "      background-color: #3B4455;\n",
              "      fill: #D2E3FC;\n",
              "    }\n",
              "\n",
              "    [theme=dark] .colab-df-convert:hover {\n",
              "      background-color: #434B5C;\n",
              "      box-shadow: 0px 1px 3px 1px rgba(0, 0, 0, 0.15);\n",
              "      filter: drop-shadow(0px 1px 2px rgba(0, 0, 0, 0.3));\n",
              "      fill: #FFFFFF;\n",
              "    }\n",
              "  </style>\n",
              "\n",
              "      <script>\n",
              "        const buttonEl =\n",
              "          document.querySelector('#df-402d2f72-d1dc-462f-b3dd-45cda58483af button.colab-df-convert');\n",
              "        buttonEl.style.display =\n",
              "          google.colab.kernel.accessAllowed ? 'block' : 'none';\n",
              "\n",
              "        async function convertToInteractive(key) {\n",
              "          const element = document.querySelector('#df-402d2f72-d1dc-462f-b3dd-45cda58483af');\n",
              "          const dataTable =\n",
              "            await google.colab.kernel.invokeFunction('convertToInteractive',\n",
              "                                                     [key], {});\n",
              "          if (!dataTable) return;\n",
              "\n",
              "          const docLinkHtml = 'Like what you see? Visit the ' +\n",
              "            '<a target=\"_blank\" href=https://colab.research.google.com/notebooks/data_table.ipynb>data table notebook</a>'\n",
              "            + ' to learn more about interactive tables.';\n",
              "          element.innerHTML = '';\n",
              "          dataTable['output_type'] = 'display_data';\n",
              "          await google.colab.output.renderOutput(dataTable, element);\n",
              "          const docLink = document.createElement('div');\n",
              "          docLink.innerHTML = docLinkHtml;\n",
              "          element.appendChild(docLink);\n",
              "        }\n",
              "      </script>\n",
              "    </div>\n",
              "  </div>\n",
              "  "
            ]
          },
          "metadata": {},
          "execution_count": 200
        }
      ]
    },
    {
      "cell_type": "code",
      "execution_count": null,
      "metadata": {
        "id": "SCMpegPvXvX5",
        "outputId": "57615329-9c72-44a2-fec0-2250ecf6834c",
        "colab": {
          "base_uri": "https://localhost:8080/",
          "height": 404
        }
      },
      "outputs": [
        {
          "output_type": "stream",
          "name": "stdout",
          "text": [
            "the df1 Shape is :  (5, 3)\n",
            "the df2 Shape is :  (2, 3)\n",
            "the new joined Dataframe Shape is :  (7, 3)\n",
            "\n",
            "\n",
            "Now we have a homogeneous df\n"
          ]
        },
        {
          "output_type": "execute_result",
          "data": {
            "text/plain": [
              "         age    city  country\n",
              "name                         \n",
              "Jess      30   Paris   France\n",
              "Nick      35  Berlin  Germany\n",
              "Winston   40  Madrid    Spain\n",
              "Tom       27   Paris   France\n",
              "Alex      52  London       UK\n",
              "Matthew   32  London       UK\n",
              "Philippe  45  London       UK"
            ],
            "text/html": [
              "\n",
              "  <div id=\"df-b080ada1-27f8-4f60-9dde-bd3820a197a4\">\n",
              "    <div class=\"colab-df-container\">\n",
              "      <div>\n",
              "<style scoped>\n",
              "    .dataframe tbody tr th:only-of-type {\n",
              "        vertical-align: middle;\n",
              "    }\n",
              "\n",
              "    .dataframe tbody tr th {\n",
              "        vertical-align: top;\n",
              "    }\n",
              "\n",
              "    .dataframe thead th {\n",
              "        text-align: right;\n",
              "    }\n",
              "</style>\n",
              "<table border=\"1\" class=\"dataframe\">\n",
              "  <thead>\n",
              "    <tr style=\"text-align: right;\">\n",
              "      <th></th>\n",
              "      <th>age</th>\n",
              "      <th>city</th>\n",
              "      <th>country</th>\n",
              "    </tr>\n",
              "    <tr>\n",
              "      <th>name</th>\n",
              "      <th></th>\n",
              "      <th></th>\n",
              "      <th></th>\n",
              "    </tr>\n",
              "  </thead>\n",
              "  <tbody>\n",
              "    <tr>\n",
              "      <th>Jess</th>\n",
              "      <td>30</td>\n",
              "      <td>Paris</td>\n",
              "      <td>France</td>\n",
              "    </tr>\n",
              "    <tr>\n",
              "      <th>Nick</th>\n",
              "      <td>35</td>\n",
              "      <td>Berlin</td>\n",
              "      <td>Germany</td>\n",
              "    </tr>\n",
              "    <tr>\n",
              "      <th>Winston</th>\n",
              "      <td>40</td>\n",
              "      <td>Madrid</td>\n",
              "      <td>Spain</td>\n",
              "    </tr>\n",
              "    <tr>\n",
              "      <th>Tom</th>\n",
              "      <td>27</td>\n",
              "      <td>Paris</td>\n",
              "      <td>France</td>\n",
              "    </tr>\n",
              "    <tr>\n",
              "      <th>Alex</th>\n",
              "      <td>52</td>\n",
              "      <td>London</td>\n",
              "      <td>UK</td>\n",
              "    </tr>\n",
              "    <tr>\n",
              "      <th>Matthew</th>\n",
              "      <td>32</td>\n",
              "      <td>London</td>\n",
              "      <td>UK</td>\n",
              "    </tr>\n",
              "    <tr>\n",
              "      <th>Philippe</th>\n",
              "      <td>45</td>\n",
              "      <td>London</td>\n",
              "      <td>UK</td>\n",
              "    </tr>\n",
              "  </tbody>\n",
              "</table>\n",
              "</div>\n",
              "      <button class=\"colab-df-convert\" onclick=\"convertToInteractive('df-b080ada1-27f8-4f60-9dde-bd3820a197a4')\"\n",
              "              title=\"Convert this dataframe to an interactive table.\"\n",
              "              style=\"display:none;\">\n",
              "        \n",
              "  <svg xmlns=\"http://www.w3.org/2000/svg\" height=\"24px\"viewBox=\"0 0 24 24\"\n",
              "       width=\"24px\">\n",
              "    <path d=\"M0 0h24v24H0V0z\" fill=\"none\"/>\n",
              "    <path d=\"M18.56 5.44l.94 2.06.94-2.06 2.06-.94-2.06-.94-.94-2.06-.94 2.06-2.06.94zm-11 1L8.5 8.5l.94-2.06 2.06-.94-2.06-.94L8.5 2.5l-.94 2.06-2.06.94zm10 10l.94 2.06.94-2.06 2.06-.94-2.06-.94-.94-2.06-.94 2.06-2.06.94z\"/><path d=\"M17.41 7.96l-1.37-1.37c-.4-.4-.92-.59-1.43-.59-.52 0-1.04.2-1.43.59L10.3 9.45l-7.72 7.72c-.78.78-.78 2.05 0 2.83L4 21.41c.39.39.9.59 1.41.59.51 0 1.02-.2 1.41-.59l7.78-7.78 2.81-2.81c.8-.78.8-2.07 0-2.86zM5.41 20L4 18.59l7.72-7.72 1.47 1.35L5.41 20z\"/>\n",
              "  </svg>\n",
              "      </button>\n",
              "      \n",
              "  <style>\n",
              "    .colab-df-container {\n",
              "      display:flex;\n",
              "      flex-wrap:wrap;\n",
              "      gap: 12px;\n",
              "    }\n",
              "\n",
              "    .colab-df-convert {\n",
              "      background-color: #E8F0FE;\n",
              "      border: none;\n",
              "      border-radius: 50%;\n",
              "      cursor: pointer;\n",
              "      display: none;\n",
              "      fill: #1967D2;\n",
              "      height: 32px;\n",
              "      padding: 0 0 0 0;\n",
              "      width: 32px;\n",
              "    }\n",
              "\n",
              "    .colab-df-convert:hover {\n",
              "      background-color: #E2EBFA;\n",
              "      box-shadow: 0px 1px 2px rgba(60, 64, 67, 0.3), 0px 1px 3px 1px rgba(60, 64, 67, 0.15);\n",
              "      fill: #174EA6;\n",
              "    }\n",
              "\n",
              "    [theme=dark] .colab-df-convert {\n",
              "      background-color: #3B4455;\n",
              "      fill: #D2E3FC;\n",
              "    }\n",
              "\n",
              "    [theme=dark] .colab-df-convert:hover {\n",
              "      background-color: #434B5C;\n",
              "      box-shadow: 0px 1px 3px 1px rgba(0, 0, 0, 0.15);\n",
              "      filter: drop-shadow(0px 1px 2px rgba(0, 0, 0, 0.3));\n",
              "      fill: #FFFFFF;\n",
              "    }\n",
              "  </style>\n",
              "\n",
              "      <script>\n",
              "        const buttonEl =\n",
              "          document.querySelector('#df-b080ada1-27f8-4f60-9dde-bd3820a197a4 button.colab-df-convert');\n",
              "        buttonEl.style.display =\n",
              "          google.colab.kernel.accessAllowed ? 'block' : 'none';\n",
              "\n",
              "        async function convertToInteractive(key) {\n",
              "          const element = document.querySelector('#df-b080ada1-27f8-4f60-9dde-bd3820a197a4');\n",
              "          const dataTable =\n",
              "            await google.colab.kernel.invokeFunction('convertToInteractive',\n",
              "                                                     [key], {});\n",
              "          if (!dataTable) return;\n",
              "\n",
              "          const docLinkHtml = 'Like what you see? Visit the ' +\n",
              "            '<a target=\"_blank\" href=https://colab.research.google.com/notebooks/data_table.ipynb>data table notebook</a>'\n",
              "            + ' to learn more about interactive tables.';\n",
              "          element.innerHTML = '';\n",
              "          dataTable['output_type'] = 'display_data';\n",
              "          await google.colab.output.renderOutput(dataTable, element);\n",
              "          const docLink = document.createElement('div');\n",
              "          docLink.innerHTML = docLinkHtml;\n",
              "          element.appendChild(docLink);\n",
              "        }\n",
              "      </script>\n",
              "    </div>\n",
              "  </div>\n",
              "  "
            ]
          },
          "metadata": {},
          "execution_count": 201
        }
      ],
      "source": [
        "# join the dfs into a single one\n",
        "\n",
        "# concatenate all df into a single one\n",
        "df = pd.concat([df1, df2]) # it will use the column names  to join by\n",
        "\n",
        "# check dataframes shapes\n",
        "print('the df1 Shape is : ', df1.shape)\n",
        "print('the df2 Shape is : ', df2.shape)\n",
        "print('the new joined Dataframe Shape is : ', df.shape)\n",
        "print('')\n",
        "\n",
        "# visualize the new df\n",
        "print('')\n",
        "print('Now we have a homogeneous df')\n",
        "df"
      ]
    },
    {
      "cell_type": "markdown",
      "source": [
        "## Add columns or rows"
      ],
      "metadata": {
        "id": "cdOAL37p7q5V"
      }
    },
    {
      "cell_type": "code",
      "source": [
        "# add region a column region where all the values will be 'Europe'\n",
        "\n",
        "df['region'] = 'Europe'\n",
        "df"
      ],
      "metadata": {
        "id": "beCG9jQalfDY",
        "outputId": "0e5c3819-bef7-4717-e7e8-6338fa9a9350",
        "colab": {
          "base_uri": "https://localhost:8080/",
          "height": 300
        }
      },
      "execution_count": null,
      "outputs": [
        {
          "output_type": "execute_result",
          "data": {
            "text/plain": [
              "         age    city  country  region\n",
              "name                                 \n",
              "Jess      30   Paris   France  Europe\n",
              "Nick      35  Berlin  Germany  Europe\n",
              "Winston   40  Madrid    Spain  Europe\n",
              "Tom       27   Paris   France  Europe\n",
              "Alex      52  London       UK  Europe\n",
              "Matthew   32  London       UK  Europe\n",
              "Philippe  45  London       UK  Europe"
            ],
            "text/html": [
              "\n",
              "  <div id=\"df-61ef8475-90c2-4488-968e-a68f0e2ea26e\">\n",
              "    <div class=\"colab-df-container\">\n",
              "      <div>\n",
              "<style scoped>\n",
              "    .dataframe tbody tr th:only-of-type {\n",
              "        vertical-align: middle;\n",
              "    }\n",
              "\n",
              "    .dataframe tbody tr th {\n",
              "        vertical-align: top;\n",
              "    }\n",
              "\n",
              "    .dataframe thead th {\n",
              "        text-align: right;\n",
              "    }\n",
              "</style>\n",
              "<table border=\"1\" class=\"dataframe\">\n",
              "  <thead>\n",
              "    <tr style=\"text-align: right;\">\n",
              "      <th></th>\n",
              "      <th>age</th>\n",
              "      <th>city</th>\n",
              "      <th>country</th>\n",
              "      <th>region</th>\n",
              "    </tr>\n",
              "    <tr>\n",
              "      <th>name</th>\n",
              "      <th></th>\n",
              "      <th></th>\n",
              "      <th></th>\n",
              "      <th></th>\n",
              "    </tr>\n",
              "  </thead>\n",
              "  <tbody>\n",
              "    <tr>\n",
              "      <th>Jess</th>\n",
              "      <td>30</td>\n",
              "      <td>Paris</td>\n",
              "      <td>France</td>\n",
              "      <td>Europe</td>\n",
              "    </tr>\n",
              "    <tr>\n",
              "      <th>Nick</th>\n",
              "      <td>35</td>\n",
              "      <td>Berlin</td>\n",
              "      <td>Germany</td>\n",
              "      <td>Europe</td>\n",
              "    </tr>\n",
              "    <tr>\n",
              "      <th>Winston</th>\n",
              "      <td>40</td>\n",
              "      <td>Madrid</td>\n",
              "      <td>Spain</td>\n",
              "      <td>Europe</td>\n",
              "    </tr>\n",
              "    <tr>\n",
              "      <th>Tom</th>\n",
              "      <td>27</td>\n",
              "      <td>Paris</td>\n",
              "      <td>France</td>\n",
              "      <td>Europe</td>\n",
              "    </tr>\n",
              "    <tr>\n",
              "      <th>Alex</th>\n",
              "      <td>52</td>\n",
              "      <td>London</td>\n",
              "      <td>UK</td>\n",
              "      <td>Europe</td>\n",
              "    </tr>\n",
              "    <tr>\n",
              "      <th>Matthew</th>\n",
              "      <td>32</td>\n",
              "      <td>London</td>\n",
              "      <td>UK</td>\n",
              "      <td>Europe</td>\n",
              "    </tr>\n",
              "    <tr>\n",
              "      <th>Philippe</th>\n",
              "      <td>45</td>\n",
              "      <td>London</td>\n",
              "      <td>UK</td>\n",
              "      <td>Europe</td>\n",
              "    </tr>\n",
              "  </tbody>\n",
              "</table>\n",
              "</div>\n",
              "      <button class=\"colab-df-convert\" onclick=\"convertToInteractive('df-61ef8475-90c2-4488-968e-a68f0e2ea26e')\"\n",
              "              title=\"Convert this dataframe to an interactive table.\"\n",
              "              style=\"display:none;\">\n",
              "        \n",
              "  <svg xmlns=\"http://www.w3.org/2000/svg\" height=\"24px\"viewBox=\"0 0 24 24\"\n",
              "       width=\"24px\">\n",
              "    <path d=\"M0 0h24v24H0V0z\" fill=\"none\"/>\n",
              "    <path d=\"M18.56 5.44l.94 2.06.94-2.06 2.06-.94-2.06-.94-.94-2.06-.94 2.06-2.06.94zm-11 1L8.5 8.5l.94-2.06 2.06-.94-2.06-.94L8.5 2.5l-.94 2.06-2.06.94zm10 10l.94 2.06.94-2.06 2.06-.94-2.06-.94-.94-2.06-.94 2.06-2.06.94z\"/><path d=\"M17.41 7.96l-1.37-1.37c-.4-.4-.92-.59-1.43-.59-.52 0-1.04.2-1.43.59L10.3 9.45l-7.72 7.72c-.78.78-.78 2.05 0 2.83L4 21.41c.39.39.9.59 1.41.59.51 0 1.02-.2 1.41-.59l7.78-7.78 2.81-2.81c.8-.78.8-2.07 0-2.86zM5.41 20L4 18.59l7.72-7.72 1.47 1.35L5.41 20z\"/>\n",
              "  </svg>\n",
              "      </button>\n",
              "      \n",
              "  <style>\n",
              "    .colab-df-container {\n",
              "      display:flex;\n",
              "      flex-wrap:wrap;\n",
              "      gap: 12px;\n",
              "    }\n",
              "\n",
              "    .colab-df-convert {\n",
              "      background-color: #E8F0FE;\n",
              "      border: none;\n",
              "      border-radius: 50%;\n",
              "      cursor: pointer;\n",
              "      display: none;\n",
              "      fill: #1967D2;\n",
              "      height: 32px;\n",
              "      padding: 0 0 0 0;\n",
              "      width: 32px;\n",
              "    }\n",
              "\n",
              "    .colab-df-convert:hover {\n",
              "      background-color: #E2EBFA;\n",
              "      box-shadow: 0px 1px 2px rgba(60, 64, 67, 0.3), 0px 1px 3px 1px rgba(60, 64, 67, 0.15);\n",
              "      fill: #174EA6;\n",
              "    }\n",
              "\n",
              "    [theme=dark] .colab-df-convert {\n",
              "      background-color: #3B4455;\n",
              "      fill: #D2E3FC;\n",
              "    }\n",
              "\n",
              "    [theme=dark] .colab-df-convert:hover {\n",
              "      background-color: #434B5C;\n",
              "      box-shadow: 0px 1px 3px 1px rgba(0, 0, 0, 0.15);\n",
              "      filter: drop-shadow(0px 1px 2px rgba(0, 0, 0, 0.3));\n",
              "      fill: #FFFFFF;\n",
              "    }\n",
              "  </style>\n",
              "\n",
              "      <script>\n",
              "        const buttonEl =\n",
              "          document.querySelector('#df-61ef8475-90c2-4488-968e-a68f0e2ea26e button.colab-df-convert');\n",
              "        buttonEl.style.display =\n",
              "          google.colab.kernel.accessAllowed ? 'block' : 'none';\n",
              "\n",
              "        async function convertToInteractive(key) {\n",
              "          const element = document.querySelector('#df-61ef8475-90c2-4488-968e-a68f0e2ea26e');\n",
              "          const dataTable =\n",
              "            await google.colab.kernel.invokeFunction('convertToInteractive',\n",
              "                                                     [key], {});\n",
              "          if (!dataTable) return;\n",
              "\n",
              "          const docLinkHtml = 'Like what you see? Visit the ' +\n",
              "            '<a target=\"_blank\" href=https://colab.research.google.com/notebooks/data_table.ipynb>data table notebook</a>'\n",
              "            + ' to learn more about interactive tables.';\n",
              "          element.innerHTML = '';\n",
              "          dataTable['output_type'] = 'display_data';\n",
              "          await google.colab.output.renderOutput(dataTable, element);\n",
              "          const docLink = document.createElement('div');\n",
              "          docLink.innerHTML = docLinkHtml;\n",
              "          element.appendChild(docLink);\n",
              "        }\n",
              "      </script>\n",
              "    </div>\n",
              "  </div>\n",
              "  "
            ]
          },
          "metadata": {},
          "execution_count": 202
        }
      ]
    },
    {
      "cell_type": "code",
      "source": [
        "# add a column salary, with respective values\n",
        "# please keep in mind that the length has to be the same\n",
        "\n",
        "salary = ['40000', '45000', '50000', '55000', '60000', '65000', '70000'] # the list has to have the same nb of element as the nb of rows\n",
        "\n",
        "print('the length of salary is: ', len(salary))\n",
        "# if the length of salary is NOT the same as the nb of rows, python will give an error ...\n",
        "print('')\n",
        "\n",
        "df['salary']= salary\n",
        "\n",
        "print(df.shape)\n",
        "df"
      ],
      "metadata": {
        "id": "cykZ_PfvllnZ",
        "outputId": "78224def-6c2f-4f4b-eb1d-95c0ce1eb4a7",
        "colab": {
          "base_uri": "https://localhost:8080/",
          "height": 352
        }
      },
      "execution_count": null,
      "outputs": [
        {
          "output_type": "stream",
          "name": "stdout",
          "text": [
            "the length of salary is:  7\n",
            "\n",
            "(7, 5)\n"
          ]
        },
        {
          "output_type": "execute_result",
          "data": {
            "text/plain": [
              "         age    city  country  region salary\n",
              "name                                        \n",
              "Jess      30   Paris   France  Europe  40000\n",
              "Nick      35  Berlin  Germany  Europe  45000\n",
              "Winston   40  Madrid    Spain  Europe  50000\n",
              "Tom       27   Paris   France  Europe  55000\n",
              "Alex      52  London       UK  Europe  60000\n",
              "Matthew   32  London       UK  Europe  65000\n",
              "Philippe  45  London       UK  Europe  70000"
            ],
            "text/html": [
              "\n",
              "  <div id=\"df-56ad2419-78e1-484b-908a-e8cb3978e91b\">\n",
              "    <div class=\"colab-df-container\">\n",
              "      <div>\n",
              "<style scoped>\n",
              "    .dataframe tbody tr th:only-of-type {\n",
              "        vertical-align: middle;\n",
              "    }\n",
              "\n",
              "    .dataframe tbody tr th {\n",
              "        vertical-align: top;\n",
              "    }\n",
              "\n",
              "    .dataframe thead th {\n",
              "        text-align: right;\n",
              "    }\n",
              "</style>\n",
              "<table border=\"1\" class=\"dataframe\">\n",
              "  <thead>\n",
              "    <tr style=\"text-align: right;\">\n",
              "      <th></th>\n",
              "      <th>age</th>\n",
              "      <th>city</th>\n",
              "      <th>country</th>\n",
              "      <th>region</th>\n",
              "      <th>salary</th>\n",
              "    </tr>\n",
              "    <tr>\n",
              "      <th>name</th>\n",
              "      <th></th>\n",
              "      <th></th>\n",
              "      <th></th>\n",
              "      <th></th>\n",
              "      <th></th>\n",
              "    </tr>\n",
              "  </thead>\n",
              "  <tbody>\n",
              "    <tr>\n",
              "      <th>Jess</th>\n",
              "      <td>30</td>\n",
              "      <td>Paris</td>\n",
              "      <td>France</td>\n",
              "      <td>Europe</td>\n",
              "      <td>40000</td>\n",
              "    </tr>\n",
              "    <tr>\n",
              "      <th>Nick</th>\n",
              "      <td>35</td>\n",
              "      <td>Berlin</td>\n",
              "      <td>Germany</td>\n",
              "      <td>Europe</td>\n",
              "      <td>45000</td>\n",
              "    </tr>\n",
              "    <tr>\n",
              "      <th>Winston</th>\n",
              "      <td>40</td>\n",
              "      <td>Madrid</td>\n",
              "      <td>Spain</td>\n",
              "      <td>Europe</td>\n",
              "      <td>50000</td>\n",
              "    </tr>\n",
              "    <tr>\n",
              "      <th>Tom</th>\n",
              "      <td>27</td>\n",
              "      <td>Paris</td>\n",
              "      <td>France</td>\n",
              "      <td>Europe</td>\n",
              "      <td>55000</td>\n",
              "    </tr>\n",
              "    <tr>\n",
              "      <th>Alex</th>\n",
              "      <td>52</td>\n",
              "      <td>London</td>\n",
              "      <td>UK</td>\n",
              "      <td>Europe</td>\n",
              "      <td>60000</td>\n",
              "    </tr>\n",
              "    <tr>\n",
              "      <th>Matthew</th>\n",
              "      <td>32</td>\n",
              "      <td>London</td>\n",
              "      <td>UK</td>\n",
              "      <td>Europe</td>\n",
              "      <td>65000</td>\n",
              "    </tr>\n",
              "    <tr>\n",
              "      <th>Philippe</th>\n",
              "      <td>45</td>\n",
              "      <td>London</td>\n",
              "      <td>UK</td>\n",
              "      <td>Europe</td>\n",
              "      <td>70000</td>\n",
              "    </tr>\n",
              "  </tbody>\n",
              "</table>\n",
              "</div>\n",
              "      <button class=\"colab-df-convert\" onclick=\"convertToInteractive('df-56ad2419-78e1-484b-908a-e8cb3978e91b')\"\n",
              "              title=\"Convert this dataframe to an interactive table.\"\n",
              "              style=\"display:none;\">\n",
              "        \n",
              "  <svg xmlns=\"http://www.w3.org/2000/svg\" height=\"24px\"viewBox=\"0 0 24 24\"\n",
              "       width=\"24px\">\n",
              "    <path d=\"M0 0h24v24H0V0z\" fill=\"none\"/>\n",
              "    <path d=\"M18.56 5.44l.94 2.06.94-2.06 2.06-.94-2.06-.94-.94-2.06-.94 2.06-2.06.94zm-11 1L8.5 8.5l.94-2.06 2.06-.94-2.06-.94L8.5 2.5l-.94 2.06-2.06.94zm10 10l.94 2.06.94-2.06 2.06-.94-2.06-.94-.94-2.06-.94 2.06-2.06.94z\"/><path d=\"M17.41 7.96l-1.37-1.37c-.4-.4-.92-.59-1.43-.59-.52 0-1.04.2-1.43.59L10.3 9.45l-7.72 7.72c-.78.78-.78 2.05 0 2.83L4 21.41c.39.39.9.59 1.41.59.51 0 1.02-.2 1.41-.59l7.78-7.78 2.81-2.81c.8-.78.8-2.07 0-2.86zM5.41 20L4 18.59l7.72-7.72 1.47 1.35L5.41 20z\"/>\n",
              "  </svg>\n",
              "      </button>\n",
              "      \n",
              "  <style>\n",
              "    .colab-df-container {\n",
              "      display:flex;\n",
              "      flex-wrap:wrap;\n",
              "      gap: 12px;\n",
              "    }\n",
              "\n",
              "    .colab-df-convert {\n",
              "      background-color: #E8F0FE;\n",
              "      border: none;\n",
              "      border-radius: 50%;\n",
              "      cursor: pointer;\n",
              "      display: none;\n",
              "      fill: #1967D2;\n",
              "      height: 32px;\n",
              "      padding: 0 0 0 0;\n",
              "      width: 32px;\n",
              "    }\n",
              "\n",
              "    .colab-df-convert:hover {\n",
              "      background-color: #E2EBFA;\n",
              "      box-shadow: 0px 1px 2px rgba(60, 64, 67, 0.3), 0px 1px 3px 1px rgba(60, 64, 67, 0.15);\n",
              "      fill: #174EA6;\n",
              "    }\n",
              "\n",
              "    [theme=dark] .colab-df-convert {\n",
              "      background-color: #3B4455;\n",
              "      fill: #D2E3FC;\n",
              "    }\n",
              "\n",
              "    [theme=dark] .colab-df-convert:hover {\n",
              "      background-color: #434B5C;\n",
              "      box-shadow: 0px 1px 3px 1px rgba(0, 0, 0, 0.15);\n",
              "      filter: drop-shadow(0px 1px 2px rgba(0, 0, 0, 0.3));\n",
              "      fill: #FFFFFF;\n",
              "    }\n",
              "  </style>\n",
              "\n",
              "      <script>\n",
              "        const buttonEl =\n",
              "          document.querySelector('#df-56ad2419-78e1-484b-908a-e8cb3978e91b button.colab-df-convert');\n",
              "        buttonEl.style.display =\n",
              "          google.colab.kernel.accessAllowed ? 'block' : 'none';\n",
              "\n",
              "        async function convertToInteractive(key) {\n",
              "          const element = document.querySelector('#df-56ad2419-78e1-484b-908a-e8cb3978e91b');\n",
              "          const dataTable =\n",
              "            await google.colab.kernel.invokeFunction('convertToInteractive',\n",
              "                                                     [key], {});\n",
              "          if (!dataTable) return;\n",
              "\n",
              "          const docLinkHtml = 'Like what you see? Visit the ' +\n",
              "            '<a target=\"_blank\" href=https://colab.research.google.com/notebooks/data_table.ipynb>data table notebook</a>'\n",
              "            + ' to learn more about interactive tables.';\n",
              "          element.innerHTML = '';\n",
              "          dataTable['output_type'] = 'display_data';\n",
              "          await google.colab.output.renderOutput(dataTable, element);\n",
              "          const docLink = document.createElement('div');\n",
              "          docLink.innerHTML = docLinkHtml;\n",
              "          element.appendChild(docLink);\n",
              "        }\n",
              "      </script>\n",
              "    </div>\n",
              "  </div>\n",
              "  "
            ]
          },
          "metadata": {},
          "execution_count": 203
        }
      ]
    },
    {
      "cell_type": "code",
      "source": [
        "# add a new row\n",
        "df.loc['John']= [40, 'New York','USA', 'North America', '75000']\n",
        "df"
      ],
      "metadata": {
        "id": "a6aaUu4x9QZP",
        "outputId": "870ba624-41df-4973-d75c-5f4acc108e58",
        "colab": {
          "base_uri": "https://localhost:8080/",
          "height": 331
        }
      },
      "execution_count": null,
      "outputs": [
        {
          "output_type": "execute_result",
          "data": {
            "text/plain": [
              "         age      city  country         region salary\n",
              "name                                                 \n",
              "Jess      30     Paris   France         Europe  40000\n",
              "Nick      35    Berlin  Germany         Europe  45000\n",
              "Winston   40    Madrid    Spain         Europe  50000\n",
              "Tom       27     Paris   France         Europe  55000\n",
              "Alex      52    London       UK         Europe  60000\n",
              "Matthew   32    London       UK         Europe  65000\n",
              "Philippe  45    London       UK         Europe  70000\n",
              "John      40  New York      USA  North America  75000"
            ],
            "text/html": [
              "\n",
              "  <div id=\"df-37ffd289-3e40-4473-b708-cd44fe7675a7\">\n",
              "    <div class=\"colab-df-container\">\n",
              "      <div>\n",
              "<style scoped>\n",
              "    .dataframe tbody tr th:only-of-type {\n",
              "        vertical-align: middle;\n",
              "    }\n",
              "\n",
              "    .dataframe tbody tr th {\n",
              "        vertical-align: top;\n",
              "    }\n",
              "\n",
              "    .dataframe thead th {\n",
              "        text-align: right;\n",
              "    }\n",
              "</style>\n",
              "<table border=\"1\" class=\"dataframe\">\n",
              "  <thead>\n",
              "    <tr style=\"text-align: right;\">\n",
              "      <th></th>\n",
              "      <th>age</th>\n",
              "      <th>city</th>\n",
              "      <th>country</th>\n",
              "      <th>region</th>\n",
              "      <th>salary</th>\n",
              "    </tr>\n",
              "    <tr>\n",
              "      <th>name</th>\n",
              "      <th></th>\n",
              "      <th></th>\n",
              "      <th></th>\n",
              "      <th></th>\n",
              "      <th></th>\n",
              "    </tr>\n",
              "  </thead>\n",
              "  <tbody>\n",
              "    <tr>\n",
              "      <th>Jess</th>\n",
              "      <td>30</td>\n",
              "      <td>Paris</td>\n",
              "      <td>France</td>\n",
              "      <td>Europe</td>\n",
              "      <td>40000</td>\n",
              "    </tr>\n",
              "    <tr>\n",
              "      <th>Nick</th>\n",
              "      <td>35</td>\n",
              "      <td>Berlin</td>\n",
              "      <td>Germany</td>\n",
              "      <td>Europe</td>\n",
              "      <td>45000</td>\n",
              "    </tr>\n",
              "    <tr>\n",
              "      <th>Winston</th>\n",
              "      <td>40</td>\n",
              "      <td>Madrid</td>\n",
              "      <td>Spain</td>\n",
              "      <td>Europe</td>\n",
              "      <td>50000</td>\n",
              "    </tr>\n",
              "    <tr>\n",
              "      <th>Tom</th>\n",
              "      <td>27</td>\n",
              "      <td>Paris</td>\n",
              "      <td>France</td>\n",
              "      <td>Europe</td>\n",
              "      <td>55000</td>\n",
              "    </tr>\n",
              "    <tr>\n",
              "      <th>Alex</th>\n",
              "      <td>52</td>\n",
              "      <td>London</td>\n",
              "      <td>UK</td>\n",
              "      <td>Europe</td>\n",
              "      <td>60000</td>\n",
              "    </tr>\n",
              "    <tr>\n",
              "      <th>Matthew</th>\n",
              "      <td>32</td>\n",
              "      <td>London</td>\n",
              "      <td>UK</td>\n",
              "      <td>Europe</td>\n",
              "      <td>65000</td>\n",
              "    </tr>\n",
              "    <tr>\n",
              "      <th>Philippe</th>\n",
              "      <td>45</td>\n",
              "      <td>London</td>\n",
              "      <td>UK</td>\n",
              "      <td>Europe</td>\n",
              "      <td>70000</td>\n",
              "    </tr>\n",
              "    <tr>\n",
              "      <th>John</th>\n",
              "      <td>40</td>\n",
              "      <td>New York</td>\n",
              "      <td>USA</td>\n",
              "      <td>North America</td>\n",
              "      <td>75000</td>\n",
              "    </tr>\n",
              "  </tbody>\n",
              "</table>\n",
              "</div>\n",
              "      <button class=\"colab-df-convert\" onclick=\"convertToInteractive('df-37ffd289-3e40-4473-b708-cd44fe7675a7')\"\n",
              "              title=\"Convert this dataframe to an interactive table.\"\n",
              "              style=\"display:none;\">\n",
              "        \n",
              "  <svg xmlns=\"http://www.w3.org/2000/svg\" height=\"24px\"viewBox=\"0 0 24 24\"\n",
              "       width=\"24px\">\n",
              "    <path d=\"M0 0h24v24H0V0z\" fill=\"none\"/>\n",
              "    <path d=\"M18.56 5.44l.94 2.06.94-2.06 2.06-.94-2.06-.94-.94-2.06-.94 2.06-2.06.94zm-11 1L8.5 8.5l.94-2.06 2.06-.94-2.06-.94L8.5 2.5l-.94 2.06-2.06.94zm10 10l.94 2.06.94-2.06 2.06-.94-2.06-.94-.94-2.06-.94 2.06-2.06.94z\"/><path d=\"M17.41 7.96l-1.37-1.37c-.4-.4-.92-.59-1.43-.59-.52 0-1.04.2-1.43.59L10.3 9.45l-7.72 7.72c-.78.78-.78 2.05 0 2.83L4 21.41c.39.39.9.59 1.41.59.51 0 1.02-.2 1.41-.59l7.78-7.78 2.81-2.81c.8-.78.8-2.07 0-2.86zM5.41 20L4 18.59l7.72-7.72 1.47 1.35L5.41 20z\"/>\n",
              "  </svg>\n",
              "      </button>\n",
              "      \n",
              "  <style>\n",
              "    .colab-df-container {\n",
              "      display:flex;\n",
              "      flex-wrap:wrap;\n",
              "      gap: 12px;\n",
              "    }\n",
              "\n",
              "    .colab-df-convert {\n",
              "      background-color: #E8F0FE;\n",
              "      border: none;\n",
              "      border-radius: 50%;\n",
              "      cursor: pointer;\n",
              "      display: none;\n",
              "      fill: #1967D2;\n",
              "      height: 32px;\n",
              "      padding: 0 0 0 0;\n",
              "      width: 32px;\n",
              "    }\n",
              "\n",
              "    .colab-df-convert:hover {\n",
              "      background-color: #E2EBFA;\n",
              "      box-shadow: 0px 1px 2px rgba(60, 64, 67, 0.3), 0px 1px 3px 1px rgba(60, 64, 67, 0.15);\n",
              "      fill: #174EA6;\n",
              "    }\n",
              "\n",
              "    [theme=dark] .colab-df-convert {\n",
              "      background-color: #3B4455;\n",
              "      fill: #D2E3FC;\n",
              "    }\n",
              "\n",
              "    [theme=dark] .colab-df-convert:hover {\n",
              "      background-color: #434B5C;\n",
              "      box-shadow: 0px 1px 3px 1px rgba(0, 0, 0, 0.15);\n",
              "      filter: drop-shadow(0px 1px 2px rgba(0, 0, 0, 0.3));\n",
              "      fill: #FFFFFF;\n",
              "    }\n",
              "  </style>\n",
              "\n",
              "      <script>\n",
              "        const buttonEl =\n",
              "          document.querySelector('#df-37ffd289-3e40-4473-b708-cd44fe7675a7 button.colab-df-convert');\n",
              "        buttonEl.style.display =\n",
              "          google.colab.kernel.accessAllowed ? 'block' : 'none';\n",
              "\n",
              "        async function convertToInteractive(key) {\n",
              "          const element = document.querySelector('#df-37ffd289-3e40-4473-b708-cd44fe7675a7');\n",
              "          const dataTable =\n",
              "            await google.colab.kernel.invokeFunction('convertToInteractive',\n",
              "                                                     [key], {});\n",
              "          if (!dataTable) return;\n",
              "\n",
              "          const docLinkHtml = 'Like what you see? Visit the ' +\n",
              "            '<a target=\"_blank\" href=https://colab.research.google.com/notebooks/data_table.ipynb>data table notebook</a>'\n",
              "            + ' to learn more about interactive tables.';\n",
              "          element.innerHTML = '';\n",
              "          dataTable['output_type'] = 'display_data';\n",
              "          await google.colab.output.renderOutput(dataTable, element);\n",
              "          const docLink = document.createElement('div');\n",
              "          docLink.innerHTML = docLinkHtml;\n",
              "          element.appendChild(docLink);\n",
              "        }\n",
              "      </script>\n",
              "    </div>\n",
              "  </div>\n",
              "  "
            ]
          },
          "metadata": {},
          "execution_count": 204
        }
      ]
    },
    {
      "cell_type": "markdown",
      "source": [
        "## Modify the df"
      ],
      "metadata": {
        "id": "Ksid4CP_D3Ce"
      }
    },
    {
      "cell_type": "code",
      "source": [
        "# Philippe moved to Paris (==> 'city') in France (==> 'country') and we want to update the df\n",
        "\n",
        "# modify the df with .loc method\n",
        "\n",
        "df.loc['Philippe', ['city', 'country']] = ['Paris', 'France']\n",
        "df"
      ],
      "metadata": {
        "id": "vBsA8cZEBf66",
        "outputId": "97d5f259-ab99-4532-eccc-d0f59a28124a",
        "colab": {
          "base_uri": "https://localhost:8080/",
          "height": 331
        }
      },
      "execution_count": null,
      "outputs": [
        {
          "output_type": "execute_result",
          "data": {
            "text/plain": [
              "         age      city  country         region salary\n",
              "name                                                 \n",
              "Jess      30     Paris   France         Europe  40000\n",
              "Nick      35    Berlin  Germany         Europe  45000\n",
              "Winston   40    Madrid    Spain         Europe  50000\n",
              "Tom       27     Paris   France         Europe  55000\n",
              "Alex      52    London       UK         Europe  60000\n",
              "Matthew   32    London       UK         Europe  65000\n",
              "Philippe  45     Paris   France         Europe  70000\n",
              "John      40  New York      USA  North America  75000"
            ],
            "text/html": [
              "\n",
              "  <div id=\"df-264c5954-7917-47ab-a8e0-a772d4589d51\">\n",
              "    <div class=\"colab-df-container\">\n",
              "      <div>\n",
              "<style scoped>\n",
              "    .dataframe tbody tr th:only-of-type {\n",
              "        vertical-align: middle;\n",
              "    }\n",
              "\n",
              "    .dataframe tbody tr th {\n",
              "        vertical-align: top;\n",
              "    }\n",
              "\n",
              "    .dataframe thead th {\n",
              "        text-align: right;\n",
              "    }\n",
              "</style>\n",
              "<table border=\"1\" class=\"dataframe\">\n",
              "  <thead>\n",
              "    <tr style=\"text-align: right;\">\n",
              "      <th></th>\n",
              "      <th>age</th>\n",
              "      <th>city</th>\n",
              "      <th>country</th>\n",
              "      <th>region</th>\n",
              "      <th>salary</th>\n",
              "    </tr>\n",
              "    <tr>\n",
              "      <th>name</th>\n",
              "      <th></th>\n",
              "      <th></th>\n",
              "      <th></th>\n",
              "      <th></th>\n",
              "      <th></th>\n",
              "    </tr>\n",
              "  </thead>\n",
              "  <tbody>\n",
              "    <tr>\n",
              "      <th>Jess</th>\n",
              "      <td>30</td>\n",
              "      <td>Paris</td>\n",
              "      <td>France</td>\n",
              "      <td>Europe</td>\n",
              "      <td>40000</td>\n",
              "    </tr>\n",
              "    <tr>\n",
              "      <th>Nick</th>\n",
              "      <td>35</td>\n",
              "      <td>Berlin</td>\n",
              "      <td>Germany</td>\n",
              "      <td>Europe</td>\n",
              "      <td>45000</td>\n",
              "    </tr>\n",
              "    <tr>\n",
              "      <th>Winston</th>\n",
              "      <td>40</td>\n",
              "      <td>Madrid</td>\n",
              "      <td>Spain</td>\n",
              "      <td>Europe</td>\n",
              "      <td>50000</td>\n",
              "    </tr>\n",
              "    <tr>\n",
              "      <th>Tom</th>\n",
              "      <td>27</td>\n",
              "      <td>Paris</td>\n",
              "      <td>France</td>\n",
              "      <td>Europe</td>\n",
              "      <td>55000</td>\n",
              "    </tr>\n",
              "    <tr>\n",
              "      <th>Alex</th>\n",
              "      <td>52</td>\n",
              "      <td>London</td>\n",
              "      <td>UK</td>\n",
              "      <td>Europe</td>\n",
              "      <td>60000</td>\n",
              "    </tr>\n",
              "    <tr>\n",
              "      <th>Matthew</th>\n",
              "      <td>32</td>\n",
              "      <td>London</td>\n",
              "      <td>UK</td>\n",
              "      <td>Europe</td>\n",
              "      <td>65000</td>\n",
              "    </tr>\n",
              "    <tr>\n",
              "      <th>Philippe</th>\n",
              "      <td>45</td>\n",
              "      <td>Paris</td>\n",
              "      <td>France</td>\n",
              "      <td>Europe</td>\n",
              "      <td>70000</td>\n",
              "    </tr>\n",
              "    <tr>\n",
              "      <th>John</th>\n",
              "      <td>40</td>\n",
              "      <td>New York</td>\n",
              "      <td>USA</td>\n",
              "      <td>North America</td>\n",
              "      <td>75000</td>\n",
              "    </tr>\n",
              "  </tbody>\n",
              "</table>\n",
              "</div>\n",
              "      <button class=\"colab-df-convert\" onclick=\"convertToInteractive('df-264c5954-7917-47ab-a8e0-a772d4589d51')\"\n",
              "              title=\"Convert this dataframe to an interactive table.\"\n",
              "              style=\"display:none;\">\n",
              "        \n",
              "  <svg xmlns=\"http://www.w3.org/2000/svg\" height=\"24px\"viewBox=\"0 0 24 24\"\n",
              "       width=\"24px\">\n",
              "    <path d=\"M0 0h24v24H0V0z\" fill=\"none\"/>\n",
              "    <path d=\"M18.56 5.44l.94 2.06.94-2.06 2.06-.94-2.06-.94-.94-2.06-.94 2.06-2.06.94zm-11 1L8.5 8.5l.94-2.06 2.06-.94-2.06-.94L8.5 2.5l-.94 2.06-2.06.94zm10 10l.94 2.06.94-2.06 2.06-.94-2.06-.94-.94-2.06-.94 2.06-2.06.94z\"/><path d=\"M17.41 7.96l-1.37-1.37c-.4-.4-.92-.59-1.43-.59-.52 0-1.04.2-1.43.59L10.3 9.45l-7.72 7.72c-.78.78-.78 2.05 0 2.83L4 21.41c.39.39.9.59 1.41.59.51 0 1.02-.2 1.41-.59l7.78-7.78 2.81-2.81c.8-.78.8-2.07 0-2.86zM5.41 20L4 18.59l7.72-7.72 1.47 1.35L5.41 20z\"/>\n",
              "  </svg>\n",
              "      </button>\n",
              "      \n",
              "  <style>\n",
              "    .colab-df-container {\n",
              "      display:flex;\n",
              "      flex-wrap:wrap;\n",
              "      gap: 12px;\n",
              "    }\n",
              "\n",
              "    .colab-df-convert {\n",
              "      background-color: #E8F0FE;\n",
              "      border: none;\n",
              "      border-radius: 50%;\n",
              "      cursor: pointer;\n",
              "      display: none;\n",
              "      fill: #1967D2;\n",
              "      height: 32px;\n",
              "      padding: 0 0 0 0;\n",
              "      width: 32px;\n",
              "    }\n",
              "\n",
              "    .colab-df-convert:hover {\n",
              "      background-color: #E2EBFA;\n",
              "      box-shadow: 0px 1px 2px rgba(60, 64, 67, 0.3), 0px 1px 3px 1px rgba(60, 64, 67, 0.15);\n",
              "      fill: #174EA6;\n",
              "    }\n",
              "\n",
              "    [theme=dark] .colab-df-convert {\n",
              "      background-color: #3B4455;\n",
              "      fill: #D2E3FC;\n",
              "    }\n",
              "\n",
              "    [theme=dark] .colab-df-convert:hover {\n",
              "      background-color: #434B5C;\n",
              "      box-shadow: 0px 1px 3px 1px rgba(0, 0, 0, 0.15);\n",
              "      filter: drop-shadow(0px 1px 2px rgba(0, 0, 0, 0.3));\n",
              "      fill: #FFFFFF;\n",
              "    }\n",
              "  </style>\n",
              "\n",
              "      <script>\n",
              "        const buttonEl =\n",
              "          document.querySelector('#df-264c5954-7917-47ab-a8e0-a772d4589d51 button.colab-df-convert');\n",
              "        buttonEl.style.display =\n",
              "          google.colab.kernel.accessAllowed ? 'block' : 'none';\n",
              "\n",
              "        async function convertToInteractive(key) {\n",
              "          const element = document.querySelector('#df-264c5954-7917-47ab-a8e0-a772d4589d51');\n",
              "          const dataTable =\n",
              "            await google.colab.kernel.invokeFunction('convertToInteractive',\n",
              "                                                     [key], {});\n",
              "          if (!dataTable) return;\n",
              "\n",
              "          const docLinkHtml = 'Like what you see? Visit the ' +\n",
              "            '<a target=\"_blank\" href=https://colab.research.google.com/notebooks/data_table.ipynb>data table notebook</a>'\n",
              "            + ' to learn more about interactive tables.';\n",
              "          element.innerHTML = '';\n",
              "          dataTable['output_type'] = 'display_data';\n",
              "          await google.colab.output.renderOutput(dataTable, element);\n",
              "          const docLink = document.createElement('div');\n",
              "          docLink.innerHTML = docLinkHtml;\n",
              "          element.appendChild(docLink);\n",
              "        }\n",
              "      </script>\n",
              "    </div>\n",
              "  </div>\n",
              "  "
            ]
          },
          "metadata": {},
          "execution_count": 205
        }
      ]
    },
    {
      "cell_type": "code",
      "source": [
        "# Philippe moved back to London, in UK and even got a promotion and we want to update the df\n",
        "\n",
        "# modify df with .iloc method\n",
        "\n",
        "# the row of 'Philipp' hase the index 6\n",
        "# the indicies for 'city', 'country' and 'salary' columns are : 1, 2, 4 \n",
        "\n",
        "df.iloc[6, [1, 2, 4]]= ['London', 'UK', '80000'] \n",
        "\n",
        "df"
      ],
      "metadata": {
        "id": "SR-kgJjkCJH9",
        "outputId": "adbd5da5-2734-4b2c-c480-968775ddb2e8",
        "colab": {
          "base_uri": "https://localhost:8080/",
          "height": 331
        }
      },
      "execution_count": null,
      "outputs": [
        {
          "output_type": "execute_result",
          "data": {
            "text/plain": [
              "         age      city  country         region salary\n",
              "name                                                 \n",
              "Jess      30     Paris   France         Europe  40000\n",
              "Nick      35    Berlin  Germany         Europe  45000\n",
              "Winston   40    Madrid    Spain         Europe  50000\n",
              "Tom       27     Paris   France         Europe  55000\n",
              "Alex      52    London       UK         Europe  60000\n",
              "Matthew   32    London       UK         Europe  65000\n",
              "Philippe  45    London       UK         Europe  80000\n",
              "John      40  New York      USA  North America  75000"
            ],
            "text/html": [
              "\n",
              "  <div id=\"df-dc7ccaf9-ec28-4f6e-8625-0a8d4479089f\">\n",
              "    <div class=\"colab-df-container\">\n",
              "      <div>\n",
              "<style scoped>\n",
              "    .dataframe tbody tr th:only-of-type {\n",
              "        vertical-align: middle;\n",
              "    }\n",
              "\n",
              "    .dataframe tbody tr th {\n",
              "        vertical-align: top;\n",
              "    }\n",
              "\n",
              "    .dataframe thead th {\n",
              "        text-align: right;\n",
              "    }\n",
              "</style>\n",
              "<table border=\"1\" class=\"dataframe\">\n",
              "  <thead>\n",
              "    <tr style=\"text-align: right;\">\n",
              "      <th></th>\n",
              "      <th>age</th>\n",
              "      <th>city</th>\n",
              "      <th>country</th>\n",
              "      <th>region</th>\n",
              "      <th>salary</th>\n",
              "    </tr>\n",
              "    <tr>\n",
              "      <th>name</th>\n",
              "      <th></th>\n",
              "      <th></th>\n",
              "      <th></th>\n",
              "      <th></th>\n",
              "      <th></th>\n",
              "    </tr>\n",
              "  </thead>\n",
              "  <tbody>\n",
              "    <tr>\n",
              "      <th>Jess</th>\n",
              "      <td>30</td>\n",
              "      <td>Paris</td>\n",
              "      <td>France</td>\n",
              "      <td>Europe</td>\n",
              "      <td>40000</td>\n",
              "    </tr>\n",
              "    <tr>\n",
              "      <th>Nick</th>\n",
              "      <td>35</td>\n",
              "      <td>Berlin</td>\n",
              "      <td>Germany</td>\n",
              "      <td>Europe</td>\n",
              "      <td>45000</td>\n",
              "    </tr>\n",
              "    <tr>\n",
              "      <th>Winston</th>\n",
              "      <td>40</td>\n",
              "      <td>Madrid</td>\n",
              "      <td>Spain</td>\n",
              "      <td>Europe</td>\n",
              "      <td>50000</td>\n",
              "    </tr>\n",
              "    <tr>\n",
              "      <th>Tom</th>\n",
              "      <td>27</td>\n",
              "      <td>Paris</td>\n",
              "      <td>France</td>\n",
              "      <td>Europe</td>\n",
              "      <td>55000</td>\n",
              "    </tr>\n",
              "    <tr>\n",
              "      <th>Alex</th>\n",
              "      <td>52</td>\n",
              "      <td>London</td>\n",
              "      <td>UK</td>\n",
              "      <td>Europe</td>\n",
              "      <td>60000</td>\n",
              "    </tr>\n",
              "    <tr>\n",
              "      <th>Matthew</th>\n",
              "      <td>32</td>\n",
              "      <td>London</td>\n",
              "      <td>UK</td>\n",
              "      <td>Europe</td>\n",
              "      <td>65000</td>\n",
              "    </tr>\n",
              "    <tr>\n",
              "      <th>Philippe</th>\n",
              "      <td>45</td>\n",
              "      <td>London</td>\n",
              "      <td>UK</td>\n",
              "      <td>Europe</td>\n",
              "      <td>80000</td>\n",
              "    </tr>\n",
              "    <tr>\n",
              "      <th>John</th>\n",
              "      <td>40</td>\n",
              "      <td>New York</td>\n",
              "      <td>USA</td>\n",
              "      <td>North America</td>\n",
              "      <td>75000</td>\n",
              "    </tr>\n",
              "  </tbody>\n",
              "</table>\n",
              "</div>\n",
              "      <button class=\"colab-df-convert\" onclick=\"convertToInteractive('df-dc7ccaf9-ec28-4f6e-8625-0a8d4479089f')\"\n",
              "              title=\"Convert this dataframe to an interactive table.\"\n",
              "              style=\"display:none;\">\n",
              "        \n",
              "  <svg xmlns=\"http://www.w3.org/2000/svg\" height=\"24px\"viewBox=\"0 0 24 24\"\n",
              "       width=\"24px\">\n",
              "    <path d=\"M0 0h24v24H0V0z\" fill=\"none\"/>\n",
              "    <path d=\"M18.56 5.44l.94 2.06.94-2.06 2.06-.94-2.06-.94-.94-2.06-.94 2.06-2.06.94zm-11 1L8.5 8.5l.94-2.06 2.06-.94-2.06-.94L8.5 2.5l-.94 2.06-2.06.94zm10 10l.94 2.06.94-2.06 2.06-.94-2.06-.94-.94-2.06-.94 2.06-2.06.94z\"/><path d=\"M17.41 7.96l-1.37-1.37c-.4-.4-.92-.59-1.43-.59-.52 0-1.04.2-1.43.59L10.3 9.45l-7.72 7.72c-.78.78-.78 2.05 0 2.83L4 21.41c.39.39.9.59 1.41.59.51 0 1.02-.2 1.41-.59l7.78-7.78 2.81-2.81c.8-.78.8-2.07 0-2.86zM5.41 20L4 18.59l7.72-7.72 1.47 1.35L5.41 20z\"/>\n",
              "  </svg>\n",
              "      </button>\n",
              "      \n",
              "  <style>\n",
              "    .colab-df-container {\n",
              "      display:flex;\n",
              "      flex-wrap:wrap;\n",
              "      gap: 12px;\n",
              "    }\n",
              "\n",
              "    .colab-df-convert {\n",
              "      background-color: #E8F0FE;\n",
              "      border: none;\n",
              "      border-radius: 50%;\n",
              "      cursor: pointer;\n",
              "      display: none;\n",
              "      fill: #1967D2;\n",
              "      height: 32px;\n",
              "      padding: 0 0 0 0;\n",
              "      width: 32px;\n",
              "    }\n",
              "\n",
              "    .colab-df-convert:hover {\n",
              "      background-color: #E2EBFA;\n",
              "      box-shadow: 0px 1px 2px rgba(60, 64, 67, 0.3), 0px 1px 3px 1px rgba(60, 64, 67, 0.15);\n",
              "      fill: #174EA6;\n",
              "    }\n",
              "\n",
              "    [theme=dark] .colab-df-convert {\n",
              "      background-color: #3B4455;\n",
              "      fill: #D2E3FC;\n",
              "    }\n",
              "\n",
              "    [theme=dark] .colab-df-convert:hover {\n",
              "      background-color: #434B5C;\n",
              "      box-shadow: 0px 1px 3px 1px rgba(0, 0, 0, 0.15);\n",
              "      filter: drop-shadow(0px 1px 2px rgba(0, 0, 0, 0.3));\n",
              "      fill: #FFFFFF;\n",
              "    }\n",
              "  </style>\n",
              "\n",
              "      <script>\n",
              "        const buttonEl =\n",
              "          document.querySelector('#df-dc7ccaf9-ec28-4f6e-8625-0a8d4479089f button.colab-df-convert');\n",
              "        buttonEl.style.display =\n",
              "          google.colab.kernel.accessAllowed ? 'block' : 'none';\n",
              "\n",
              "        async function convertToInteractive(key) {\n",
              "          const element = document.querySelector('#df-dc7ccaf9-ec28-4f6e-8625-0a8d4479089f');\n",
              "          const dataTable =\n",
              "            await google.colab.kernel.invokeFunction('convertToInteractive',\n",
              "                                                     [key], {});\n",
              "          if (!dataTable) return;\n",
              "\n",
              "          const docLinkHtml = 'Like what you see? Visit the ' +\n",
              "            '<a target=\"_blank\" href=https://colab.research.google.com/notebooks/data_table.ipynb>data table notebook</a>'\n",
              "            + ' to learn more about interactive tables.';\n",
              "          element.innerHTML = '';\n",
              "          dataTable['output_type'] = 'display_data';\n",
              "          await google.colab.output.renderOutput(dataTable, element);\n",
              "          const docLink = document.createElement('div');\n",
              "          docLink.innerHTML = docLinkHtml;\n",
              "          element.appendChild(docLink);\n",
              "        }\n",
              "      </script>\n",
              "    </div>\n",
              "  </div>\n",
              "  "
            ]
          },
          "metadata": {},
          "execution_count": 206
        }
      ]
    },
    {
      "cell_type": "markdown",
      "source": [
        "## Explore df"
      ],
      "metadata": {
        "id": "6XtJyKUF8H5r"
      }
    },
    {
      "cell_type": "code",
      "execution_count": null,
      "metadata": {
        "id": "yseGtfbScVfi",
        "outputId": "ee62f308-39b5-437a-9af4-8db5ac26f048",
        "colab": {
          "base_uri": "https://localhost:8080/"
        }
      },
      "outputs": [
        {
          "output_type": "stream",
          "name": "stdout",
          "text": [
            "<class 'pandas.core.frame.DataFrame'>\n",
            "Index: 7 entries, Jess to 1\n",
            "Data columns (total 5 columns):\n",
            " #   Column   Non-Null Count  Dtype \n",
            "---  ------   --------------  ----- \n",
            " 0   age      7 non-null      object\n",
            " 1   city     7 non-null      object\n",
            " 2   country  5 non-null      object\n",
            " 3   prénom   2 non-null      object\n",
            " 4   pays     2 non-null      object\n",
            "dtypes: object(5)\n",
            "memory usage: 336.0+ bytes\n"
          ]
        }
      ],
      "source": [
        "# general info of df\n",
        "# have a closer look at the output...\n",
        "# Dtype indicates you the data type containing in the columns\n",
        "# have a closer look at Dtype of 'age' and 'city'\n",
        "\n",
        "df.info()"
      ]
    },
    {
      "cell_type": "code",
      "execution_count": null,
      "metadata": {
        "id": "QvQMEv9_coSn"
      },
      "outputs": [],
      "source": [
        "# salary and age are perceived as object dtype, but we want it as numeric\n",
        "\n",
        "# convert column of a DataFrame\n",
        "df[\"age\"] = pd.to_numeric(df[\"age\"])\n",
        "df[\"salary\"] = pd.to_numeric(df.salary)\n",
        "\n",
        "# check again the general information of the df and see the difference\n",
        "df.info()"
      ]
    },
    {
      "cell_type": "code",
      "execution_count": null,
      "metadata": {
        "id": "gltC1Y6Pcx6Q"
      },
      "outputs": [],
      "source": [
        "# use .describe() method to have an brief overview of general statisctics \n",
        "\n",
        "df.describe()"
      ]
    },
    {
      "cell_type": "code",
      "execution_count": null,
      "metadata": {
        "id": "YE3QM_BhYrHs"
      },
      "outputs": [],
      "source": [
        "# distinct cities with method .unique()\n",
        "\n",
        "df.city.unique()"
      ]
    },
    {
      "cell_type": "code",
      "execution_count": null,
      "metadata": {
        "id": "Rn6swduVY9o6"
      },
      "outputs": [],
      "source": [
        "# number of distinct cities\n",
        "len(df['city'].unique())"
      ]
    },
    {
      "cell_type": "markdown",
      "metadata": {
        "id": "8dRDNJTZbKGx"
      },
      "source": [
        "## Groupby"
      ]
    },
    {
      "cell_type": "markdown",
      "source": [
        "More about groupby method in pandas https://pandas.pydata.org/docs/reference/api/pandas.DataFrame.groupby.html"
      ],
      "metadata": {
        "id": "ERNOF46jQHUj"
      }
    },
    {
      "cell_type": "code",
      "execution_count": null,
      "metadata": {
        "id": "lLkDe2Q-bPZb"
      },
      "outputs": [],
      "source": [
        "# check the mean age by city\n",
        "df.groupby(by=[\"city\"])['age'].mean()"
      ]
    },
    {
      "cell_type": "code",
      "execution_count": null,
      "metadata": {
        "id": "Cjqu7rrhZzrc"
      },
      "outputs": [],
      "source": [
        "# check the total salary by city\n",
        "df.groupby(by=[\"city\"])['salary'].sum()"
      ]
    },
    {
      "cell_type": "code",
      "source": [
        "# check how many city we have by country\n",
        "df.groupby(by=[\"country\"])['city'].count()"
      ],
      "metadata": {
        "id": "h42ADRKYQWkF"
      },
      "execution_count": null,
      "outputs": []
    },
    {
      "cell_type": "code",
      "execution_count": null,
      "metadata": {
        "id": "5Ygrjq15eHcb"
      },
      "outputs": [],
      "source": [
        "# group by 2 variables\n",
        "\n",
        "df.groupby(by=['region', \"country\"])['salary'].mean()"
      ]
    },
    {
      "cell_type": "markdown",
      "metadata": {
        "id": "Iaab7nlWe-43"
      },
      "source": [
        "## Pivot"
      ]
    },
    {
      "cell_type": "markdown",
      "source": [
        "Create a spreadsheet-style pivot table as a DataFrame.\n",
        "\n",
        "The levels in the pivot table will be stored in MultiIndex objects (hierarchical indexes) on the index and columns of the result DataFrame"
      ],
      "metadata": {
        "id": "ETOwQZXnIWvk"
      }
    },
    {
      "cell_type": "markdown",
      "source": [
        "More about pivot function in python https://pandas.pydata.org/docs/reference/api/pandas.pivot_table.html"
      ],
      "metadata": {
        "id": "inZ1PdfsIYVl"
      }
    },
    {
      "cell_type": "code",
      "execution_count": null,
      "metadata": {
        "id": "EmV20Ha_eIy6"
      },
      "outputs": [],
      "source": [
        "# create a table that contains data about some packaging\n",
        "\n",
        "# the Box can be of wood or paper\n",
        "# in colors red or blue\n",
        "# of size small or large\n",
        "# with thier respective quantity and weight\n",
        "\n",
        "table = pd.DataFrame({\"Box\": [\"wood\", \"wood\", \"wood\", \"wood\", \"wood\",\n",
        "                         \"paper\", \"paper\", \"paper\", \"paper\"],\n",
        "                   \"Color\": [\"red\", \"red\", \"red\", \"blue\", \"blue\",\n",
        "                         \"red\", \"red\", \"blue\", \"blue\"],\n",
        "                   \"Size\": [\"small\", \"large\", \"large\", \"small\",\n",
        "                         \"small\", \"large\", \"small\", \"small\",\n",
        "                         \"large\"],\n",
        "                   \"Qty\": [1, 2, 2, 3, 3, 4, 5, 6, 7],\n",
        "                   \"Weigth\": [2, 4, 5, 5, 6, 6, 8, 9, 9]})\n",
        "\n",
        "print('the dataframe we will want to pivot..')\n",
        "print('')\n",
        "table"
      ]
    },
    {
      "cell_type": "code",
      "source": [
        "# import numpy module that help to work with numerical datatypes\n",
        "\n",
        "import numpy as np"
      ],
      "metadata": {
        "id": "uQCkFye9_Rrn"
      },
      "execution_count": null,
      "outputs": []
    },
    {
      "cell_type": "markdown",
      "source": [
        "MOre about numpy package https://numpy.org/"
      ],
      "metadata": {
        "id": "Fsil3Mql_SZ5"
      }
    },
    {
      "cell_type": "code",
      "execution_count": null,
      "metadata": {
        "id": "fI5V4JMQfC_O"
      },
      "outputs": [],
      "source": [
        "# pivot table dataframe, to get the sum of Qty by Box and Color (rows), and split by Size (columns)\n",
        "\n",
        "pivot = pd.pivot_table(table, # data to pivot\n",
        "                       values='Qty', # column to aggregate\n",
        "                       index=['Box', 'Color'], # Grouper, Keys to group by on the pivot table index.\n",
        "                       columns=['Size'], # Keys to group by on the pivot table column., will be the columns value\n",
        "                       aggfunc= np.sum)# the aggregation function is the sum ==> np.sum (we will use sum function from numpy package)\n",
        "\n",
        "pivot"
      ]
    },
    {
      "cell_type": "markdown",
      "source": [
        "## DataFrame Practice ***"
      ],
      "metadata": {
        "id": "GimcEwZddelu"
      }
    },
    {
      "cell_type": "markdown",
      "source": [
        "### Assignment 1"
      ],
      "metadata": {
        "id": "_-nzzLzH5EkI"
      }
    },
    {
      "cell_type": "code",
      "source": [
        "# create a variable called \"data\" with a dictionnary (*** with {} syntax ***) and print it out\n",
        "\n",
        "# 1s key:value pair : 'Name':['Jai', 'Princi', 'Gaurav', 'Anuj']\n",
        "# 2nd key:value pair : 'Age':[27, 24, 22, 32]\n",
        "# 3rd key:value pair : 'Address':['Delhi', 'Kanpur', 'Kanpur', 'Delhi']\n",
        "# 4th key:value pair : 'Country': ['India', 'India', 'India', 'India']\n",
        "# 5th key;value pair : 'Qualification':['Phd', 'MA', 'MCA', 'Phd']\n",
        "\n",
        "# your code here...\n",
        "\n"
      ],
      "metadata": {
        "id": "Ck2SCc3FKggz"
      },
      "execution_count": null,
      "outputs": []
    },
    {
      "cell_type": "code",
      "source": [
        "#@title Display Solution 1\n",
        "\n",
        "# Define a dictionary containing employee data\n",
        "data = {'Name':['Jai', 'Princi', 'Gaurav', 'Anuj'],\n",
        "        'Age':[27, 24, 22, 32],\n",
        "        'Address':['Delhi', 'Kanpur', 'Kanpur', 'Delhi'],\n",
        "        'Country': ['India', 'India', 'India', 'India'],\n",
        "        'Qualification':['Phd', 'MA', 'MCA', 'Phd']}\n",
        "\n",
        "data"
      ],
      "metadata": {
        "id": "hbVjzUCsKuHQ",
        "cellView": "form"
      },
      "execution_count": null,
      "outputs": []
    },
    {
      "cell_type": "markdown",
      "source": [
        "### Assignment 2"
      ],
      "metadata": {
        "id": "zT4HdbHp5G4a"
      }
    },
    {
      "cell_type": "code",
      "source": [
        "# create a dataframe 'df1' from dictionary \"data\"\n",
        "\n",
        "# don't forget to import pandas package as pd \n",
        "\n",
        "import pandas as pd\n",
        "\n",
        "# display the dataframe\n",
        "\n",
        "# your code here ...\n",
        "\n"
      ],
      "metadata": {
        "id": "5JNrb-5DLiyY"
      },
      "execution_count": null,
      "outputs": []
    },
    {
      "cell_type": "code",
      "source": [
        "#@title Display solution 2\n",
        "\n",
        "import pandas as pd\n",
        "\n",
        "# Convert the dictionary into DataFrame and call it df1\n",
        "df1 = pd.DataFrame(data)\n",
        "\n",
        "df1"
      ],
      "metadata": {
        "id": "XVUjwFTmLkuJ",
        "cellView": "form"
      },
      "execution_count": null,
      "outputs": []
    },
    {
      "cell_type": "markdown",
      "source": [
        "### Assignment 3"
      ],
      "metadata": {
        "id": "DKH2o6lU5Jf7"
      }
    },
    {
      "cell_type": "code",
      "source": [
        "# display the first 2 rows of df1\n",
        "\n",
        "# your code here"
      ],
      "metadata": {
        "id": "EWYP7I17MpLW"
      },
      "execution_count": null,
      "outputs": []
    },
    {
      "cell_type": "code",
      "source": [
        "#@title Display Solution 3\n",
        "\n",
        "# display the first 2 rows of df1\n",
        "\n",
        "df1.head(2)"
      ],
      "metadata": {
        "id": "b5OyVrxcMtIc",
        "cellView": "form"
      },
      "execution_count": null,
      "outputs": []
    },
    {
      "cell_type": "markdown",
      "source": [
        "### Assignment 4"
      ],
      "metadata": {
        "id": "Y78eiOGS5MYE"
      }
    },
    {
      "cell_type": "code",
      "source": [
        "# display the last row of the df1\n",
        "\n",
        "# your code here ..."
      ],
      "metadata": {
        "id": "5IMpy0KmM4vf"
      },
      "execution_count": null,
      "outputs": []
    },
    {
      "cell_type": "code",
      "source": [
        "#@title Display Solution 4\n",
        "\n",
        "df1.tail(1)"
      ],
      "metadata": {
        "id": "VUDV3miSM9Lt",
        "cellView": "form"
      },
      "execution_count": null,
      "outputs": []
    },
    {
      "cell_type": "markdown",
      "source": [
        "### Assignment 5"
      ],
      "metadata": {
        "id": "R7Ci0uvU5O64"
      }
    },
    {
      "cell_type": "code",
      "source": [
        "# what are the dimensions of df1\n",
        "\n",
        "# your code here..."
      ],
      "metadata": {
        "id": "ZLE-vvqXNEEQ"
      },
      "execution_count": null,
      "outputs": []
    },
    {
      "cell_type": "code",
      "source": [
        "#@title Display Solution 5\n",
        "\n",
        "# what are the dimensions of df1\n",
        "\n",
        "df1.shape"
      ],
      "metadata": {
        "id": "4ndeXkVxNHRZ",
        "cellView": "form"
      },
      "execution_count": null,
      "outputs": []
    },
    {
      "cell_type": "markdown",
      "source": [
        "### Assignment 6"
      ],
      "metadata": {
        "id": "TyZREfW65Rc8"
      }
    },
    {
      "cell_type": "code",
      "source": [
        "# how many rows the df1 have ?\n",
        "\n",
        "# your code here..."
      ],
      "metadata": {
        "id": "BNElze5tNNd7"
      },
      "execution_count": null,
      "outputs": []
    },
    {
      "cell_type": "code",
      "source": [
        "#@title Display Solution 6\n",
        "\n",
        "# how many rows ?\n",
        "\n",
        "print(len(df1))\n",
        "\n",
        "# OR ...\n",
        "\n",
        "df1.shape[0]\n"
      ],
      "metadata": {
        "id": "RGxr9pTUNSHZ",
        "cellView": "form"
      },
      "execution_count": null,
      "outputs": []
    },
    {
      "cell_type": "markdown",
      "source": [
        "### Assignment 7"
      ],
      "metadata": {
        "id": "VN6U40jk5TdH"
      }
    },
    {
      "cell_type": "code",
      "source": [
        "# how many columns\n",
        "\n",
        "# your code here ..."
      ],
      "metadata": {
        "id": "irc8-kylNf8S"
      },
      "execution_count": null,
      "outputs": []
    },
    {
      "cell_type": "code",
      "source": [
        "#@title Display Solution 7\n",
        "\n",
        "# how many columns\n",
        "\n",
        "print(df1.shape[1])\n",
        "\n",
        "# or \n",
        "\n",
        "len(df1.columns)"
      ],
      "metadata": {
        "id": "L-zQAhgVNiyO",
        "cellView": "form"
      },
      "execution_count": null,
      "outputs": []
    },
    {
      "cell_type": "markdown",
      "source": [
        "### Assignment 8"
      ],
      "metadata": {
        "id": "_9p5rmqz5WBe"
      }
    },
    {
      "cell_type": "code",
      "source": [
        "# what are the names of the columns\n",
        "\n",
        "# your code here ..."
      ],
      "metadata": {
        "id": "k0I9WeR9N3BI"
      },
      "execution_count": null,
      "outputs": []
    },
    {
      "cell_type": "code",
      "source": [
        "#@title Display Solution 8\n",
        "\n",
        "# what are the name of the columns\n",
        "\n",
        "df1.columns"
      ],
      "metadata": {
        "id": "ny_IhL20N43m",
        "cellView": "form"
      },
      "execution_count": null,
      "outputs": []
    },
    {
      "cell_type": "markdown",
      "source": [
        "### Assignment 9"
      ],
      "metadata": {
        "id": "gsRWqggO5YM8"
      }
    },
    {
      "cell_type": "code",
      "source": [
        "# return the name of the second columns (the outcomu shoud be 'Age')\n",
        "\n",
        "# your code here ..."
      ],
      "metadata": {
        "id": "nDYKxYCBODpg"
      },
      "execution_count": null,
      "outputs": []
    },
    {
      "cell_type": "code",
      "source": [
        "#@title Display Solution 9\n",
        "\n",
        "# return the name of the second columns (in Python logic)\n",
        "\n",
        "df1.columns[1]"
      ],
      "metadata": {
        "id": "SkQlN37wOHmB",
        "cellView": "form"
      },
      "execution_count": null,
      "outputs": []
    },
    {
      "cell_type": "markdown",
      "source": [
        "### Locations & Slicing"
      ],
      "metadata": {
        "id": "r1-KCvcKOZSY"
      }
    },
    {
      "cell_type": "markdown",
      "source": [
        "### Assignment 10"
      ],
      "metadata": {
        "id": "ejKpeIs85a8l"
      }
    },
    {
      "cell_type": "code",
      "source": [
        "###  Locations -----------\n",
        "\n",
        "# access the 2nd row (with .iloc) (in python logic)\n",
        "# !!! don't forget the indexation starting from 0 !!!\n",
        "\n",
        "# your code here ...."
      ],
      "metadata": {
        "id": "laHH7hA3Odfv"
      },
      "execution_count": null,
      "outputs": []
    },
    {
      "cell_type": "code",
      "source": [
        "#@title Display Solution 10\n",
        "\n",
        "# access the 2nd row\n",
        "\n",
        "print('the whole dataframe...')\n",
        "print(df1)\n",
        "print('')\n",
        "print('the 2nd row...at index 1...')\n",
        "df1.iloc[1]"
      ],
      "metadata": {
        "id": "nTM-4cDZOjfl",
        "cellView": "form"
      },
      "execution_count": null,
      "outputs": []
    },
    {
      "cell_type": "markdown",
      "source": [
        "### Assignment 11"
      ],
      "metadata": {
        "id": "YKUT0gyE5cz0"
      }
    },
    {
      "cell_type": "code",
      "source": [
        "# return the data with .iloc as below..\n",
        "\n",
        "'''\n",
        "Age  Adress \n",
        "24   Kanpur\n",
        "22   Kanpur\n",
        "'''\n",
        "\n",
        "# your code here..."
      ],
      "metadata": {
        "id": "qYgKSeCnO8Y9"
      },
      "execution_count": null,
      "outputs": []
    },
    {
      "cell_type": "code",
      "source": [
        "#@title Display Solution 11\n",
        "\n",
        "# return the data with .iloc\n",
        "\n",
        "'''\n",
        "Age  Adress \n",
        "24   Kanpur\n",
        "22   Kanpur\n",
        "'''\n",
        "\n",
        "df1.iloc[1:3, 1:3]"
      ],
      "metadata": {
        "id": "WWqXTZdmO_R4",
        "cellView": "form"
      },
      "execution_count": null,
      "outputs": []
    },
    {
      "cell_type": "markdown",
      "source": [
        "### Assignment 12"
      ],
      "metadata": {
        "id": "5dlajHs_5fr9"
      }
    },
    {
      "cell_type": "code",
      "source": [
        "# return the data with .iloc as below ...\n",
        "\n",
        "'''\n",
        "Name  Age \n",
        "Jay   27\n",
        "Anuj  32\n",
        "'''\n",
        "\n",
        "# your code here...\n"
      ],
      "metadata": {
        "id": "8dVE-xcxQFFw"
      },
      "execution_count": null,
      "outputs": []
    },
    {
      "cell_type": "code",
      "source": [
        "#@title Display Solution 12\n",
        "\n",
        "# return the data with .iloc\n",
        "\n",
        "'''\n",
        "Name  Age \n",
        "Jay   27\n",
        "Anuj  32\n",
        "'''\n",
        "\n",
        "\n",
        "df1.iloc[[0, -1], [0,1]]"
      ],
      "metadata": {
        "id": "kUqkUu8SQT2a",
        "cellView": "form"
      },
      "execution_count": null,
      "outputs": []
    },
    {
      "cell_type": "markdown",
      "source": [
        "### Assignment 13"
      ],
      "metadata": {
        "id": "NyAjSuco5itD"
      }
    },
    {
      "cell_type": "code",
      "source": [
        "# return 'Qualification' for rows from 'Jai' to 'Anuj' with .loc \n",
        "\n",
        "# don't forget to reset the index by using column 'Name' (*** .set_index() ***)\n",
        "\n",
        "# your code here..."
      ],
      "metadata": {
        "id": "FTurB5eqPfFM"
      },
      "execution_count": null,
      "outputs": []
    },
    {
      "cell_type": "code",
      "source": [
        "#@title Display Solution 13\n",
        "\n",
        "# return qualification for 'Jai' to 'Anuj' with .loc (!!! reset the index)\n",
        "\n",
        "print(df1)\n",
        "\n",
        "print('')\n",
        "\n",
        "# reset index\n",
        "df1 = df1.set_index('Name')\n",
        "\n",
        "# 'Qualification' for rows from 'Jai' to 'Anuj' with .loc \n",
        "df1.loc['Jai':'Anuj', 'Qualification']\n"
      ],
      "metadata": {
        "id": "LenGjne0PjD9",
        "cellView": "form"
      },
      "execution_count": null,
      "outputs": []
    },
    {
      "cell_type": "markdown",
      "source": [
        "### Assignment 14"
      ],
      "metadata": {
        "id": "GeKpisxz5m-K"
      }
    },
    {
      "cell_type": "code",
      "source": [
        "# return the Qualification and Address for 'Jai' , 'Anuj', 'Gaurav' with .loc\n",
        "\n",
        "# your code here ...\n"
      ],
      "metadata": {
        "id": "exiLcd-HSLu0"
      },
      "execution_count": null,
      "outputs": []
    },
    {
      "cell_type": "code",
      "source": [
        "#@title Display Solution 14\n",
        "\n",
        "# return the Qualification and Address for 'Jai' , 'Anuj', 'Gaurav' with .loc\n",
        "\n",
        "\n",
        "df1.loc[['Jai' , 'Anuj', 'Gaurav'], ['Qualification', 'Address']]"
      ],
      "metadata": {
        "id": "x62nPf_FSQM0",
        "cellView": "form"
      },
      "execution_count": null,
      "outputs": []
    },
    {
      "cell_type": "markdown",
      "source": [
        "### Filtering"
      ],
      "metadata": {
        "id": "JcOqOEImTHyx"
      }
    },
    {
      "cell_type": "markdown",
      "source": [
        "## Assignment 15"
      ],
      "metadata": {
        "id": "yC0udtAk5poF"
      }
    },
    {
      "cell_type": "code",
      "source": [
        "####  Filter -------------\n",
        "\n",
        "# access only the data where Qualification is Phd\n",
        "\n",
        "# your code here ...\n"
      ],
      "metadata": {
        "id": "7zS_dMQ9SjGn"
      },
      "execution_count": null,
      "outputs": []
    },
    {
      "cell_type": "code",
      "source": [
        "#@title Display Solution 15\n",
        "\n",
        "# access only the data where Qualification is Phd\n",
        "\n",
        "\n",
        "df1[df1['Qualification'] == 'Phd']"
      ],
      "metadata": {
        "id": "WTSE7Ev5SnFh",
        "cellView": "form"
      },
      "execution_count": null,
      "outputs": []
    },
    {
      "cell_type": "markdown",
      "source": [
        "### Join dataframes"
      ],
      "metadata": {
        "id": "l-TJHO8fTDhn"
      }
    },
    {
      "cell_type": "markdown",
      "source": [
        "### Assignment 16"
      ],
      "metadata": {
        "id": "23_EZFIn5r0r"
      }
    },
    {
      "cell_type": "code",
      "source": [
        "#### Join dfs ---------\n",
        "\n",
        "# create another dataframe df2\n",
        "\n",
        "# Define a dictionary called 'data' containing employee information\n",
        "data = {'Name':['Matt', 'Joe'],\n",
        "        'Age':[65, 43 ],\n",
        "        'Address':['Monge', 'Chatelet'],\n",
        "        'Country' : ['France', 'France'],\n",
        "        'Qualification':[ 'MCA', 'Phd']}\n",
        " \n",
        "# Convert the dictionary into DataFrame and call it df2\n",
        "\n",
        "# your code here ...\n"
      ],
      "metadata": {
        "id": "opNOR0hXTGxa"
      },
      "execution_count": null,
      "outputs": []
    },
    {
      "cell_type": "code",
      "source": [
        "#@title Display Solution 16\n",
        "\n",
        "# Define a dictionary containing employee data\n",
        "data = {'Name':['Matt', 'Joe'],\n",
        "        'Age':[65, 43 ],\n",
        "        'Address':['Monge', 'Chatelet'],\n",
        "        'Country' : ['France', 'France'],\n",
        "        'Qualification':[ 'MCA', 'Phd']}\n",
        "\n",
        "# Load the data into DataFrame and call it df2\n",
        "df2 = pd.DataFrame(data)\n",
        "\n",
        "# visualize the new df2\n",
        "df2"
      ],
      "metadata": {
        "id": "l126o6SfTT6m",
        "cellView": "form"
      },
      "execution_count": null,
      "outputs": []
    },
    {
      "cell_type": "markdown",
      "source": [
        "### Assignment 17"
      ],
      "metadata": {
        "id": "5I9lcuaJ5u1D"
      }
    },
    {
      "cell_type": "code",
      "source": [
        "# joinf df1 and df2 into a new dataframe df\n",
        "\n",
        "# ...keep in mind that the 2 dataframes are not structured in the same manner\n",
        "# ...for convinience, visualize the 2 df in diferent code cells, in order to compare them..\n",
        "\n",
        "# ...first, you'll need to harmonise the dfs structure, so we reset the index of df2 (by specifying that column Name should be used as an index)\n",
        "\n",
        "# your code here\n"
      ],
      "metadata": {
        "id": "NCmjJSWLT6HR"
      },
      "execution_count": null,
      "outputs": []
    },
    {
      "cell_type": "code",
      "source": [
        "#@title Display Solution 17\n",
        "\n",
        "\n",
        "# joinf df1 and df2 into a new dataframe df\n",
        "\n",
        "# keep in mind that the 2 dataframes are not structured in the same manner\n",
        "# df1 uses as index the column Name\n",
        "# df2 don't use column Name as a index ==> .set_index('Name)\n",
        "\n",
        "# ...for convinience, visualize the 2 df in diferent code cells, in order to compare them..\n",
        "\n",
        "# first, we need to harmonise the dfs structure, so we reset the index of df2(by specifying that column Name should be used as an index)\n",
        "df2 = df2.set_index('Name')\n",
        "\n",
        "# now you're ready to join the 2 dfs\n",
        "df = pd.concat([df1, df2]) # it will use the column names  to join by\n",
        "\n",
        "df"
      ],
      "metadata": {
        "id": "x09xQH3yUphM",
        "cellView": "form"
      },
      "execution_count": null,
      "outputs": []
    },
    {
      "cell_type": "markdown",
      "source": [
        "### Assignment 18"
      ],
      "metadata": {
        "id": "8DXxKkwy5xG2"
      }
    },
    {
      "cell_type": "code",
      "source": [
        "# check the dimension of the new joined df\n",
        "\n",
        "# your code here"
      ],
      "metadata": {
        "id": "3SMJFg39T7_4"
      },
      "execution_count": null,
      "outputs": []
    },
    {
      "cell_type": "code",
      "source": [
        "#@title Display Solution 18\n",
        "\n",
        "# check the dimension of the new joined df\n",
        "\n",
        "df.shape"
      ],
      "metadata": {
        "id": "GhrbfHJHUww_",
        "cellView": "form"
      },
      "execution_count": null,
      "outputs": []
    },
    {
      "cell_type": "markdown",
      "source": [
        "### Assignment 19"
      ],
      "metadata": {
        "id": "3vXfYcdo5zC3"
      }
    },
    {
      "cell_type": "code",
      "source": [
        "#### Modify df2 ----------\n",
        "\n",
        "# add a new row ['Calib', '34', 'Monge', 'France', 'Phd'] ==> (with .loc)\n",
        "# check again the dimensions of the modified df\n",
        "\n",
        "# your code here ...\n"
      ],
      "metadata": {
        "id": "AfW5lBUGUCYL"
      },
      "execution_count": null,
      "outputs": []
    },
    {
      "cell_type": "code",
      "source": [
        "#@title Display Solution 19\n",
        "\n",
        "# add a new row ['Calib', '34', 'Monge', 'Phd']\n",
        "\n",
        "df.loc['Calib']= ['34', 'Monge', 'France', 'Phd']\n",
        "\n",
        "# check again the dimensions of the modified df\n",
        "print(df.shape)\n",
        "\n",
        "df\n",
        "\n"
      ],
      "metadata": {
        "id": "U7MKISr_U1Y3",
        "cellView": "form"
      },
      "execution_count": null,
      "outputs": []
    },
    {
      "cell_type": "markdown",
      "source": [
        "### Assignment 20"
      ],
      "metadata": {
        "id": "-g0og0kc51K_"
      }
    },
    {
      "cell_type": "code",
      "source": [
        "# Matt has changed the address from 'Monge' to 'LA Défense' or 'La Défense' \n",
        "\n",
        "# update the dataframe accordingly using  .iloc method for 'LA Défense' \n",
        "## ==> you'll need to locate the indices (numeric) where: row = 'Matt', and column='Address'\n",
        "# visualize the output after update\n",
        "\n",
        "# and using  .loc method for 'La Defense'\n",
        "# visualize the output after update\n",
        "\n",
        "# your code here..."
      ],
      "metadata": {
        "id": "dX0NWudMUI6u"
      },
      "execution_count": null,
      "outputs": []
    },
    {
      "cell_type": "code",
      "source": [
        "#@title Display Solution 20\n",
        "\n",
        "# update the dataframe accordingly using  .iloc method for 'LA Defense'\n",
        "\n",
        "df.iloc[4,1] = 'LA Defense'\n",
        "# check if you got the wanted output\n",
        "print(df)\n",
        "print('')\n",
        "\n",
        "# and using  .loc method for 'La Defense'\n",
        "df.loc['Matt', 'Address']= 'La Defense'\n",
        "# check if you got the wanted output\n",
        "print(df)\n",
        "print('')\n"
      ],
      "metadata": {
        "id": "ZmKwLtmsU3OH",
        "cellView": "form"
      },
      "execution_count": null,
      "outputs": []
    },
    {
      "cell_type": "markdown",
      "source": [
        "### Explore df, convert columns Dtype"
      ],
      "metadata": {
        "id": "YJRceUHbUTcD"
      }
    },
    {
      "cell_type": "markdown",
      "source": [
        "### Assignment 21"
      ],
      "metadata": {
        "id": "7l5HAkhU53n6"
      }
    },
    {
      "cell_type": "code",
      "source": [
        "#### Explore df ------------\n",
        "\n",
        "# what data types are the columns ==> use .info() method\n",
        "# convert Age into a numeric Dtype\n",
        "\n",
        "# your code here\n"
      ],
      "metadata": {
        "id": "mXeSU9a5UN_3"
      },
      "execution_count": null,
      "outputs": []
    },
    {
      "cell_type": "code",
      "source": [
        "#@title Display Solution 21\n",
        "\n",
        "# general info of df ==> have a closer look at \"Age\" column ..\n",
        "\n",
        "df.info()"
      ],
      "metadata": {
        "id": "9ksYhRnGU5NI",
        "cellView": "form"
      },
      "execution_count": null,
      "outputs": []
    },
    {
      "cell_type": "code",
      "source": [
        "#@title Display Solution 21.1\n",
        "\n",
        "# when executing df.info() you can see that the column 'Age' has a data type (Dtype) as 'object' (think of it as a string)\n",
        "\n",
        "# if in the future we'll want to do some calculations with column 'Age' we need to to convert it to a numeric data type\n",
        "# convert column of a DataFrame\n",
        "df[\"Age\"] = pd.to_numeric(df[\"Age\"])\n",
        "\n",
        "# check again the Dtypes\n",
        "df.info()"
      ],
      "metadata": {
        "cellView": "form",
        "id": "Uh4-6hjOjamJ"
      },
      "execution_count": null,
      "outputs": []
    },
    {
      "cell_type": "markdown",
      "source": [
        "### Groupby"
      ],
      "metadata": {
        "id": "YTUB1nbqVBKD"
      }
    },
    {
      "cell_type": "markdown",
      "source": [
        "### Assignment 22"
      ],
      "metadata": {
        "id": "qKR4SypJ57-_"
      }
    },
    {
      "cell_type": "code",
      "source": [
        "#### Groupby -----------\n",
        "\n",
        "# what's the average age of people by Qualification  ==> use .groupby method\n",
        "\n",
        "# your code here\n"
      ],
      "metadata": {
        "id": "JnFE8KS9UYTl"
      },
      "execution_count": null,
      "outputs": []
    },
    {
      "cell_type": "code",
      "source": [
        "#@title Display Solution 22\n",
        "\n",
        "#check the mean age by city\n",
        "df.groupby(by=[\"Qualification\"])['Age'].mean()"
      ],
      "metadata": {
        "id": "lEDeBft9U8o4",
        "cellView": "form"
      },
      "execution_count": null,
      "outputs": []
    },
    {
      "cell_type": "markdown",
      "source": [
        "### Assignment 23"
      ],
      "metadata": {
        "id": "79NlF34ykr0u"
      }
    },
    {
      "cell_type": "code",
      "source": [
        "#### Groupby -----------\n",
        "\n",
        "# what's the average age of people that have the  'Qualification' == 'Phd' \n",
        "# you can do it in 2 steps...\n",
        "\n",
        "# step 1\n",
        "\n",
        "# first, you'll nedd to filter the data of those that have a 'Phd' and save it into a new dataframed called 'filtered'\n",
        "# visualize the new df 'filtered'\n",
        "\n",
        "# step 2\n",
        "\n",
        "# then use .groupby method on the filter data\n",
        "\n",
        "# your code here"
      ],
      "metadata": {
        "id": "mFwkTdCYkx-a"
      },
      "execution_count": null,
      "outputs": []
    },
    {
      "cell_type": "code",
      "source": [
        "#@title Display Solution 23.1\n",
        "\n",
        "filtered = df[df['Qualification']== 'Phd']\n",
        "filtered"
      ],
      "metadata": {
        "id": "hCIFkzT4kyi9",
        "cellView": "form"
      },
      "execution_count": null,
      "outputs": []
    },
    {
      "cell_type": "code",
      "source": [
        "#@title Display Solution 23.2\n",
        "\n",
        "# step 2....\n",
        "\n",
        "# use .groupby method on the filter data\n",
        "filtered.groupby(by=[\"Qualification\"])['Age'].mean()"
      ],
      "metadata": {
        "id": "s9f9XPQQmivt",
        "cellView": "form"
      },
      "execution_count": null,
      "outputs": []
    },
    {
      "cell_type": "markdown",
      "source": [
        "### Pivot"
      ],
      "metadata": {
        "id": "yT_U3i53VRoQ"
      }
    },
    {
      "cell_type": "markdown",
      "source": [
        "### Assignment 24"
      ],
      "metadata": {
        "id": "oOOIK5vA5-vH"
      }
    },
    {
      "cell_type": "code",
      "source": [
        "#### Pivot -----------\n",
        "\n",
        "# create a pivot table called 'pivot_table'\n",
        "#  where rows are the Adresses, \n",
        "#       columns their Qualifications, \n",
        "#                and values in the pivot table is the mean age\n",
        "\n",
        "## hint\n",
        "# first import numpy package as np as below\n",
        "\n",
        "import numpy as np\n",
        "\n",
        "# use pd.pivot_table() with necessary arguments\n",
        "\n",
        "# your code here ..."
      ],
      "metadata": {
        "id": "c4u4Z8dDz-pI"
      },
      "execution_count": null,
      "outputs": []
    },
    {
      "cell_type": "code",
      "source": [
        "#@title Display Solution 24\n",
        "\n",
        "pivot_table = pd.pivot_table(df, # data to pivot\n",
        "                       # where rows are the Addresses and names\n",
        "                       index=['Address'], # Grouper, Keys to group by on the pivot table index.\n",
        "                       # columns their Qualification\n",
        "                       columns='Qualification', # column to aggregate\n",
        "                       # and values in the pivot table is the  age\n",
        "                       values=['Age'], # Keys to group by on the pivot table column., will be the columns value\n",
        "                       # and you want the avg of the value age (meaning the aggregation function ==> mean)\n",
        "                       aggfunc=np.mean)# the aggregation function\n",
        "\n",
        "pivot_table"
      ],
      "metadata": {
        "id": "rSZFcb0PVAKc",
        "cellView": "form"
      },
      "execution_count": null,
      "outputs": []
    },
    {
      "cell_type": "markdown",
      "source": [
        "### Assignment 25"
      ],
      "metadata": {
        "id": "2jzUV7gaVuf7"
      }
    },
    {
      "cell_type": "code",
      "source": [
        "#### Pivot -----------\n",
        "\n",
        "# create a pivot table called 'pivot_table'\n",
        "#  where rows are the Country AND Address, \n",
        "#       columns their qualifications, \n",
        "#                and values in the pivot table is the mean age\n",
        "\n",
        "## hint\n",
        "# first import numpy package as np as below\n",
        "\n",
        "import numpy as np\n",
        "\n",
        "# use pd.pivot_table() with necessary arguments\n",
        "\n",
        "# your code here ..."
      ],
      "metadata": {
        "id": "P6aNEPG0skj1"
      },
      "execution_count": null,
      "outputs": []
    },
    {
      "cell_type": "code",
      "source": [
        "df"
      ],
      "metadata": {
        "id": "-sWJOqdlWHi6"
      },
      "execution_count": null,
      "outputs": []
    },
    {
      "cell_type": "code",
      "source": [
        "#@title Display Solution 25\n",
        "\n",
        "pivot_table = pd.pivot_table(df, # data to pivot\n",
        "                       # where rows are the qualifications and names\n",
        "                       index=['Country', 'Address'], # Grouper, Keys to group by on the pivot table index.\n",
        "                       # columns their Addresses\n",
        "                       columns='Qualification', # column to aggregate\n",
        "                       # and values in the pivot table is the  age\n",
        "                       values=['Age'], # Keys to group by on the pivot table column., will be the columns value\n",
        "                       # and you want the avg of the value age (meaning the aggregation function ==> mean)\n",
        "                       aggfunc=np.mean)# the aggregation function\n",
        "\n",
        "pivot_table"
      ],
      "metadata": {
        "id": "6sfyXgaxsPQv",
        "cellView": "form"
      },
      "execution_count": null,
      "outputs": []
    },
    {
      "cell_type": "markdown",
      "metadata": {
        "id": "6eKEbOwah5gZ"
      },
      "source": [
        "# 11 Loops"
      ]
    },
    {
      "cell_type": "markdown",
      "source": [
        "##  FOR"
      ],
      "metadata": {
        "id": "Ib4sbLHfdskF"
      }
    },
    {
      "cell_type": "markdown",
      "source": [
        "A **for** loop is used for iterating over a sequence (that is either a list, a tuple, a dictionary, a set, or a string).\n",
        "\n",
        "With the FOR loop we can execute a set of statements, once for each item in a list, tuple, set etc"
      ],
      "metadata": {
        "id": "cTJf_Fr7eLQe"
      }
    },
    {
      "cell_type": "code",
      "execution_count": null,
      "metadata": {
        "id": "NZ0yzBqufPxX"
      },
      "outputs": [],
      "source": [
        "# visualize code execution\n",
        "# https://pythontutor.com/python-debugger.html\n",
        "\n",
        "# create a list of groceries\n",
        "groceries = ['Apple','Orange', 'Banana', 'Apple' ,'Kiwi', 'Apple']\n",
        "\n",
        "groceries"
      ]
    },
    {
      "cell_type": "markdown",
      "source": [
        "the syntax of a 'for loop':\n",
        "\n",
        "\n",
        "**for** element **in** list:   \n",
        " _____*do something *\n",
        "\n",
        "It's like saying : for each element in the list, do something with it\n",
        "\n",
        "\n",
        "\n",
        "\n",
        "\n"
      ],
      "metadata": {
        "id": "W8OhPgNtfSP1"
      }
    },
    {
      "cell_type": "code",
      "source": [
        "# iterate through list to access/print each element of the list\n",
        "for item in groceries:\n",
        "    print(item)"
      ],
      "metadata": {
        "id": "F54uHz-1euAL"
      },
      "execution_count": null,
      "outputs": []
    },
    {
      "cell_type": "code",
      "source": [
        "# we can iterate with condition\n",
        "# we want to iterate our list, and to print out only 'Apple'\n",
        "\n",
        "# if element == 'Apple' then...\n",
        "# print out the value of the element and message '==> This is an apple'\n",
        "# else, print out the value of the element and the message '==> This is NOT an apple'\n",
        "\n",
        "for fruit in groceries:\n",
        "  if fruit == 'Apple':\n",
        "      print(fruit, '== > This is an apple')\n",
        "  else:\n",
        "    print(fruit, '==> This is NOT an apple')\n"
      ],
      "metadata": {
        "id": "giCEv6vFuYl6"
      },
      "execution_count": null,
      "outputs": []
    },
    {
      "cell_type": "code",
      "source": [
        "# we can iterate with condition through numeric values\n",
        "\n",
        "numbers = [-2, 4, -1, 8, 10]\n",
        "\n",
        "# if element is positive then...\n",
        "# devide each element in the list by 2\n",
        "# else, print that this number is not positive\n",
        "\n",
        "for number in numbers:\n",
        "  if number > 0:\n",
        "      print(number/2)\n",
        "  else:\n",
        "    print('this number is not positive')"
      ],
      "metadata": {
        "id": "cQs4Oqw7hpnV"
      },
      "execution_count": null,
      "outputs": []
    },
    {
      "cell_type": "code",
      "source": [
        "# we can iterate through a chain of strings\n",
        "\n",
        "string = 'ilovepython'\n",
        "\n",
        "# Python will think of this string as a list that contains the characters of the string...\n",
        "\n",
        "for letter in string:\n",
        "  print(letter)\n"
      ],
      "metadata": {
        "id": "TyK4fmiZuIiK"
      },
      "execution_count": null,
      "outputs": []
    },
    {
      "cell_type": "code",
      "source": [
        "# iterate through a chain of strings and do something (with condition...)\n",
        "\n",
        "vowels = ['a', 'e', 'i', 'o', 'u']\n",
        "\n",
        "# iterate through the string 'ilovepython' and if the letter is a vowel then print it in CAPITALS with function upper()\n",
        "for letter in string:\n",
        "  if letter in vowels:\n",
        "    print(letter.upper())\n",
        "  else:\n",
        "    print(letter)"
      ],
      "metadata": {
        "id": "uYNFXnikubKg"
      },
      "execution_count": null,
      "outputs": []
    },
    {
      "cell_type": "markdown",
      "source": [
        "Nested LIsts"
      ],
      "metadata": {
        "id": "tf-3sMEHuFzy"
      }
    },
    {
      "cell_type": "code",
      "execution_count": null,
      "metadata": {
        "id": "69oherPCiP-B"
      },
      "outputs": [],
      "source": [
        "# iterate through nested lists\n",
        "\n",
        "fruit_list = [['Apple', 4],['Orange', 2],['Banana', 6],['Kiwi', 5], ['Apple', 6], ['Apple', 12]]\n",
        "fruit_list"
      ]
    },
    {
      "cell_type": "code",
      "execution_count": null,
      "metadata": {
        "id": "elKUPogujRdk"
      },
      "outputs": [],
      "source": [
        "# access 1 element from the second item (\"2\")\n",
        "fruit_list[1][1]"
      ]
    },
    {
      "cell_type": "code",
      "source": [
        "# return 'Banana:\n",
        "\n",
        "# fruit_list[???] # the element  ['Banana', 6]\n",
        "\n",
        "fruit_list[2][0] # only the sub_element 'Banana'"
      ],
      "metadata": {
        "id": "H89NzsWdjo1E"
      },
      "execution_count": null,
      "outputs": []
    },
    {
      "cell_type": "code",
      "execution_count": null,
      "metadata": {
        "id": "bH79QaIvjKGF"
      },
      "outputs": [],
      "source": [
        "# iterate through a nested list\n",
        "# here an element is a list, with 2 items each ==> the fruit and the quantity\n",
        "\n",
        "for element in fruit_list:\n",
        "    print(element)"
      ]
    },
    {
      "cell_type": "code",
      "source": [
        "# iterate through a nested list\n",
        "# and to access the quantity of each fruit (==> the fruite has index 0, and quntity has index 1)\n",
        "\n",
        "for element in fruit_list:\n",
        "    print(element[1])"
      ],
      "metadata": {
        "id": "TEbYTy9xbgdP"
      },
      "execution_count": null,
      "outputs": []
    },
    {
      "cell_type": "code",
      "source": [
        "# iterate through a list with condition..\n",
        "\n",
        "# we want to access only fruits that are Apple\n",
        "\n",
        "# iterate the fruit_list\n",
        "for sublist in fruit_list: # for each element from the fruit_list called \"sublist\"\n",
        "  if sublist[0]== 'Apple': # if 1st element from the list (==> i.e index=0)\n",
        "    print(sublist) # print the sublist"
      ],
      "metadata": {
        "id": "hxPWeL8Gc3nw"
      },
      "execution_count": null,
      "outputs": []
    },
    {
      "cell_type": "code",
      "execution_count": null,
      "metadata": {
        "id": "S5EUd2mRjKxx"
      },
      "outputs": [],
      "source": [
        "# sometimes you'll need to access each element in a nested list and store them in a flat list (regular list) \n",
        "\n",
        "# iterate through nested lists\n",
        "# accesst each element and store it as a flat list\n",
        "# the expected output: ['Apple', 4, 'Orange', 2, 'Banana', 6, 'Kiwi', 5]\n",
        "\n",
        "# create a copy of fruit_list called copy_list wtth copy() function\n",
        "\n",
        "copy_list = fruit_list.copy()\n",
        "print(copy_list)\n",
        "print('')"
      ]
    },
    {
      "cell_type": "code",
      "source": [
        "# first, create an empty list called 'flat list' , where we'll store all elements\n",
        "\n",
        "flat_list = [] # empty list\n",
        "print(flat_list)\n",
        "print('')"
      ],
      "metadata": {
        "id": "I4lqcDZd52P7"
      },
      "execution_count": null,
      "outputs": []
    },
    {
      "cell_type": "code",
      "source": [
        "# we will iterate the list (copy_list), by accessing the sublist from this list\n",
        "# we wil ieterate through the sublist, to access each item form the sublist\n",
        "\n",
        "for sublist in copy_list: # iterate the sublists from the list\n",
        "    print(sublist) # at each iteration print the sublist\n",
        "    for item in sublist:   # then iterate through the sublist to acces each item in the sublist     \n",
        "        flat_list.append(item) # the append the iterated item to the flat_list\n",
        "\n",
        "print('')\n",
        "print(\"the final flat_list will look like: \", flat_list )"
      ],
      "metadata": {
        "id": "Ebeen44l58jq"
      },
      "execution_count": null,
      "outputs": []
    },
    {
      "cell_type": "markdown",
      "source": [
        "## WHILE"
      ],
      "metadata": {
        "id": "t1slvTG7dvpV"
      }
    },
    {
      "cell_type": "markdown",
      "source": [
        "With the while loop we can execute a set of statements as long as a condition is true"
      ],
      "metadata": {
        "id": "5ZUMaT2ise3T"
      }
    },
    {
      "cell_type": "code",
      "source": [
        "# as long i is less then 10, print i\n",
        "\n",
        "i = 1\n",
        "while i < 10:\n",
        "  print(i)\n",
        "  i += 1 # increment by 1"
      ],
      "metadata": {
        "id": "OO_qBHHor_M2"
      },
      "execution_count": null,
      "outputs": []
    },
    {
      "cell_type": "code",
      "source": [
        "# exit when i gets to 4\n",
        "\n",
        "i = 1\n",
        "while i < 10:\n",
        "  print(i)\n",
        "  if i == 4:\n",
        "    break\n",
        "  i += 1"
      ],
      "metadata": {
        "id": "XP6EspmVwtKa"
      },
      "execution_count": null,
      "outputs": []
    },
    {
      "cell_type": "markdown",
      "source": [
        "## Loops Practice ***"
      ],
      "metadata": {
        "id": "zfVPNcX9xCiF"
      }
    },
    {
      "cell_type": "markdown",
      "source": [
        "### FOR loops"
      ],
      "metadata": {
        "id": "fy0CWwmGwKnS"
      }
    },
    {
      "cell_type": "markdown",
      "source": [
        "You can use the following link visualize the code execution of the workflow\n",
        "https://pythontutor.com/python-debugger.html"
      ],
      "metadata": {
        "id": "vcQEKYGaze6e"
      }
    },
    {
      "cell_type": "markdown",
      "source": [
        "#### Assignment 1"
      ],
      "metadata": {
        "id": "nCns74RCwoso"
      }
    },
    {
      "cell_type": "code",
      "source": [
        "# Create a list \"departments\"\n",
        "\n",
        "departments = [\"Finance\", \"Human Ressources\", \"Finance\", \"Collection\", \"IT\", 'Finance']\n",
        "\n",
        "# write a code (using FOR loop),  to iterate through the list 'departments'\n",
        "\n",
        "# ...steps ...\n",
        "# create the list 'departments' \n",
        "# iterate through the list 'departments\n",
        "# and print out each element called 'department' of this list\n",
        "\n",
        "# your code here...."
      ],
      "metadata": {
        "id": "gnX60iQxy8IG"
      },
      "execution_count": null,
      "outputs": []
    },
    {
      "cell_type": "code",
      "source": [
        "#@title Display Solution 1\n",
        "\n",
        "departments = [\"Finance\", \"Human Ressources\", \"Finance\", \"Collection\", \"IT\", 'Finance']\n",
        "\n",
        "for department in departments:\n",
        "  print(department)\n",
        "\n"
      ],
      "metadata": {
        "id": "3kb-E6ByxVgH",
        "cellView": "form"
      },
      "execution_count": null,
      "outputs": []
    },
    {
      "cell_type": "markdown",
      "source": [
        "#### Assignment 2"
      ],
      "metadata": {
        "id": "JLPM8w_KyPFF"
      }
    },
    {
      "cell_type": "code",
      "source": [
        "# if the element \"department\" is 'Finance'... then...\n",
        "# print out the value of this element but in CAPITALS (using the .upper() method) \n",
        "\n",
        "# your code here ...\n"
      ],
      "metadata": {
        "id": "Cqu4f-p4yKuf"
      },
      "execution_count": null,
      "outputs": []
    },
    {
      "cell_type": "code",
      "source": [
        "#@title Display Solution 2\n",
        "\n",
        "for department in departments:\n",
        "  if department == 'Finance':\n",
        "    print(department.upper())"
      ],
      "metadata": {
        "id": "at0YH29izCdy",
        "cellView": "form"
      },
      "execution_count": null,
      "outputs": []
    },
    {
      "cell_type": "markdown",
      "source": [
        "#### Assignment 3"
      ],
      "metadata": {
        "id": "1s5KCUUG0KFu"
      }
    },
    {
      "cell_type": "code",
      "source": [
        "# iterate through nested lists ----\n",
        "\n",
        "# create a nested list \"departments_staff\" \n",
        "# where you'd like to store data of departments name\n",
        "# and the number of people in each department\n",
        "\n",
        "departments_staff = [['Finance', 14],['IT', 4],['Human Ressources', 6],['Collection', 2], ['Finance', 6]]\n",
        "\n",
        "# visualize the created list"
      ],
      "metadata": {
        "id": "EEsNC6uN0QYz"
      },
      "execution_count": null,
      "outputs": []
    },
    {
      "cell_type": "code",
      "source": [
        "#@title Display Solution 3\n",
        "\n",
        "# create a nested list \"departments_staff\"\n",
        "departments_staff = [['Finance', 14],['IT', 4],['Human Ressources', 6],['Collection', 2], ['Finance', 6]]\n",
        "\n",
        "# visualize the created list\n",
        "departments_staff"
      ],
      "metadata": {
        "id": "TzyMM-mc0TMt",
        "cellView": "form"
      },
      "execution_count": null,
      "outputs": []
    },
    {
      "cell_type": "markdown",
      "source": [
        "#### Assignment 4"
      ],
      "metadata": {
        "id": "aD6EUED51lfe"
      }
    },
    {
      "cell_type": "code",
      "source": [
        "# access to the element that concerns 'IT'\n",
        "# and check out the number of persons in 'IT' department\n",
        "\n",
        "# your code here...\n"
      ],
      "metadata": {
        "id": "kw5h_UrX1pon"
      },
      "execution_count": null,
      "outputs": []
    },
    {
      "cell_type": "code",
      "source": [
        "#@title Display Solution 4\n",
        "\n",
        "print('The number of persons in IT department: ',  departments_staff[1][1])"
      ],
      "metadata": {
        "cellView": "form",
        "id": "6VJAhfMa1qyy"
      },
      "execution_count": null,
      "outputs": []
    },
    {
      "cell_type": "markdown",
      "source": [
        "#### Assignment 5"
      ],
      "metadata": {
        "id": "dNLnbHYTkvwv"
      }
    },
    {
      "cell_type": "code",
      "source": [
        "# iterate through a list with condition..\n",
        "\n",
        "# how many Bananas do we have in fruit_list ? \n",
        "# ...use FOR loop to access the sublist that have \"Banana\" in it ..\n",
        "\n",
        "# your code here..."
      ],
      "metadata": {
        "id": "FIoz8ewWk0ml"
      },
      "execution_count": null,
      "outputs": []
    },
    {
      "cell_type": "code",
      "source": [
        "#@title Display Solution 5\n",
        "\n",
        "# iterate the fruit_list\n",
        "for sublist in fruit_list: # for each element from the fruit_list called \"sublist\"\n",
        "  if sublist[0]== 'Banana': # if 1st element from the list (==> i.e index=0)\n",
        "    print(sublist[1]) # print the sublist"
      ],
      "metadata": {
        "cellView": "form",
        "id": "JbUE4dQfk2Do"
      },
      "execution_count": null,
      "outputs": []
    },
    {
      "cell_type": "markdown",
      "source": [
        "#### Assignment 6"
      ],
      "metadata": {
        "id": "0WXiwvSa2fJh"
      }
    },
    {
      "cell_type": "code",
      "source": [
        "# create a copy of departments_staff called copy_list wtth copy() function\n",
        "\n",
        "copy_list = departments_staff.copy()\n",
        "print(copy_list)\n",
        "print('')\n",
        "\n",
        "# create an empty list where we'll store all elements and print it out\n",
        "\n",
        "flat_list = [] # empty list\n",
        "\n",
        "# iterate throught the nested list with FOR loop to access the sublists\n",
        "# ....access the items from the sublist\n",
        "# ....and then append this items to the flat_list\n",
        "\n",
        "# visualise the obtained flat list"
      ],
      "metadata": {
        "id": "uU0aIN8u2kS0"
      },
      "execution_count": null,
      "outputs": []
    },
    {
      "cell_type": "code",
      "source": [
        "#@title Display Solution 6\n",
        "\n",
        "# creat an empty list where we'll store all elements\n",
        "flat_list = [] # empty list\n",
        "print(flat_list)\n",
        "print('')\n",
        "\n",
        "# iterate throught the nested list with FOR loop to access the sublists\n",
        "for sublist in copy_list: # FOR loop to access the sublists\n",
        "    for item in sublist: # ....access the items from the sublist\n",
        "        flat_list.append(item) # ....and then append this items to the flat_list\n",
        "\n",
        "# visualise the obtained flat list\n",
        "flat_list"
      ],
      "metadata": {
        "cellView": "form",
        "id": "QPP7Clj4jjT5"
      },
      "execution_count": null,
      "outputs": []
    },
    {
      "cell_type": "markdown",
      "metadata": {
        "id": "et9L2zSBIg2B"
      },
      "source": [
        "# 12.&nbsp;Functions"
      ]
    },
    {
      "cell_type": "markdown",
      "source": [
        "A function is a block of code which only runs when it is called.\n",
        "\n",
        "You can pass data, known as parameters, into a function.\n",
        "\n",
        "A function can return data as a result."
      ],
      "metadata": {
        "id": "_SRANGfNyX38"
      }
    },
    {
      "cell_type": "markdown",
      "source": [
        "More about functions https://www.w3schools.com/python/python_functions.asp"
      ],
      "metadata": {
        "id": "WgDA6MVmyYya"
      }
    },
    {
      "cell_type": "code",
      "execution_count": null,
      "metadata": {
        "id": "siK6KnwfIjEG"
      },
      "outputs": [],
      "source": [
        "# create a function called operation\n",
        "# the syntax of a function is the keyword def, name of the function, the parameters to use, and the action of the function\n",
        "\n",
        "# write a function operation, when given the parameter x, would add + 2.6 to it, and then devided by 5.5\n",
        "# store the output int a variable \"result\"\n",
        "# and print out the output\n",
        "\n",
        "def operation(x):\n",
        "    result = (x + 2.6)/5.5\n",
        "    print(round(result, 2))\n",
        "\n",
        "\n",
        "# try your new function by giving values to arguments\n",
        "operation(10)\n"
      ]
    },
    {
      "cell_type": "markdown",
      "metadata": {
        "id": "gkowOQa65cmv"
      },
      "source": [
        "**Body Mass Indicator ==> BMI**"
      ]
    },
    {
      "cell_type": "code",
      "execution_count": null,
      "metadata": {
        "id": "2CcJwiOOJ2vV"
      },
      "outputs": [],
      "source": [
        "# compute body fat\n",
        "\n",
        "height = 66.2 # in inches (devide cm by 2,54)\n",
        "weight = 147.7 # in pounds (multiply kg by 2,205))\n",
        "\n",
        "# CALCULATE YOUR BODY MASS INDEX (BMI)\n",
        "bmi = round((weight/(height**2)  * 703), 2) # conversion factor of 703\n",
        "bmi"
      ]
    },
    {
      "cell_type": "code",
      "execution_count": null,
      "metadata": {
        "id": "9XDQgGcy46L-"
      },
      "outputs": [],
      "source": [
        "# create a function called bmi that would automatically compte the body fat \n",
        "\n",
        "# arguments needed to be passed during the function call : height and weight\n",
        "# the function will remeber the order of the arguments=>=  1st: height, 2nd : weight\n",
        "\n",
        "def bmi(height,weight):\n",
        "  bmi= round((weight/(height**2)  * 703), 2) \n",
        "  print('your Body Mass Index is ', round(bmi, 2))"
      ]
    },
    {
      "cell_type": "code",
      "execution_count": null,
      "metadata": {
        "id": "jfiI_Z8H5STy"
      },
      "outputs": [],
      "source": [
        "# when will call the function \"bmi\"...\n",
        "# in parathesis specify the arguments : height and weight with their respective values..\n",
        "\n",
        "\n",
        "# try your new function by giving values to arguments\n",
        "bmi(height=65,weight=140)"
      ]
    },
    {
      "cell_type": "code",
      "execution_count": null,
      "metadata": {
        "id": "zePBBlC15M6w"
      },
      "outputs": [],
      "source": [
        "# if we don't write the arguments name ....\n",
        "# python will understand that 1st '60' is the height\n",
        "# and 2nd '140' is the weight\n",
        "\n",
        "\n",
        "# try your new function by giving values to arguments\n",
        "bmi(65, 140)"
      ]
    },
    {
      "cell_type": "markdown",
      "metadata": {
        "id": "Vhx3iKza5thE"
      },
      "source": [
        "**Body Fat Percentage (BFP) for women**"
      ]
    },
    {
      "cell_type": "code",
      "execution_count": null,
      "metadata": {
        "id": "UgzoGwG5LU8v"
      },
      "outputs": [],
      "source": [
        "# let's create a more specific function \"bfp_women\" ..\n",
        "# where we'll return  the body fat percentage for women\n",
        "# the formula to compute the the bfp for women : (<<coefficient>> * bmi) + (<<coefficient>> * age) - 5.4\n",
        "# the metrics that are taken into account are the bmi and the age\n",
        "# and the respective coefficients 1.20, 0.23 and - 5.4 use to assess the bfp for women\n",
        "\n",
        "# write the function called 'bfp_women' with keyword def (from definition...)\n",
        "def bfp_women(bmi, age): # give the argument of the function (here bmi and age)\n",
        "  body_fat_pct = (1.20 * bmi) + (0.23 * age) - 5.4 # the formula of bfp\n",
        "  print(body_fat_pct) # and ask to return the outcome of 'body_fat_pct'\n",
        "\n",
        "# try your new function by giving values to arguments\n",
        "bfp_women(bmi= 18.3, age = 30)"
      ]
    },
    {
      "cell_type": "markdown",
      "metadata": {
        "id": "UTVeRB4Q52MI"
      },
      "source": [
        "**BFP diagnos caclulator for women**\n"
      ]
    },
    {
      "cell_type": "markdown",
      "source": [
        "*To assess if the BFP is in the norms we will a calculater by writing a function called `bfp_women_diagnosis` that will do the diagnosis automatically for us*"
      ],
      "metadata": {
        "id": "EvrB5CsGr1w_"
      }
    },
    {
      "cell_type": "markdown",
      "metadata": {
        "id": "y9EleC05PeVJ"
      },
      "source": [
        "Women diagnosis:\n",
        "\n",
        "*For 20-40 yrs old range:*\n",
        ">  \n",
        "\n",
        "*   Underfat: under 21 %,\n",
        "*   Healthy: 21-33 %\n",
        "*   Overweight: 33-39 %\n",
        "*   Obese: Over 39 %\n",
        "\n",
        "\n",
        "*For 41-60 yrs old range:*\n",
        "\n",
        "> \n",
        "\n",
        "* Underfat: under 23 %\n",
        "* Healthy: 23-35 %\n",
        "* Overweight : 35-40 %\n",
        "* Obese: over 40 %\n",
        "\n",
        "\n",
        "*For 61-79 yrs old range:*\n",
        "\n",
        "> \n",
        "\n",
        "* Underfat: under 24 %\n",
        "* Healthy: 24-36 %\n",
        "* Overweight: 36-42%\n",
        "* Obese: over 42 %"
      ]
    },
    {
      "cell_type": "code",
      "execution_count": null,
      "metadata": {
        "id": "S-PEaNEiPypE"
      },
      "outputs": [],
      "source": [
        "def bfp_women_diagnosis(height, weight, age):\n",
        "  bmi = (weight/(height**2) ) * 703\n",
        "  body_fat_pct = round(((1.20 * bmi) + (0.23 * age) - 5.4),2)\n",
        "\n",
        "# For the women within the range 20-40 y.o.\n",
        "  if age <=40:\n",
        "    # within the range 20-40 y.o. if body_fat_pct under 21\n",
        "     if body_fat_pct < 21:\n",
        "        print('your BFP is: ',  body_fat_pct, \"you are underfat\")\n",
        "    # within the range 20-40 y.o. if body_fat_pct between 21 and 33\n",
        "     elif body_fat_pct >= 21 and body_fat_pct < 33:\n",
        "        print('your BFP is: ',  body_fat_pct, \"you are healthy\")\n",
        "    # within the range 20-40 y.o. if body_fat_pct between 33 and 40\n",
        "     elif body_fat_pct >= 33 and body_fat_pct < 40:\n",
        "        print('your BFP is: ',  body_fat_pct, \"you are overweight\")\n",
        "    # within the range 20-40 y.o. if body_fat_pct over 39\n",
        "     else : \n",
        "        print('your BFP  is: ',  body_fat_pct, \"you are obese\")\n",
        "\n",
        "# For the women within the range 41-60 y.o.\n",
        "  if age > 40 and age <=60:\n",
        "     if body_fat_pct < 23:\n",
        "        print('your BFP is: ',  body_fat_pct, \"you are underfat\")\n",
        "     elif body_fat_pct >= 23 and body_fat_pct < 35:\n",
        "        print('your BFP is: ',  body_fat_pct, \"you are healthy\")\n",
        "     elif body_fat_pct >= 35 and body_fat_pct < 40:\n",
        "        print('your BFP is: ',  body_fat_pct, \"you are overweight\")\n",
        "     else : \n",
        "        print('your BFP  is: ',  body_fat_pct, \"you are obese\")\n",
        "\n",
        "# For the women within the range 60-79 y.o.\n",
        "  if age > 60:\n",
        "     if body_fat_pct < 24:\n",
        "        print('your BFP is: ',  body_fat_pct, \"you are underfat\")\n",
        "     elif body_fat_pct >= 24 and body_fat_pct < 36:\n",
        "        print('your BFP  is: ',  body_fat_pct, \"you are healthy\")\n",
        "     elif body_fat_pct >= 36 and body_fat_pct < 42:\n",
        "        print('your BFP  is: ',  body_fat_pct, \"you are healthy\")\n",
        "     else : \n",
        "        print('your BFP  is: ',  body_fat_pct, \"you are obese\")\n"
      ]
    },
    {
      "cell_type": "code",
      "source": [
        "bfp_women_diagnosis(66.2, 147.7, 40)"
      ],
      "metadata": {
        "id": "k86oVLNUG3K7"
      },
      "execution_count": null,
      "outputs": []
    },
    {
      "cell_type": "markdown",
      "metadata": {
        "id": "m-kpbX8f6CJX"
      },
      "source": [
        "**Body Fat Percentage for men**"
      ]
    },
    {
      "cell_type": "code",
      "execution_count": null,
      "metadata": {
        "id": "nRRlQL81NdoY"
      },
      "outputs": [],
      "source": [
        "def bfp_men(height, weight, age):\n",
        "  bmi  = (weight/(height**2) ) * 703\n",
        "  body_fat_pct = (1.20 * bmi) + (0.23 * age) - 16.2\n",
        "  print(round(body_fat_pct,2))\n",
        "\n",
        "bfp_men(height= 69, weight= 170, age = 40)"
      ]
    },
    {
      "cell_type": "markdown",
      "metadata": {
        "id": "Y5i03TgBKlab"
      },
      "source": [
        "\n",
        "Here are the standard metrics for **Men** diagnosis:\n",
        "\n",
        "For 20-40 yrs old range : \n",
        "\n",
        "> \n",
        "* Underfat: under 8 %\n",
        "* Healthy: 8-19 %\n",
        "* Overweight: 19-25 %\n",
        "* Obese: over 25%\n",
        "\n",
        "For 41-60 yrs old range:\n",
        "\n",
        "> \n",
        "* Underfat: under 11%\n",
        "* Healthy: 11-22%\n",
        "* Overweight: 22-27%\n",
        "* Obese: over 27%\n",
        "\n",
        "For 61-79 yrs old range:\n",
        "\n",
        "> \n",
        "* Underfat: under 13%\n",
        "* Healthy: 13-25%\n",
        "* Overweight: 25-30%\n",
        "* Obese: over 30%\n",
        "\n",
        "\n",
        " \n",
        " "
      ]
    },
    {
      "cell_type": "markdown",
      "metadata": {
        "id": "sX_gBua_UoVP"
      },
      "source": [
        "## Function Practice ***"
      ]
    },
    {
      "cell_type": "markdown",
      "source": [
        "### Assignment 1"
      ],
      "metadata": {
        "id": "uC-T7pVVK7Ym"
      }
    },
    {
      "cell_type": "code",
      "source": [
        "# Write a function called \"bfp_men_diagnosis\" \n",
        "#  that would calculate the bfp for men and would do the diagnosis \n",
        "# please use use the stardard metrics specific to MEN from below\n",
        "\n",
        "''' def bfp_men_diagnosis(height, weight, age):  \n",
        "          bmi  = (weight/(height**2) ) * 703\n",
        "          body_fat_pct = (1.20 * bmi) + (0.23 * age) - 16.2\n",
        "          ... ---------...\n",
        "          ... ---------...\n",
        "          ....\n",
        "'''\n",
        "\n",
        "# try your new function \"bfp_men_diagnosis\"  by giving some values to function arguments \n",
        "# bfp_men_diagnosis(height = '...', weight = '...', age = '...') ==> it has to be in inches, pound\n",
        "\n",
        "# ...your code here"
      ],
      "metadata": {
        "id": "zUkdKsQgLNLX"
      },
      "execution_count": null,
      "outputs": []
    },
    {
      "cell_type": "code",
      "source": [
        "#@title Display Solution 1\n",
        "\n",
        "def bfp_men_diagnosis(height, weight, age):\n",
        "    bmi = (weight/(height**2) ) * 703\n",
        "    body_fat_pct = round((1.20 * bmi) + (0.23 * age) - 16.2, 2)\n",
        "\n",
        "   # For men within the range 20-40 y.o.\n",
        "    if age <=40:\n",
        "      # within the range 20-40 y.o. if body_fat_pct under 8\n",
        "        if body_fat_pct < 8:\n",
        "            print('your BFP is: ',  body_fat_pct, \"you are underfat\")\n",
        "      # within the range 20-40 y.o. if body_fat_pct is between 8 and 19\n",
        "        elif body_fat_pct >= 8 and body_fat_pct < 19:\n",
        "            print('your BFP is: ',  body_fat_pct, \"you are healthy\")\n",
        "        # within the range 20-40 y.o. if body_fat_pct is between 19 and 25\n",
        "        elif body_fat_pct >= 19 and body_fat_pct < 25:\n",
        "            print('your BFP is: ',  body_fat_pct, \"you are overweight\")\n",
        "        # within the range 20-40 y.o. if body_fat_pct over 25\n",
        "        else : \n",
        "            print('your BFP  is: ',  body_fat_pct, \"you are obese\")\n",
        "\n",
        "  # For men within the range 41-60 y.o.\n",
        "    if age > 40 and age <=60:\n",
        "        if body_fat_pct < 11:\n",
        "            print('your BFP is: ',  body_fat_pct, \"you are underfat\")\n",
        "        elif body_fat_pct >= 11 and body_fat_pct < 22:\n",
        "            print('your BFP is: ',  body_fat_pct, \"you are healthy\")\n",
        "        elif body_fat_pct >= 22 and body_fat_pct < 27:\n",
        "            print('your BFP is: ',  body_fat_pct, \"you are overweight\")\n",
        "        else : \n",
        "            print('your BFP  is: ',  body_fat_pct, \"you are obese\")\n",
        "\n",
        "    #  For men within the range 60-79 y.o.  \n",
        "    if age > 60:\n",
        "        if body_fat_pct < 13:\n",
        "            print('your BFP is: ',  body_fat_pct, \"you are underfat\")\n",
        "        elif body_fat_pct >= 13 and body_fat_pct < 25:\n",
        "            print('your BFP  is: ',  body_fat_pct, \"you are healthy\")\n",
        "        elif body_fat_pct >= 25 and body_fat_pct < 30:\n",
        "            print('your BFP  is: ',  body_fat_pct, \"you are healthy\")\n",
        "        else : \n",
        "            print('your BFP  is: ',  body_fat_pct, \"you are obese\")\n",
        "\n",
        "# try your new function \"bfp_men_diagnosis\"  by giving some values to function arguments \n",
        "bfp_men_diagnosis(height = 76, weight = 160, age = 50)"
      ],
      "metadata": {
        "cellView": "form",
        "id": "NCmmudaxIjjM"
      },
      "execution_count": null,
      "outputs": []
    },
    {
      "cell_type": "markdown",
      "source": [
        "### Assignment 2"
      ],
      "metadata": {
        "id": "bWyNfT6NKx7b"
      }
    },
    {
      "cell_type": "code",
      "execution_count": null,
      "metadata": {
        "id": "ftjDqT04USdQ"
      },
      "outputs": [],
      "source": [
        "# Write a function **bfp_diagnosis()**\n",
        "# that would calculate the bfp would do tha diagnosis, no matter women or men giving arguments (height= , weight= , age = , gender = )\n",
        "\n",
        "# use the function that you created previously << bfp_men_diagnosis(height, weight, age) >> IF gender == 'M'\n",
        "# use the function that you created previously << bfp_women_diagnosis(height, weight, age) >> if gender == 'F' (with 'ELIF'..)\n",
        "# 'ELSE\" ==> print('not specified')\n",
        "\n",
        "# try your new function bfp_diagnosis() by giving vlues to arguments (height= , weight= , age = , gender = )\n",
        "\n",
        "# your code here ..."
      ]
    },
    {
      "cell_type": "code",
      "source": [
        "#@title Display Solution 6\n",
        "\n",
        "\n",
        "def bfp_diagnosis(height, weight, age, gender):\n",
        "\n",
        "    if gender == 'M':        # IF gender == 'M'\n",
        "      # use the function that you created previously << bfp_men_diagnosis(height, weight, age) \n",
        "       print(bfp_men_diagnosis(height, weight, age))\n",
        "\n",
        "    elif gender == 'F':    # if gender == 'F'\n",
        "\n",
        "     # use the function that you created previously << bfp_women_diagnosis(height, weight, age) \n",
        "      print(bfp_women_diagnosis(height, weight, age))\n",
        "      \n",
        "    else:\n",
        "      print('not specified')\n",
        "\n",
        "\n",
        "\n",
        "# try your new function bfp_diagnosis() by giving vlues to arguments (height= , weight= , age = , gender = )\n",
        "bfp_diagnosis(66.2, 147.7, 40, gender= 'F')"
      ],
      "metadata": {
        "cellView": "form",
        "id": "j0EWW0o_IqDG"
      },
      "execution_count": null,
      "outputs": []
    },
    {
      "cell_type": "code",
      "source": [],
      "metadata": {
        "id": "vDF8GoW7bhI_"
      },
      "execution_count": null,
      "outputs": []
    }
  ],
  "metadata": {
    "colab": {
      "provenance": [],
      "toc_visible": true,
      "collapsed_sections": [
        "t1slvTG7dvpV"
      ],
      "include_colab_link": true
    },
    "kernelspec": {
      "display_name": "Python 3 (ipykernel)",
      "language": "python",
      "name": "python3"
    },
    "language_info": {
      "codemirror_mode": {
        "name": "ipython",
        "version": 3
      },
      "file_extension": ".py",
      "mimetype": "text/x-python",
      "name": "python",
      "nbconvert_exporter": "python",
      "pygments_lexer": "ipython3",
      "version": "3.9.7"
    }
  },
  "nbformat": 4,
  "nbformat_minor": 0
}